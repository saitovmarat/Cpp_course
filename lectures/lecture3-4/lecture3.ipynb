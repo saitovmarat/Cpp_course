{
 "cells": [
  {
   "cell_type": "markdown",
   "metadata": {},
   "source": [
    "__Вопросы для повторения:__\n",
    "\n",
    "* Что такое стэк и куча?\n",
    "* Что такое указатель?\n",
    "* `sizeof(int *)`?\n",
    "* `sizeof(int)`?\n",
    "* `sizeof(uint64_t)`?\n",
    "* Куда указывает `p`?\n",
    "\n",
    "    ```c++\n",
    "    std::uint64_t arr[100];\n",
    "    std::uint64_t *p = &arr[0];\n",
    "    p = p + 8;\n",
    "    ```\n",
    "    \n",
    "* Где хранятся данные строк при исполнении программы?\n",
    "\n",
    "```c++\n",
    "const char* s = \"hello world\";\n",
    "\n",
    "std::string s2 = \"London is the capital of Great Britain\";\n",
    "```"
   ]
  },
  {
   "cell_type": "markdown",
   "metadata": {},
   "source": [
    "# Память в С++\n",
    "___"
   ]
  },
  {
   "cell_type": "markdown",
   "metadata": {},
   "source": [
    "## Поговорим про представление памяти в С++\n",
    "\n",
    "### Кеш, оперативная память, стек и куча, выделение и освобождение памяти\n",
    "\n",
    "#### Процессор\n",
    "\n",
    "![img](images/processor.png \"Processor\")"
   ]
  },
  {
   "cell_type": "markdown",
   "metadata": {},
   "source": [
    "#### Арифметика указателей\n",
    "\n",
    "```c++\n",
    "// Просто хранит какой-то адрес\n",
    "void* addr = 0x1000;\n",
    "\n",
    "// Если указатель никуда не ссылается,\n",
    "// надо использовать nullptr\n",
    "void* invalid = nullptr;\n",
    "\n",
    "// Размер указателя, например, 4 - это количество\n",
    "// байт необходимых для размещения адреса\n",
    "size_t size = sizeof(addr); // size == 4\n",
    "\n",
    "// Теперь мы говорим компилятору как\n",
    "// интерпретировать то, на что указывет\n",
    "// указатель\n",
    "char* charPtr = (char*) 0x1000;\n",
    "\n",
    "// Разыменование - получение значения, находящегося \n",
    "// по указанному адресу\n",
    "char c = *charPtr; // c == 1\n",
    "\n",
    "// & - взятие адреса, теперь в charPtrPtr находится\n",
    "// адрес charPtr\n",
    "char** charPtrPtr = &charPtr;\n",
    "\n",
    "int* intPtr = (int*) addr;\n",
    "int i = *intPtr; // i == 0x04030201 (little endian)\n",
    "\n",
    "int* i1 = intPtr;\n",
    "int* i2 = i1 + 2;\n",
    "\n",
    "ptrdiff_t d1 = i2 - i1; // d1 == 2\n",
    "\n",
    "char* c1 = (char*) i1;\n",
    "char* c2 = (char*) i2;\n",
    "\n",
    "ptrdiff_t d2 = c2 - c1; // d2 == 8\n",
    "```\n",
    "\n",
    "```\n",
    "T* + n -> T* + sizeof(T) * n\n",
    "T* - n -> T* - sizeof(T) * n\n",
    "```"
   ]
  },
  {
   "cell_type": "markdown",
   "metadata": {},
   "source": [
    "\n",
    "### Типы памяти\n",
    "\n",
    "#### Стек (Stack)\n",
    "\n",
    "```c++\n",
    "int i = 5;\n",
    "std::string name;\n",
    "char data[5];\n",
    "```\n",
    "> Выделение памяти на стеке очень быстрая, но стек не резиновый\n",
    "\n",
    "#### Куча (Heap)\n",
    "\n",
    "```c++\n",
    "int* i = (int*) malloc(sizeof(int));\n",
    "std::string* name = new std::string();\n",
    "char* data = new char[5];\n",
    "...\n",
    "free(i);\n",
    "delete(name);\n",
    "delete[] data;\n",
    "```\n",
    "Память в куче выделяют new и malloc, есть сторонние менеджеры памяти."
   ]
  },
  {
   "cell_type": "markdown",
   "metadata": {},
   "source": [
    "\n",
    "#### valgrind - санитайзер памяти\n",
    "\n",
    "```c++\n",
    "#include <cstdlib>\n",
    "\n",
    "int main()\n",
    "{\n",
    "    int* data = (int*) malloc(1024);\n",
    "    return 0;\n",
    "}\n",
    "```\n",
    "\n",
    "```\n",
    "valgrind ./mem \n",
    "```\n",
    "\n",
    "```\n",
    "==117392== Memcheck, a memory error detector\n",
    "==117392== Copyright (C) 2002-2015, and GNU GPL'd, by Julian Seward et al.\n",
    "==117392== Using Valgrind-3.11.0 and LibVEX; rerun with -h for copyright info\n",
    "==117392== Command: ./mem\n",
    "==117392== \n",
    "==117392== \n",
    "==117392== HEAP SUMMARY:\n",
    "==117392==     in use at exit: 1,024 bytes in 1 blocks\n",
    "==117392==   total heap usage: 1 allocs, 0 frees, 1,024 bytes allocated\n",
    "==117392== \n",
    "==117392== LEAK SUMMARY:\n",
    "==117392==    definitely lost: 1,024 bytes in 1 blocks\n",
    "==117392==    indirectly lost: 0 bytes in 0 blocks\n",
    "==117392==      possibly lost: 0 bytes in 0 blocks\n",
    "==117392==    still reachable: 0 bytes in 0 blocks\n",
    "==117392==         suppressed: 0 bytes in 0 blocks\n",
    "==117392== Rerun with --leak-check=full to see details of leaked memory\n",
    "==117392== \n",
    "==117392== For counts of detected and suppressed errors, rerun with: -v\n",
    "==117392== ERROR SUMMARY: 0 errors from 0 contexts (suppressed: 0 from 0)\n",
    "```"
   ]
  },
  {
   "cell_type": "markdown",
   "metadata": {},
   "source": [
    "\n",
    "Основное:\n",
    "- new то же, что и malloc, только дополнительно вызывает конструкторы\n",
    "- Внутри malloc есть буфер, если в буфере есть место, ваш вызов может выполниться быстро\n",
    "- Если памяти в буфере нет, будет запрошена память у ОС (sbrk, VirtualAlloc) - это дорого\n",
    "- ОС выделяет память страницами от 4Кб, а может быть и все 2Мб\n",
    "- Стандартные аллокаторы универсальные, то есть должны быть потокобезопасны, быть одинаково эффективны для блоков разной длины, и 10 байт и 100Мб. Плата за универсальность - быстродействие\n"
   ]
  },
  {
   "cell_type": "markdown",
   "metadata": {},
   "source": [
    "#### Глобальная память (data segment)\n",
    "\n",
    "```c++\n",
    "static const int i = 5;\n",
    "static std::string name;\n",
    "extern char data[5];\n",
    "```\n",
    "> Если не удастся разместить блок глобальной памяти, то программа даже не запустится"
   ]
  },
  {
   "cell_type": "markdown",
   "metadata": {},
   "source": [
    "\n",
    "### Массивы\n",
    "\n",
    "```c++\n",
    "T array[maxColumns];\n",
    "T value = array[x];\n",
    "```\n",
    "\n",
    "> Значение в квадратных скобках должно быть известно на этапе компиляции, увы"
   ]
  },
  {
   "cell_type": "markdown",
   "metadata": {},
   "source": [
    "\n",
    "```c++\n",
    "int data[] = { 1, 2, 3 };\n",
    "int i = data[2];\n",
    "```\n",
    "\n",
    "Фактически - это вычисление смещения:\n",
    "\n",
    "```c++\n",
    "ptr = data;\n",
    "ptr = ptr + 2 * sizeof(int);\n",
    "i = *ptr;\n",
    "```"
   ]
  },
  {
   "cell_type": "markdown",
   "metadata": {},
   "source": [
    "\n",
    "Массив - непрерывный блок байт в памяти, sizeof(data) вернет размер массива в байтах (не элементах!). Размер массива в элементах можно вычислить: sizeof(data) / sizeof(data[0])\n",
    "\n",
    "```c++\n",
    "int* data = new int[10];\n",
    "int i = data[2];\n",
    "delete[] data;\n",
    "```"
   ]
  },
  {
   "cell_type": "markdown",
   "metadata": {},
   "source": [
    "\n",
    "##### Массив <-> указатель\n",
    "\n",
    "```c++\n",
    "int i[] = { 1, 2, 3 };\n",
    "int* j = i;\n",
    "using array = int*;\n",
    "array k = (array) j;\n",
    "```"
   ]
  },
  {
   "cell_type": "markdown",
   "metadata": {},
   "source": [
    "### Двумерные массивы\n",
    "\n",
    "```c++\n",
    "T array[maxRows][maxColumns];\n",
    "T value = array[y][x];\n",
    "```\n",
    "\n",
    "```c++\n",
    "int data[][2] = { { 1, 2 },  { 3, 4 }, { 5, 6 } };\n",
    "int i = data[2][1];\n",
    "```\n",
    "\n",
    "Фактически:\n",
    "\n",
    "```c++\n",
    "ptr = data;\n",
    "ptr = ptr + maxColumns * sizeof(int) * 2 + 1;\n",
    "i = *ptr;\n",
    "```"
   ]
  },
  {
   "cell_type": "markdown",
   "metadata": {},
   "source": [
    "##### Массив <-> указатель\n",
    "```c++\n",
    "int i[][2] = { { 1, 2 }, { 3, 4 }, { 5, 6 } };\n",
    "int* j = (int*) i;\n",
    "using matrix = int(*)[2];\n",
    "matrix k = (matrix) j;\n",
    "```"
   ]
  },
  {
   "cell_type": "markdown",
   "metadata": {},
   "source": [
    "___"
   ]
  },
  {
   "cell_type": "markdown",
   "metadata": {},
   "source": [
    "\n",
    "```c++\n",
    "#include <iostream>\n",
    "#include <cstdint>\n",
    "\n",
    "int global = 0;\n",
    "\n",
    "int main()\n",
    "{\n",
    "    int* heap = (int*) malloc(sizeof(int));\n",
    "\n",
    "    std::cout << std::hex << (uint64_t) main << '\\n';\n",
    "    std::cout << std::hex << (uint64_t) &global << '\\n';\n",
    "    std::cout << std::hex << (uint64_t) heap << '\\n';\n",
    "    std::cout << std::hex << (uint64_t) &heap << '\\n';\n",
    "\n",
    "    // hack, how to not close terminal of your program\n",
    "    char c;\n",
    "    std::cin >> c;\n",
    "    return 0;\n",
    "}\n",
    "```"
   ]
  },
  {
   "cell_type": "code",
   "execution_count": 3,
   "metadata": {},
   "outputs": [
    {
     "name": "stdout",
     "output_type": "stream",
     "text": [
      "55d676648229\n",
      "55d67664b27c\n",
      "55d677775eb0\n",
      "7ffd3c4e07e0\n",
      "^C\n"
     ]
    }
   ],
   "source": [
    "!g++ -O0 mem.cpp -o mem --std=c++11 && ./mem"
   ]
  },
  {
   "cell_type": "code",
   "execution_count": null,
   "metadata": {},
   "outputs": [],
   "source": [
    "!ps ax | grep mem"
   ]
  },
  {
   "cell_type": "markdown",
   "metadata": {},
   "source": [
    "\n",
    "##### /proc/.../maps\n",
    "\n",
    "```\n",
    "ps ax | grep mem\n",
    "```\n",
    "\n",
    "```\n",
    "00400000-00401000 r-xp 00000000 08:01 2362492\n",
    "        /home/mt/work/tmp/mem\n",
    "00601000-00602000 r--p 00001000 08:01 2362492\n",
    "        /home/mt/work/tmp/mem\n",
    "00602000-00603000 rw-p 00002000 08:01 2362492\n",
    "        /home/mt/work/tmp/mem\n",
    "0189c000-018ce000 rw-p 00000000 00:00 0\n",
    "        [heap]\n",
    "7f66aaa53000-7f66aabc5000 r-xp 00000000 08:01 6826866\n",
    "        /usr/lib/x86_64-linux-gnu/libstdc++.so.6.0.21\n",
    "7f66aadc5000-7f66aadcf000 r--p 00172000 08:01 6826866\n",
    "        /usr/lib/x86_64-linux-gnu/libstdc++.so.6.0.21\n",
    "7f66aadcf000-7f66aadd1000 rw-p 0017c000 08:01 6826866\n",
    "        /usr/lib/x86_64-linux-gnu/libstdc++.so.6.0.21\n",
    "7ffd55900000-7ffd55921000 rw-p 00000000 00:00 0\n",
    "        [stack]\n",
    "7ffd55952000-7ffd55954000 r--p 00000000 00:00 0\n",
    "        [vvar]\n",
    "7ffd55954000-7ffd55956000 r-xp 00000000 00:00 0\n",
    "        [vdso]\n",
    "ffffffffff600000-ffffffffff601000 r-xp 00000000 00:00 0\n",
    "        [vsyscall]\n",
    "```"
   ]
  },
  {
   "cell_type": "markdown",
   "metadata": {},
   "source": [
    "#### Виртуальная память\n",
    "\n",
    "![](images/virtual_memory.png)\n",
    "\n",
    "- Память делится на страницы\n",
    "- Страница может находится в оперативной памяти или на внешнем носителе\n",
    "- Трансляция из физического адреса в виртуальный и обратно выполняется через специальные таблицы: PGD (Page Global Directory), PMD (Page Middle Directory) и PTE (Page Table Entry). В PTE хранятся физические адреса страниц\n",
    "- Для ускорения трансляции адресов процессор хранит в кеше таблицу TLB (Translation lookaside buffer)\n",
    "- Если обращение к памяти не может быть оттранслировано через TLB, процессор обращается к таблицам страниц и пытается загрузить PTE оттуда в TLB. Если загрузка не удалась, процессор вызывает прерывание Page Fault\n",
    "- Обработчик прерывания Page Fault находится в подсистеме виртуальной памяти ядра ОС и может загрузить требуемую страницу с внешнего носителя в оперативную память\n"
   ]
  },
  {
   "cell_type": "markdown",
   "metadata": {},
   "source": [
    "```\n",
    "1 такт = 1 / частота процессора\n",
    "1 / 3 GHz = 0.3 ns\n",
    "                                             0.3 ns\n",
    "L1 cache reference                           0.5 ns\n",
    "Branch mispredict                            5   ns\n",
    "```\n",
    "> Неудачный if ()\n",
    "```\n",
    "L2 cache reference                           7   ns\n",
    "Mutex lock/unlock                           25   ns\n",
    "Main memory reference                      100   ns\n",
    "```\n",
    "> Кроме задержки (latency) есть понятие пропускной способности (throughput, bandwidth). В случае чтения из RAM - 10-50 Gb/sec\n",
    "```\n",
    "Compress 1K bytes with Zippy             3,000   ns\n",
    "Send 1K bytes over 1 Gbps network       10,000   ns\n",
    "Read 4K randomly from SSD              150,000   ns\n",
    "Read 1 MB sequentially from memory     250,000   ns\n",
    "Round trip within same datacenter      500,000   ns\n",
    "Read 1 MB sequentially from SSD      1,000,000   ns\n",
    "HDD seek                            10,000,000   ns\n",
    "Read 1 MB sequentially from HDD     20,000,000   ns\n",
    "Send packet CA->Netherlands->CA    150,000,000   ns\n",
    "```\n",
    "Источник: [https://gist.github.com/jboner/2841832](https://gist.github.com/jboner/2841832)\n",
    "\n",
    "Иллюстрация: [https://github.com/Kobzol/hardware-effects](https://github.com/Kobzol/hardware-effects)"
   ]
  },
  {
   "cell_type": "markdown",
   "metadata": {},
   "source": [
    "### Выводы из таблицы\n",
    "1. Стараться укладывать данные в кеш\n",
    "2. Минимизировать скачки по памяти\n",
    "3. В условиях основной веткой делать ветку которая выполняется с большей вероятностью\n",
    "\n",
    "## Вопросы?\n",
    "___"
   ]
  },
  {
   "cell_type": "markdown",
   "metadata": {},
   "source": [
    "# Задача\n",
    "### На входе 3х мерная матрица вида:\n",
    "1 2 3\n",
    "4 5 6\n",
    "7 8 9\n",
    "### считывать значения матрицы со стандартного ввода\n",
    "### задача \n",
    "* посчитать квадрат суммы всех элементов матрицы и вывести на экран с подписью\n",
    "* транспонировать матрицу (может быть не сразу понятно как). Если не понятно поменять первую и третью строки местами\n",
    "* вывести получившуюся матрицу во входном формате"
   ]
  },
  {
   "cell_type": "markdown",
   "metadata": {},
   "source": [
    "> ### одно из решений задачив файле matrix.cpp"
   ]
  }
 ],
 "metadata": {
  "kernelspec": {
   "display_name": "Python 3",
   "language": "python",
   "name": "python3"
  },
  "language_info": {
   "codemirror_mode": {
    "name": "ipython",
    "version": 3
   },
   "file_extension": ".py",
   "mimetype": "text/x-python",
   "name": "python",
   "nbconvert_exporter": "python",
   "pygments_lexer": "ipython3",
   "version": "3.10.12"
  }
 },
 "nbformat": 4,
 "nbformat_minor": 2
}
