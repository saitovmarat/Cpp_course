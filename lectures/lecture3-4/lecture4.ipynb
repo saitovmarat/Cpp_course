{
 "cells": [
  {
   "cell_type": "markdown",
   "metadata": {},
   "source": [
    "___"
   ]
  },
  {
   "cell_type": "markdown",
   "metadata": {},
   "source": [
    "\n",
    "```c++\n",
    "#include <iostream>\n",
    "#include <cstdint>\n",
    "\n",
    "int global = 0;\n",
    "\n",
    "int main()\n",
    "{\n",
    "    int* heap = (int*) malloc(sizeof(int));\n",
    "\n",
    "    std::cout << std::hex << (uint64_t) main << '\\n';\n",
    "    std::cout << std::hex << (uint64_t) &global << '\\n';\n",
    "    std::cout << std::hex << (uint64_t) heap << '\\n';\n",
    "    std::cout << std::hex << (uint64_t) &heap << '\\n';\n",
    "\n",
    "    // hack, how to not close terminal of your program\n",
    "    char c;\n",
    "    std::cin >> c;\n",
    "    return 0;\n",
    "}\n",
    "```"
   ]
  },
  {
   "cell_type": "code",
   "execution_count": 3,
   "metadata": {},
   "outputs": [
    {
     "name": "stdout",
     "output_type": "stream",
     "text": [
      "55d676648229\n",
      "55d67664b27c\n",
      "55d677775eb0\n",
      "7ffd3c4e07e0\n",
      "^C\n"
     ]
    }
   ],
   "source": [
    "!g++ -O0 mem.cpp -o mem --std=c++11 && ./mem"
   ]
  },
  {
   "cell_type": "code",
   "execution_count": null,
   "metadata": {},
   "outputs": [],
   "source": [
    "!ps ax | grep mem"
   ]
  },
  {
   "cell_type": "markdown",
   "metadata": {},
   "source": [
    "\n",
    "##### /proc/.../maps\n",
    "\n",
    "```\n",
    "ps ax | grep mem\n",
    "```\n",
    "\n",
    "```\n",
    "00400000-00401000 r-xp 00000000 08:01 2362492\n",
    "        /home/mt/work/tmp/mem\n",
    "00601000-00602000 r--p 00001000 08:01 2362492\n",
    "        /home/mt/work/tmp/mem\n",
    "00602000-00603000 rw-p 00002000 08:01 2362492\n",
    "        /home/mt/work/tmp/mem\n",
    "0189c000-018ce000 rw-p 00000000 00:00 0\n",
    "        [heap]\n",
    "7f66aaa53000-7f66aabc5000 r-xp 00000000 08:01 6826866\n",
    "        /usr/lib/x86_64-linux-gnu/libstdc++.so.6.0.21\n",
    "7f66aadc5000-7f66aadcf000 r--p 00172000 08:01 6826866\n",
    "        /usr/lib/x86_64-linux-gnu/libstdc++.so.6.0.21\n",
    "7f66aadcf000-7f66aadd1000 rw-p 0017c000 08:01 6826866\n",
    "        /usr/lib/x86_64-linux-gnu/libstdc++.so.6.0.21\n",
    "7ffd55900000-7ffd55921000 rw-p 00000000 00:00 0\n",
    "        [stack]\n",
    "7ffd55952000-7ffd55954000 r--p 00000000 00:00 0\n",
    "        [vvar]\n",
    "7ffd55954000-7ffd55956000 r-xp 00000000 00:00 0\n",
    "        [vdso]\n",
    "ffffffffff600000-ffffffffff601000 r-xp 00000000 00:00 0\n",
    "        [vsyscall]\n",
    "```"
   ]
  },
  {
   "cell_type": "markdown",
   "metadata": {},
   "source": [
    "#### Виртуальная память\n",
    "\n",
    "![](images/virtual_memory.png)\n",
    "\n",
    "- Память делится на страницы\n",
    "- Страница может находится в оперативной памяти или на внешнем носителе\n",
    "- Трансляция из физического адреса в виртуальный и обратно выполняется через специальные таблицы: PGD (Page Global Directory), PMD (Page Middle Directory) и PTE (Page Table Entry). В PTE хранятся физические адреса страниц\n",
    "- Для ускорения трансляции адресов процессор хранит в кеше таблицу TLB (Translation lookaside buffer)\n",
    "- Если обращение к памяти не может быть оттранслировано через TLB, процессор обращается к таблицам страниц и пытается загрузить PTE оттуда в TLB. Если загрузка не удалась, процессор вызывает прерывание Page Fault\n",
    "- Обработчик прерывания Page Fault находится в подсистеме виртуальной памяти ядра ОС и может загрузить требуемую страницу с внешнего носителя в оперативную память\n"
   ]
  },
  {
   "cell_type": "markdown",
   "metadata": {},
   "source": [
    "```\n",
    "1 такт = 1 / частота процессора\n",
    "1 / 3 GHz = 0.3 ns\n",
    "                                             0.3 ns\n",
    "L1 cache reference                           0.5 ns\n",
    "Branch mispredict                            5   ns\n",
    "```\n",
    "> Неудачный if ()\n",
    "```\n",
    "L2 cache reference                           7   ns\n",
    "Mutex lock/unlock                           25   ns\n",
    "Main memory reference                      100   ns\n",
    "```\n",
    "> Кроме задержки (latency) есть понятие пропускной способности (throughput, bandwidth). В случае чтения из RAM - 10-50 Gb/sec\n",
    "```\n",
    "Compress 1K bytes with Zippy             3,000   ns\n",
    "Send 1K bytes over 1 Gbps network       10,000   ns\n",
    "Read 4K randomly from SSD              150,000   ns\n",
    "Read 1 MB sequentially from memory     250,000   ns\n",
    "Round trip within same datacenter      500,000   ns\n",
    "Read 1 MB sequentially from SSD      1,000,000   ns\n",
    "HDD seek                            10,000,000   ns\n",
    "Read 1 MB sequentially from HDD     20,000,000   ns\n",
    "Send packet CA->Netherlands->CA    150,000,000   ns\n",
    "```\n",
    "Источник: [https://gist.github.com/jboner/2841832](https://gist.github.com/jboner/2841832)\n",
    "\n",
    "Иллюстрация: [https://github.com/Kobzol/hardware-effects](https://github.com/Kobzol/hardware-effects)"
   ]
  },
  {
   "cell_type": "markdown",
   "metadata": {},
   "source": [
    "### Выводы из таблицы\n",
    "1. Стараться укладывать данные в кеш\n",
    "2. Минимизировать скачки по памяти\n",
    "3. В условиях основной веткой делать ветку которая выполняется с большей вероятностью\n",
    "___\n"
   ]
  },
  {
   "cell_type": "markdown",
   "metadata": {},
   "source": [
    "```C++\n",
    "Вопрос с предыдущей пары:\n",
    "sizeof(array);\n",
    "\n",
    "int i[][2] = { { 1, 2 }, { 3, 4 }, { 5, 6 } };\n",
    "sizeof(i); // == 24 ?\n",
    "\n",
    "int i[][2] = { { 1, 2 }, { 3, 4 }, { 5, 6 }, { 7, 8 } };\n",
    "sizeof(i); // == 32 ?\n",
    "\n",
    "int i[][3] = { { 1, 2 }, { 3, 4 }, { 5, 6 }};\n",
    "sizeof(i); // == 36 ?\n",
    "\n",
    "int i[][3] = { { 1, 2 }, { 3, 4 }, { 5, 6 }};\n",
    "sizeof(i[1]); // == 12 ?\n",
    "\n",
    "```\n",
    "\n",
    "```C++\n",
    "int i[][2] = { { 1, 2 }, { 3, 4 }, { 5, 6 } };\n",
    "int* j = (int*) i;\n",
    "j[5] // ?? \n",
    "j[6] // ?? (ниже вывод)\n",
    "\n",
    "\n",
    "using matrix = int(*)[2];\n",
    "matrix k = (matrix) i;\n",
    "k[5] // ??\n",
    "```"
   ]
  },
  {
   "cell_type": "markdown",
   "metadata": {},
   "source": [
    "g++ -c main.cpp\n",
    "g++ main.o -o main\n",
    "./main\n",
    "j[5]=6\n",
    "j[6]=249830912\n",
    "k[0]=0x7ffc86634f10\n",
    "k[0][1]=2"
   ]
  },
  {
   "cell_type": "markdown",
   "metadata": {},
   "source": [
    "### !!! Рассмотреть код решённых задач "
   ]
  },
  {
   "cell_type": "markdown",
   "metadata": {},
   "source": [
    "___"
   ]
  },
  {
   "cell_type": "markdown",
   "metadata": {},
   "source": [
    "### Классы управления памятью и областью видимости в C++\n",
    "\n",
    "Характеризуются тремя понятиями:\n",
    "1. **Время жизни**\n",
    "> Продолжительность хранения данных в памяти\n",
    "2. **Область видимости**\n",
    "> Части кода из которых можно получить доступ к данным\n",
    "3. **Связывание (linkage)**\n",
    "> Если к данным можно обратиться из другой единицы трансляции — связывание внешнее (external), иначе связывание внутреннее (internal)\n"
   ]
  },
  {
   "cell_type": "markdown",
   "metadata": {},
   "source": [
    "#### Автоматический/регистровый (register)\n",
    "\n",
    "| Время жизни | Область видимости | Связывание |\n",
    "| --- | --- | --- |\n",
    "| Автоматическое (блок) | Блок | Отсутствует |\n",
    "\n",
    "```c++\n",
    "{\n",
    "\tint i = 5;\n",
    "}\n",
    "\n",
    "if (true)\n",
    "{\n",
    "\tregister int j = 3;\n",
    "}\n",
    "\n",
    "for (int k = 0; k < 7; ++k)\n",
    "{\n",
    "}\n",
    "```"
   ]
  },
  {
   "cell_type": "markdown",
   "metadata": {},
   "source": [
    "#### Статический без связывания\n",
    "\n",
    "| Время жизни | Область видимости | Связывание |\n",
    "| --- | --- | --- |\n",
    "| Статическое | Блок | Отсутствует |\n",
    "\n",
    "```c++\n",
    "void foo()\n",
    "{\n",
    "\t// где лежит переменная?\n",
    "\tstatic int j = 3;\n",
    "}\n",
    "```\n",
    "\n",
    "```c++\n",
    "// например\n",
    "int counter()\n",
    "{\n",
    "\tstatic int j = 3;\n",
    "\tj++;\n",
    "\treturn j;\n",
    "}\n",
    "```\n",
    "\n",
    "> Инициализируется при первом обращении\n"
   ]
  },
  {
   "cell_type": "markdown",
   "metadata": {},
   "source": [
    "#### Статический с внутренним связыванием\n",
    "\n",
    "| Время жизни | Область видимости | Связывание |\n",
    "| --- | --- | --- |\n",
    "| Статическое | Файл | Внутреннее |"
   ]
  },
  {
   "cell_type": "markdown",
   "metadata": {},
   "source": [
    "> math.cpp\n",
    "```c++\n",
    "static float pi_value = 3.1415;\n",
    "\n",
    "float getPi()\n",
    "{\n",
    "    return pi_value;\n",
    "}\n",
    "```\n",
    "> math.h\n",
    "```C++\n",
    "float getPi();\n",
    "```\n",
    "\n",
    "> main.cpp\n",
    "```c++\n",
    "#include <iostream>\n",
    "#include \"math.h\"\n",
    "int main()\n",
    "{\n",
    "    std::cout << getPi(); // no access to `pi_value`\n",
    "    return 0;\n",
    "}\n",
    "```\n",
    "\n",
    "> Инициализируется до входа в main"
   ]
  },
  {
   "cell_type": "markdown",
   "metadata": {},
   "source": [
    "#### Статический с внешним связыванием\n",
    "\n",
    "| Время жизни | Область видимости | Связывание |\n",
    "| --- | --- | --- |\n",
    "| Статическое | Файл | Внешнее |\n",
    "\n",
    "```c++\n",
    "// *.cpp\n",
    "int i = 0;\n",
    "```\n",
    "```c++\n",
    "// *.h\n",
    "extern int i;\n",
    "```\n",
    "> Инициализируется в cpp файле. Опасно, т.к. видно во всей программе\n"
   ]
  },
  {
   "cell_type": "markdown",
   "metadata": {},
   "source": [
    "### Зантяие 3. Функции, пространства имён"
   ]
  },
  {
   "cell_type": "markdown",
   "metadata": {},
   "source": [
    "### Пространства имен\n",
    "\n",
    "Проблема:\n",
    "\n",
    "```c++\n",
    "// math.h\n",
    "double cos(double x);\n",
    "```\n",
    "\n",
    "```c++\n",
    "// ваш код\n",
    "double cos(double x);\n",
    "```\n",
    "\n",
    "##### Решение в стиле С:\n",
    "\n",
    "```c++\n",
    "// ваш код\n",
    "double fastCos(double x);\n",
    "```\n",
    "\n",
    "##### Решение:\n",
    "\n",
    "```c++\n",
    "namespace fast\n",
    "{\n",
    "    double cos(double x);\n",
    "}\n",
    "\n",
    "fast::cos(x);\n",
    "cos(x); // вызов из math.h\n",
    "```\n",
    "\n",
    "#### Поиск имен\n",
    "\n",
    "- Проверка в текущем namespace\n",
    "- Если имени нет и текущий namespace глобальный - ошибка\n",
    "- Рекурсивно поиск в родительском namespace"
   ]
  },
  {
   "cell_type": "markdown",
   "metadata": {},
   "source": [
    "\n",
    "```c++\n",
    "void foo() {} // ::foo - :: глобальный неймспейс\n",
    "\n",
    "namespace A\n",
    "{\n",
    "    void foo() {} // A::foo\n",
    "\n",
    "    namespace B\n",
    "    {\n",
    "        void bar() // A::B::foo\n",
    "        {\n",
    "            foo(); // == A::foo\n",
    "            ::foo(); // foo()\n",
    "        }\n",
    "    }\n",
    "}\n",
    "```"
   ]
  },
  {
   "cell_type": "markdown",
   "metadata": {},
   "source": [
    "\n",
    "#### Ключевое слово using\n",
    "\n",
    "Добавляет имена из указанного namespace в текущий namespace.\n",
    "\n",
    "```c++\n",
    "void foo()\n",
    "{\n",
    "    using namespace A;\n",
    "    // видимо все из A\n",
    "}\n",
    "```\n",
    "\n",
    "```c++\n",
    "void foo()\n",
    "{\n",
    "    using namespace A::foo;\n",
    "    // видима только A::foo()\n",
    "}\n",
    "```\n",
    "\n",
    "```c++\n",
    "void foo()\n",
    "{\n",
    "    namespace ab = A::B;\n",
    "    ab::bar(); // A::B::bar()\n",
    "}\n",
    "```"
   ]
  },
  {
   "cell_type": "markdown",
   "metadata": {},
   "source": [
    "\n",
    "##### using может приводить к проблемам\n",
    "\n",
    "```c++\n",
    "using namespace fast;\n",
    "\n",
    "cos(x); // ???\n",
    "cos(x); // ???\n",
    "```\n",
    "\n",
    "> Не используйте using namespace в заголовочных файлах!"
   ]
  },
  {
   "cell_type": "markdown",
   "metadata": {},
   "source": [
    "**Пример 1:**\n",
    "\n",
    "**Замечание:** `using namespace X` - заполнить текущее пространство имён до закрывающей скобки именами из пространства X.\n",
    "Вызывающая программа:\n",
    "\n",
    "```c++\n",
    "#include \"json_parser.h\"\n",
    "\n",
    "int main()\n",
    "{\n",
    "    std::string s = \"123\";\n",
    "\n",
    "    // не скомпилируется, т.к. в глобальном пространстве имён нет функции read_int\n",
    "    std::cout << read_int(s);\n",
    "    \n",
    "    // скомпилируется\n",
    "    std::cout << json_parser::input_processing::read_int(s);\n",
    "    \n",
    "    // скомпилируется, т.к. глобальное пространство имён расширено\n",
    "    using namespace json_parser::input_processing;\n",
    "    std::cout << read_int(s);\n",
    "    \n",
    "    return 0;    \n",
    "}\n",
    "```\n",
    "\n",
    "**Пример 2:**\n",
    "\n",
    "```c++\n",
    "int main() {\n",
    "    std::cout << 1 << std::string(\"23\");\n",
    "    return 0;\n",
    "}\n",
    "```\n",
    "\n",
    "или\n",
    "\n",
    "```c++\n",
    "using namespace std; \n",
    "// имена из std доступны в глобальном пространстве имён до конца файла\n",
    "\n",
    "int main() {\n",
    "    cout << 1 << string(\"23\");\n",
    "    return 0;\n",
    "}\n",
    "```\n",
    "\n",
    "или\n",
    "\n",
    "```c++\n",
    "int main()\n",
    "{\n",
    "    using namespace std; \n",
    "    // имена из std доступны в глобальном пространстве имён до конца main\n",
    "\n",
    "    cout << 1 << string(\"23\");\n",
    "    return 0;\n",
    "}\n",
    "```"
   ]
  },
  {
   "cell_type": "markdown",
   "metadata": {},
   "source": [
    "___"
   ]
  },
  {
   "cell_type": "markdown",
   "metadata": {},
   "source": [
    "\n",
    "### Ссылки\n",
    "\n",
    "Ссылка - псевдоним объекта.\n",
    "\n",
    "Главное отличие от указателя - ссылка должна быть проинициализирована при объявлении и до конца своей жизни ссылается только на один объект.\n",
    "\n",
    "```c++\n",
    "int a = 1;\n",
    "int b = 2;\n",
    "int* ptr = nullptr;\n",
    "ptr = &a;\n",
    "ptr = &b;\n",
    "int& ref; // Ошибка\n",
    "int& ref = a; // ref ссылается на a\n",
    "ref = 5; // Теперь a == 5\n",
    "ref = b; // ref не стала указывать на b,\n",
    "         // мы просто скопировали значение из b в a\n",
    "ref = 7; // a == 7, b == 2\n",
    "```\n",
    "```c++\n",
    "int a = 2;\n",
    "int* ptr = nullptr;\n",
    "int*& ptrRef = ptr; // ptrRef ссылается на ptr\n",
    "ptrRef = &a; // теперь ptr хранит адрес a\n",
    "```\n"
   ]
  },
  {
   "cell_type": "markdown",
   "metadata": {},
   "source": [
    "\n",
    "### Передача аргументов в функции\n",
    "\n",
    "#####  По значению\n",
    "\n",
    "```c++\n",
    "void foo(int x)\n",
    "{\n",
    "    x = 3;\n",
    "}\n",
    "\n",
    "int x = 1;\n",
    "foo(x);\n",
    "// x == 1\n",
    "\n",
    "void bar(BigObject o) { ... }\n",
    "```\n",
    "\n",
    "- В функции окажется копия объекта, ее изменение не отразится на оригинальном объекте\n",
    "- Копировать большие объекты может оказаться накладно\n"
   ]
  },
  {
   "cell_type": "markdown",
   "metadata": {},
   "source": [
    "\n",
    "##### По ссылке\n",
    "\n",
    "```c++\n",
    "void foo(int& x)\n",
    "{\n",
    "    x = 3;\n",
    "}\n",
    "\n",
    "int x = 1;\n",
    "foo(x);\n",
    "// x == 3\n",
    "\n",
    "void bar(BigObject& o) { ... }\n",
    "```\n",
    "\n",
    "- Копирования не происходит, все изменения объекта внутри функции отражаются на объекте\n",
    "- Следует использовать, если надо изменить объект внутри функции\n",
    "\n",
    "```c++\n",
    "void swap(int& x, int& y)\n",
    "{\n",
    "    int tmp = x;\n",
    "    x = y;\n",
    "    y = tmp;\n",
    "}\n",
    "```"
   ]
  },
  {
   "cell_type": "markdown",
   "metadata": {},
   "source": [
    "\n",
    "##### По константной ссылке\n",
    "\n",
    "```c++\n",
    "void foo(const int& x)\n",
    "{\n",
    "    x = 3; // ошибка компиляции\n",
    "}\n",
    "\n",
    "void bar(const BigObject& o) { ... }\n",
    "```\n",
    "- Копирования не происходит, при попытке изменения объекта будет ошибка\n",
    "- Большие объекты выгодней передавать по ссылке, маленькие - наоборот\n"
   ]
  },
  {
   "cell_type": "markdown",
   "metadata": {},
   "source": [
    "\n",
    "```c++\n",
    "int countObject(time_t* fromDate, time_t* toDate)\n",
    "{\n",
    "    const auto begin =\n",
    "        fromDate == nullptr\n",
    "            ? objects_.begin()\n",
    "            : objects_.findFirst(fromDate);\n",
    "}\n",
    "```"
   ]
  },
  {
   "cell_type": "markdown",
   "metadata": {},
   "source": [
    "\n",
    "##### По универсальной ссылке\n",
    "\n",
    "```c++\n",
    "void foo(int&& x) { ... }\n",
    "void bar(BigObject&& o) { ... }\n",
    "```\n",
    "Поговорим позже"
   ]
  },
  {
   "cell_type": "markdown",
   "metadata": {},
   "source": [
    "\n",
    "##### Перегрузка функций\n",
    "\n",
    "```c++\n",
    "void print(int x) // 1\n",
    "{\n",
    "    std::cout << x << std::endl;\n",
    "}\n",
    "\n",
    "void print(bool x) // 2\n",
    "{\n",
    "    std::cout << (x ? \"true\" : \"false\") << std::endl;\n",
    "}\n",
    "\n",
    "print(10); // 1\n",
    "print(true); // 2\n",
    "```"
   ]
  },
  {
   "cell_type": "markdown",
   "metadata": {},
   "source": [
    "\n",
    "##### Опасность перегрузки\n",
    "\n",
    "```c++\n",
    "void print(const std::string& x) // 3\n",
    "{\n",
    "    std::cout << \"string\" << std::endl;\n",
    "}\n",
    "\n",
    "print(\"hello!\"); // 2 const char* приводится к bool, потому что приводимость ищется сначала среди базовых типов\n",
    "```\n",
    "\n",
    "> Перегруженная функция - декорированная функция"
   ]
  },
  {
   "cell_type": "markdown",
   "metadata": {},
   "source": [
    "```c++\n",
    "std::string convert_to_string(int x);       // 1\n",
    "std::string convert_to_string(unsigned x);  // 2\n",
    "std::string convert_to_string(float x);     // 3\n",
    "\n",
    "std::cout << convert_to_string(5);    // 1\n",
    "std::cout << convert_to_string(5u);   // 2\n",
    "std::cout << convert_to_string(5.f);  // 3\n",
    "```\n",
    "\n",
    "Для такого набора функций `convert_to_string` компилятор (clang 10.0) сгенерирует символы:\n",
    "* `_Z17convert_to_stringB5cxx11i`\n",
    "* `_Z17convert_to_stringB5cxx11j`\n",
    "* `_Z17convert_to_stringB5cxx11f`\n",
    "\n",
    "Т.е. тип аргумента - часть имени функции при компиляции."
   ]
  },
  {
   "cell_type": "markdown",
   "metadata": {},
   "source": [
    "\n",
    "#### Указатель на функцию\n",
    "\n",
    "```c++\n",
    "void foo(int x)\n",
    "{\n",
    "}\n",
    "\n",
    "typedef void (*FooPtr)(int);\n",
    "\n",
    "FooPtr ptr = foo;\n",
    "ptr(5);\n",
    "```\n",
    "\n",
    "```c++\n",
    "using FooPtr = void(*)(int);\n",
    "```"
   ]
  },
  {
   "cell_type": "markdown",
   "metadata": {},
   "source": [
    "\n",
    "### Лямбда-функции\n",
    "\n",
    "```c++\n",
    "auto lessThen3 = [](int x) { return x < 3; };\n",
    "\n",
    "if (lessThen3(x)) { ... }\n",
    "\n",
    "auto it_element = std::find(vec.begin(), vector.end(), lessThen3)\n",
    "```\n",
    "##### Синтаксис\n",
    "\n",
    "```c++\n",
    "[список_захвата](список_параметров) { тело_функции }\n",
    "```\n",
    "```c++\n",
    "[список_захвата](список_параметров) -> тип_возвращаемого_значения\n",
    "{ тело_функции }\n",
    "```"
   ]
  },
  {
   "cell_type": "markdown",
   "metadata": {},
   "source": [
    "___"
   ]
  },
  {
   "cell_type": "markdown",
   "metadata": {},
   "source": [
    "##### Передача аргументов в функцию"
   ]
  },
  {
   "cell_type": "markdown",
   "metadata": {},
   "source": [
    "Передача по значению - создание копии аргумента"
   ]
  },
  {
   "cell_type": "markdown",
   "metadata": {},
   "source": [
    "```c++\n",
    "float min_value(std::vector<float> x);\n",
    "```"
   ]
  },
  {
   "cell_type": "markdown",
   "metadata": {},
   "source": [
    "Передача по ссылке - работа с аргументом"
   ]
  },
  {
   "cell_type": "markdown",
   "metadata": {},
   "source": [
    "```c++\n",
    "float min_value(std::vector<float>& x);\n",
    "```"
   ]
  },
  {
   "cell_type": "markdown",
   "metadata": {},
   "source": [
    "Передача по const-ссылке - работа с аргументом и запрет на модификацию"
   ]
  },
  {
   "cell_type": "markdown",
   "metadata": {},
   "source": [
    "```c++\n",
    "float min_value(const std::vector<float>& x);\n",
    "```"
   ]
  },
  {
   "cell_type": "markdown",
   "metadata": {},
   "source": [
    "**Упражнение:** что здесь происходит с аргументами?\n",
    "\n",
    "```c++\n",
    "float sqr(const float x);\n",
    "\n",
    "float min_value(std::vector<float>* x);\n",
    "float min_value(const std::vector<float>* x);\n",
    "float min_value(std::vector<float>* const x);\n",
    "```"
   ]
  },
  {
   "cell_type": "markdown",
   "metadata": {},
   "source": [
    "**Вопрос:** Когда лучше передавать по значению, а когда - по ссылке?"
   ]
  },
  {
   "cell_type": "markdown",
   "metadata": {},
   "source": [
    "<br />"
   ]
  },
  {
   "cell_type": "markdown",
   "metadata": {},
   "source": [
    "##### Возвращаемое значение"
   ]
  },
  {
   "cell_type": "markdown",
   "metadata": {},
   "source": [
    "Функция ничего не возвращает:\n",
    "\n",
    "```c++\n",
    "void say_hello(const std::string& name)\n",
    "{\n",
    "    std::cout << \"hello, \" << name;\n",
    "}\n",
    "```"
   ]
  },
  {
   "cell_type": "markdown",
   "metadata": {},
   "source": [
    "Возврат результата через возвращаемое значение (предпочтительный вариант):\n",
    "\n",
    "```c++\n",
    "std::vector<std::string> make_team()\n",
    "{\n",
    "    return { \"Bifur\", \"Bofur\", \"Bombur\", \"Oin\",\n",
    "             \"Gloin\", \"Fili\", \"Nori\", \"Dori\",\n",
    "             \"Dwalin\", \"Ori\", \"Balin\", \"Kili\" };\n",
    "}\n",
    "```"
   ]
  },
  {
   "cell_type": "markdown",
   "metadata": {},
   "source": [
    "Возврат результата через аргумент (менее предпочтительный вариант в силу меньшей читаемости):\n",
    "\n",
    "```c++\n",
    "bool append_teamlead(Point3D location, std::vector<std::string>& team)\n",
    "{\n",
    "    if (is_inside(location, get_village(\"Shire\")))\n",
    "    {\n",
    "        team.push_back(\"Thorin\");\n",
    "        return true;\n",
    "    }\n",
    "    return false;\n",
    "}\n",
    "```"
   ]
  },
  {
   "cell_type": "markdown",
   "metadata": {},
   "source": [
    "Сравните:\n",
    "    \n",
    "```c++\n",
    "// легко читается, что есть результат функции\n",
    "std::vector<std::string> team = make_team();\n",
    "\n",
    "// не очевидно, что результатом функции является\n",
    "// изменение второго аргумента, нужно лезть в\n",
    "// документацию или реализацию, чтобы понять\n",
    "// замысел автора\n",
    "append_teamlead(get_current_location(), team);\n",
    "\n",
    "```"
   ]
  },
  {
   "cell_type": "markdown",
   "metadata": {},
   "source": [
    "<br />"
   ]
  },
  {
   "cell_type": "markdown",
   "metadata": {},
   "source": [
    "##### Ошибки при работе с аргументами и возвращаемыми значениями"
   ]
  },
  {
   "cell_type": "markdown",
   "metadata": {},
   "source": [
    "```c++\n",
    "std::string* find_dwarf(const std::vector<std::string>& team, const std::string& name)\n",
    "{\n",
    "    for (const std::string& dwarf : team)\n",
    "        if (dwarf == name)\n",
    "            return &dwarf;\n",
    "    return nullptr;\n",
    "}\n",
    "\n",
    "// usage 1\n",
    "std::vector<std::string> team = make_team();\n",
    "if (std::string* ptr = find_dwarf(team, \"Kuzya\"))\n",
    "    std::cout << *ptr;\n",
    "\n",
    "// usage 2\n",
    "if (std::string* ptr = find_dwarf(make_team(), \"Balin\"))\n",
    "    std::cout << *ptr;  // ???\n",
    "\n",
    "// usage 3\n",
    "if (std::string* ptr = find_dwarf({\"Ori\", \"Gloin\", \"Balin\"}, \"Balin\"))\n",
    "    std::cout << *ptr;  // ???\n",
    "```"
   ]
  },
  {
   "cell_type": "markdown",
   "metadata": {},
   "source": [
    "__Вопрос__: что будет напечатано программой ниже?\n",
    "\n",
    "Показать пример на godbolt.org на clang 8.0.0 с разными оптимизациями, чтобы наглядно продемонстрировать ub"
   ]
  },
  {
   "cell_type": "markdown",
   "metadata": {},
   "source": [
    "```c++\n",
    "#include <iostream>\n",
    "#include <string>\n",
    "\n",
    "const std::string& f(const bool x,\n",
    "                     const std::string& s1,\n",
    "                     const std::string& s2)\n",
    "{\n",
    "    return x ? s1 : s2;\n",
    "}\n",
    "\n",
    "int main()\n",
    "{\n",
    "    const std::string& s = f(true, \"123\", \"12345\");\n",
    "    std::cout << s << endl;\n",
    "    return 0;\n",
    "}\n",
    "```"
   ]
  },
  {
   "cell_type": "markdown",
   "metadata": {},
   "source": [
    "<br />"
   ]
  },
  {
   "cell_type": "markdown",
   "metadata": {},
   "source": [
    "##### Значения аргументов по умолчанию"
   ]
  },
  {
   "cell_type": "markdown",
   "metadata": {},
   "source": [
    "Можно задавать значения аргументов по умолчанию:"
   ]
  },
  {
   "cell_type": "markdown",
   "metadata": {},
   "source": [
    "```c++\n",
    "std::string convert_to_string(int value, int base = 10);\n",
    "```"
   ]
  },
  {
   "cell_type": "markdown",
   "metadata": {},
   "source": [
    "```c++\n",
    "std::string join_strings(const std::vector<std::string>& strings,\n",
    "                         const std::string& sep = \"\\n\");\n",
    "```"
   ]
  },
  {
   "cell_type": "markdown",
   "metadata": {},
   "source": [
    "использование:"
   ]
  },
  {
   "cell_type": "markdown",
   "metadata": {},
   "source": [
    "```c++\n",
    "std::string s1 = convert_to_string(42);    // 42\n",
    "std::string s2 = convert_to_string(42, 2); // 101010\n",
    "\n",
    "std::string song = join_strings({\"In the town where I was born\",\n",
    "                                 \"Lived a man who sailed to sea\",\n",
    "                                 \"And he told us of his life\",\n",
    "                                 \"In the land of submarines\",\n",
    "                                });\n",
    "                                 \n",
    "std::string sentence = join_strings({\"Nobody\",\n",
    "                                     \"expects\",\n",
    "                                     \"the\",\n",
    "                                     \"spanish\",\n",
    "                                     \"inquisition\",\n",
    "                                    },\n",
    "                                    \" \");\n",
    "```"
   ]
  },
  {
   "cell_type": "markdown",
   "metadata": {},
   "source": [
    "Но такие аргументы должны быть последними:"
   ]
  },
  {
   "cell_type": "markdown",
   "metadata": {},
   "source": [
    "```c++\n",
    "std::string join_strings(const std::vector<std::string>& strings,\n",
    "                         const std::string& sep = \"\\n\",\n",
    "                         bool skip_empty_lines);  // compilation ERROR!\n",
    "```"
   ]
  },
  {
   "cell_type": "markdown",
   "metadata": {},
   "source": [
    "```c++\n",
    "std::string join_strings(const std::vector<std::string>& strings,\n",
    "                         const std::string& sep = \"\\n\",\n",
    "                         bool skip_empty_lines = false);  // OK\n",
    "```"
   ]
  }
 ],
 "metadata": {
  "kernelspec": {
   "display_name": "Python 3",
   "language": "python",
   "name": "python3"
  },
  "language_info": {
   "codemirror_mode": {
    "name": "ipython",
    "version": 3
   },
   "file_extension": ".py",
   "mimetype": "text/x-python",
   "name": "python",
   "nbconvert_exporter": "python",
   "pygments_lexer": "ipython3",
   "version": "3.10.12"
  }
 },
 "nbformat": 4,
 "nbformat_minor": 2
}
