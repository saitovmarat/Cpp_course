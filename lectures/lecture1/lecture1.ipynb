{
 "cells": [
  {
   "cell_type": "markdown",
   "metadata": {},
   "source": [
    "##### Примерное содержание первого семестра:\n",
    "\n",
    "От исходного кода до исполняемого файла:\n",
    "* что есть программа на С++\n",
    "* процесс сборки \n",
    "* компилятор и некоторые его опции\n",
    "\n",
    "Свойства языка:\n",
    "* функции и операторы\n",
    "* классы\n",
    "* шаблоны\n",
    "* исключения\n",
    "* умные указатели\n",
    "* стандартные контейнеры и алгоритмы\n",
    "* лямбда-функции\n",
    "\n",
    "Практики разработки:\n",
    "* экосистема С++ проектов\n",
    "* практики производительности\n",
    "* юнит-тестирование: как и чем\n",
    "\n",
    "Алгоритмы ?"
   ]
  },
  {
   "cell_type": "markdown",
   "metadata": {},
   "source": [
    "**Что хотелось бы преподать в рамках курса:**\n",
    "* Основы языка с разбором механизмов. Не только что есть в языке, но и как оно работает.\n",
    "* Общие практики программирования (тестирование, разделение ответственности, упрощение ...).\n",
    "* Стиль С++."
   ]
  },
  {
   "cell_type": "markdown",
   "metadata": {},
   "source": [
    "## Введение\n",
    "\n",
    "Обзор места языка на рынке\n",
    "\n",
    "* Зачем С++? Почему не язык X?\n",
    "    * Высокоуровневый язык с прямым отображением программы на железо\n",
    "        * нет прослойки типа виртуальной машины или интерпретатора\n",
    "        * C++ vs Python?\n",
    "        * С++ vs Java?\n",
    "        * C++ vs Go?\n",
    "    * Программист по умолчанию умный\n",
    "        * на момент создания языка - да\n",
    "        * в 2020-х - нет\n",
    "* Где же ниша С++?\n",
    "    * Примеры областей для использования:\n",
    "        * Игровые движки\n",
    "        * Физические движки\n",
    "        * Браузеры\n",
    "        * Компиляторы\n",
    "        * Backend\n",
    "        * ОС\n",
    "        * Математические пакеты\n",
    "        * Финтех\n",
    "        * ...\n",
    "    * Что их объединяет?\n",
    "* Альтернативы на его нише?\n",
    "    * Rust\n",
    "        * создан на 30+ лет позже С++\n",
    "        * учтён главный недостаток С++: программист по умолчанию больше не умный\n",
    "\n",
    "\n",
    "**Замечание:** вопреки распространённому мнению, С++ уже не является \"надмножеством\" на языком С. Не каждая программа на языке С корректна для С++ (даже не учитывая простейших вещей типа новых ключевых слов). Стандарты С++ и С разошлись со временем. Неполный список расхождений [по стандарту](http://eel.is/c++draft/diff.iso), [по стандартной библиотеке](http://eel.is/c++draft/diff.library).\n"
   ]
  },
  {
   "cell_type": "markdown",
   "metadata": {},
   "source": [
    "## Рекомендуемая литература\n",
    "\n",
    "### Начальный уровень\n",
    "\n",
    "![](book_01.jpg)\n",
    "\n",
    "#### Бьёрн Страуструп «Программирование: принципы и практика использования C++»\n",
    "\n",
    "Книга старая, но довольно основательная.\n",
    "\n",
    "### Продвинутый уровень\n",
    "\n",
    "1. Стивен Дьюхерст, C++. Священные знания\n",
    "2. Скотт Мейерс, смело можно читать все\n",
    "3. Герб Саттер, аналогично\n",
    "\n",
    "### Из относительно свежего\n",
    "\n",
    "![](book_02.jpg)\n",
    "![](book_03.jpg)"
   ]
  },
  {
   "cell_type": "markdown",
   "metadata": {},
   "source": [
    "## Среда разработки\n",
    "\n",
    "В первую очередь выбор операционной системы. \n",
    "\n",
    "Linux, macos, ... Windows\n",
    "\n",
    "Выбор компилятора:\n",
    "\n",
    "**gcc/g++** \\\n",
    "**clang** \\\n",
    "**MSVC C/C++ — Visual Studio**\n",
    "\n",
    "Система сборки:\n",
    "* **Cmake** (самая популярная)\n",
    "* Visual Studio build system (возможно, по желанию)\n",
    "* Meson (при самых хороших раскладах)\n",
    "---\n"
   ]
  },
  {
   "cell_type": "markdown",
   "metadata": {},
   "source": [
    "Редакторы:\n",
    "* Visual Studio Code (Windows | MacOS | Linux | Cloud)\n",
    "* Visaul Studio (Windows)\n",
    "* CLion from JetBrains (Windows | MacOS | Linux) , но $ платно или по студенческой лицензии\n",
    "Не рекомендую:\n",
    "* CodeBlock (простой, но бестолковый для сложных задач)\n",
    "* Eclipse (перегруженный функционалом, т.к. IDE используется не только для С подобных языков)\n",
    "\n",
    "и другие\n",
    "p.s.\n",
    "https://replit.com/languages/cpp\n",
    "___"
   ]
  },
  {
   "cell_type": "markdown",
   "metadata": {},
   "source": [
    "## Препроцессор, компилятор, компоновщик\n",
    "\n",
    "Процесс трансляции исходного кода в виде текстового файла в представление, которое может быть выполнено процессором - сборка.\n",
    "\n",
    "Состоит из 3 этапов:\n",
    "1. Обработка исходного кода препроцессором (preprocessing)\n",
    "2. Компиляция, то есть перевод подготовленного исходного кода в инструкции процессора (объектный файл) (compiling)\n",
    "3. Компоновка - сборка одного или нескольких объектных файлов в один исполняемый файл (linking)\n",
    "\n",
    "---"
   ]
  },
  {
   "cell_type": "markdown",
   "metadata": {},
   "source": [
    "\n",
    "##### square.cpp\n",
    "\n",
    "```c++\n",
    "int square(int value)\n",
    "{\n",
    "    return value * value;\n",
    "}\n",
    "```"
   ]
  },
  {
   "cell_type": "markdown",
   "metadata": {},
   "source": [
    "Это файл с исходным кодом, он содержит определения функций.\n",
    "\n",
    "Компилируются cpp/c/etc файлы, один файл с исходным кодом - один объектный файл. **Это называется единица трансляции.**\n",
    "\n",
    "> Удобный инструмент: [https://godbolt.org](https://godbolt.org)"
   ]
  },
  {
   "cell_type": "markdown",
   "metadata": {},
   "source": [
    "```\n",
    "g++ -c square.cpp\n",
    "```\n",
    "\n",
    "Вывод:\n",
    "\n",
    "```\n",
    "square.o\n",
    "```\n",
    "\n",
    "```\n",
    "objdump -d square.o\n",
    "```\n",
    "\n",
    "```nasm\n",
    "square.o:     file format elf64-x86-64\n",
    "\n",
    "Disassembly of section .text:\n",
    "\n",
    "0000000000000000 <_Z6squarei>:\n",
    "   0:\tf3 0f 1e fa          \tendbr64 \n",
    "   4:\t55                   \tpush   %rbp\n",
    "   5:\t48 89 e5             \tmov    %rsp,%rbp\n",
    "   8:\t89 7d fc             \tmov    %edi,-0x4(%rbp)\n",
    "   b:\t8b 45 fc             \tmov    -0x4(%rbp),%eax\n",
    "   e:\t0f af c0             \timul   %eax,%eax\n",
    "  11:\t5d                   \tpop    %rbp\n",
    "  12:\tc3                   \tret  \n",
    "```"
   ]
  },
  {
   "cell_type": "code",
   "execution_count": 71,
   "metadata": {},
   "outputs": [
    {
     "name": "stdout",
     "output_type": "stream",
     "text": [
      "square.o\n",
      "\n",
      "square.o:     формат файла elf64-x86-64\n",
      "\n",
      "\n",
      "Дизассемблирование раздела .text:\n",
      "\n",
      "0000000000000000 <_Z6squarei>:\n",
      "   0:\tf3 0f 1e fa          \tendbr64 \n",
      "   4:\t55                   \tpush   %rbp\n",
      "   5:\t48 89 e5             \tmov    %rsp,%rbp\n",
      "   8:\t89 7d fc             \tmov    %edi,-0x4(%rbp)\n",
      "   b:\t8b 45 fc             \tmov    -0x4(%rbp),%eax\n",
      "   e:\t0f af c0             \timul   %eax,%eax\n",
      "  11:\t5d                   \tpop    %rbp\n",
      "  12:\tc3                   \tret    \n"
     ]
    }
   ],
   "source": [
    "!g++ -c square.cpp\n",
    "!ls square.o\n",
    "!objdump -d square.o"
   ]
  },
  {
   "cell_type": "markdown",
   "metadata": {},
   "source": [
    "#### Секции\n",
    "\n",
    "Блоки данных в откомпилированном файле. Это может быть:\n",
    "- Код (.text)\n",
    "- Статические данные (.data)\n",
    "- Таблицы строк\n",
    "- Таблицы символов (.symtab)  from *.so"
   ]
  },
  {
   "cell_type": "markdown",
   "metadata": {},
   "source": [
    "![img](stack_and_heap.png \"Стек и куча\")"
   ]
  },
  {
   "cell_type": "markdown",
   "metadata": {},
   "source": [
    "#### Символы\n",
    "\n",
    "То, что находится в объектном файле - кортежи из имени, адреса и свойств:\n",
    "\n",
    "- Имя - произвольная строка\n",
    "- Адрес - число (смещение, адрес)\n",
    "- Свойства"
   ]
  },
  {
   "cell_type": "markdown",
   "metadata": {},
   "source": [
    "#### Декорирование (mangling)\n",
    "\n",
    "В С++ есть перегрузка функций (а еще есть классы), поэтому нужен механизм, чтобы различать перегруженные функции.\n",
    "\n",
    "```c++\n",
    "void print(int value); // _Z5printi\n",
    "void print(const char* value); // _Z5printPKc\n",
    "```\n"
   ]
  },
  {
   "cell_type": "markdown",
   "metadata": {},
   "source": [
    "Инструмент для обратного преобразования:\n",
    "\n",
    "```\n",
    "c++filt _Z5printPKc\n",
    "```\n",
    "\n",
    "```\n",
    "print(char const*)\n",
    "```"
   ]
  },
  {
   "cell_type": "code",
   "execution_count": 72,
   "metadata": {},
   "outputs": [
    {
     "name": "stdout",
     "output_type": "stream",
     "text": [
      "print(char const*)\n"
     ]
    }
   ],
   "source": [
    "!c++filt _Z5printPKc"
   ]
  },
  {
   "cell_type": "markdown",
   "metadata": {},
   "source": [
    "\n",
    "#### extern \"C\"\n",
    "\n",
    "```c++\n",
    "extern \"C\"\n",
    "{\n",
    "    void print(int value); // print\n",
    "}\n",
    "```"
   ]
  },
  {
   "cell_type": "markdown",
   "metadata": {},
   "source": [
    "##### Запускаем Hello world"
   ]
  },
  {
   "cell_type": "markdown",
   "metadata": {},
   "source": [
    "Hello world на С++ и что есть что."
   ]
  },
  {
   "cell_type": "markdown",
   "metadata": {},
   "source": [
    "```c++\n",
    "#include <cstdio>\n",
    "\n",
    "int main()\n",
    "{\n",
    "    std::puts(\"Hello world\");\n",
    "    return 0;\n",
    "}\n",
    "```"
   ]
  },
  {
   "cell_type": "markdown",
   "metadata": {},
   "source": [
    "<br />"
   ]
  },
  {
   "cell_type": "markdown",
   "metadata": {},
   "source": [
    "От текста программы к исполняемому файлу. Зачем нужен компилятор."
   ]
  },
  {
   "cell_type": "code",
   "execution_count": 73,
   "metadata": {},
   "outputs": [
    {
     "name": "stdout",
     "output_type": "stream",
     "text": [
      "#include <cstdio>\n",
      "\n",
      "int main()\n",
      "{\n",
      "    std::puts(\"Hello world\");\n",
      "    return 0;\n",
      "}\n",
      "\n"
     ]
    }
   ],
   "source": [
    "!cat hello_world.cpp"
   ]
  },
  {
   "cell_type": "markdown",
   "metadata": {},
   "source": [
    "Шаг 1: компилятор преобразует файл программы на С++ в объектный файл - скомпилированный набор функций файла в виде инструкций ассемблера и констант"
   ]
  },
  {
   "cell_type": "code",
   "execution_count": 74,
   "metadata": {},
   "outputs": [],
   "source": [
    "!g++ -c -O3 hello_world.cpp -o hello_world.o"
   ]
  },
  {
   "cell_type": "markdown",
   "metadata": {},
   "source": [
    "> ```-O3``` флаг оптимизации кода\n",
    " \n",
    "> ```-c``` флаг говорит о том, что мы выполняем только команду компиляции\n",
    "\n",
    "`hello_world.o` содержит в бинарном виде код функций cpp-файла, константы и прочую вспомогательную информацию. Более подробно с его содержимым будем знакомиться ближе к концу курса."
   ]
  },
  {
   "cell_type": "markdown",
   "metadata": {},
   "source": [
    "Шаг 2: линковщик собирает несколько объектных файлов в один исполняемый"
   ]
  },
  {
   "cell_type": "code",
   "execution_count": 75,
   "metadata": {},
   "outputs": [],
   "source": [
    "!g++ -O3 hello_world.o -o hello_world"
   ]
  },
  {
   "cell_type": "markdown",
   "metadata": {},
   "source": [
    "Запустим:"
   ]
  },
  {
   "cell_type": "code",
   "execution_count": 76,
   "metadata": {},
   "outputs": [
    {
     "name": "stdout",
     "output_type": "stream",
     "text": [
      "Hello world\n"
     ]
    }
   ],
   "source": [
    "!./hello_world"
   ]
  },
  {
   "cell_type": "markdown",
   "metadata": {},
   "source": [
    "<br />"
   ]
  },
  {
   "cell_type": "markdown",
   "metadata": {},
   "source": [
    "**Итого:**\n",
    "\n",
    "```\n",
    "Исходный код --> (компилятор) --> объектные файлы\n",
    "объектные файлы --> (линковщик)  --> исполняемый файл\n",
    "```"
   ]
  },
  {
   "cell_type": "markdown",
   "metadata": {},
   "source": [
    "<br />"
   ]
  },
  {
   "cell_type": "markdown",
   "metadata": {},
   "source": [
    "**Замечание:**\n",
    "\n",
    "Для маленьких программ можно пропустить промежуточный этап с объектными файлами, сразу сгенерировав исполяемый файл:"
   ]
  },
  {
   "cell_type": "code",
   "execution_count": 77,
   "metadata": {},
   "outputs": [],
   "source": [
    "# нет опции \"-c\":\n",
    "!g++ -O3 hello_world.cpp -o hello_world"
   ]
  },
  {
   "cell_type": "markdown",
   "metadata": {},
   "source": [
    "<br />"
   ]
  },
  {
   "cell_type": "markdown",
   "metadata": {},
   "source": [
    "**Вопрос:**\n",
    "\n",
    "Как переход от текста программы к её исполнению устроен в Java?  В Python?"
   ]
  },
  {
   "cell_type": "markdown",
   "metadata": {},
   "source": [
    "\n",
    "##### main.cpp\n",
    "\n",
    "```c++\n",
    "int square(int value);\n",
    "\n",
    "int main()\n",
    "{\n",
    "    return square(2);\n",
    "}\n",
    "```"
   ]
  },
  {
   "cell_type": "markdown",
   "metadata": {},
   "source": [
    "```\n",
    "objdump -d -r main.o\n",
    "```\n",
    "\n",
    "```nasm\n",
    "0000000000000000 <main>:\n",
    "   0:  55                     push   %rbp\n",
    "   1:  48 89 e5               mov    %rsp,%rbp\n",
    "   4:  bf 02 00 00 00         mov    $0x2,%edi\n",
    "   9:  e8 00 00 00 00         callq  e <main+0xe>\n",
    "      a: R_X86_64_PC32  _Z6squarei-0x4\n",
    "   e:  5d                     pop    %rbp\n",
    "   f:  c3                     retq\n",
    "```\n",
    "\n",
    "> ```-r``` - информация о релокациях"
   ]
  },
  {
   "cell_type": "markdown",
   "metadata": {},
   "source": [
    "Связывание (binding) - говорит о том, виден ли символ вне файла:\n",
    "\n",
    "- Локальный символ\n",
    "- Глобальный символ\n",
    "- Внешний символ"
   ]
  },
  {
   "cell_type": "markdown",
   "metadata": {},
   "source": [
    "```\n",
    "objdump -t square.o\n",
    "```\n",
    "\n",
    "Вывод:\n",
    "\n",
    "```\n",
    "square.o:     file format elf64-x86-64\n",
    "\n",
    "SYMBOL TABLE:\n",
    "0000000000000000 l    df *ABS*  0000000000000000 square.cpp\n",
    "0000000000000000 l    d  .text  0000000000000000 .text\n",
    "0000000000000000 l    d  .data  0000000000000000 .data\n",
    "0000000000000000 l    d  .bss  0000000000000000 .bss\n",
    "0000000000000000 l    d  .note.GNU-stack  0000000000000000 .note.GNU-stack\n",
    "0000000000000000 l    d  .eh_frame  0000000000000000 .eh_frame\n",
    "0000000000000000 l    d  .comment  0000000000000000 .comment\n",
    "0000000000000000 g     F .text  0000000000000010 _Z6squarei\n",
    "```"
   ]
  },
  {
   "cell_type": "markdown",
   "metadata": {},
   "source": [
    "Первая колонка - связывание:\n",
    "\n",
    "- l - локальное\n",
    "- g - глобальное\n",
    "- пробел - ни один из вариантов\n",
    "\n",
    "если стоит ```F``` - значит это функция."
   ]
  },
  {
   "cell_type": "markdown",
   "metadata": {},
   "source": [
    "```\n",
    "readelf -s square.o\n",
    "```\n",
    "\n",
    "```\n",
    "Symbol table '.symtab' contains 9 entries:\n",
    "   Num:    Value          Size Type    Bind   Vis      Ndx Name\n",
    "     0: 0000000000000000     0 NOTYPE  LOCAL  DEFAULT  UND \n",
    "     1: 0000000000000000     0 FILE    LOCAL  DEFAULT  ABS square.cpp\n",
    "     2: 0000000000000000     0 SECTION LOCAL  DEFAULT    1 \n",
    "     3: 0000000000000000     0 SECTION LOCAL  DEFAULT    2 \n",
    "     4: 0000000000000000     0 SECTION LOCAL  DEFAULT    3 \n",
    "     5: 0000000000000000     0 SECTION LOCAL  DEFAULT    5 \n",
    "     6: 0000000000000000     0 SECTION LOCAL  DEFAULT    6 \n",
    "     7: 0000000000000000     0 SECTION LOCAL  DEFAULT    4 \n",
    "     8: 0000000000000000    16 FUNC    GLOBAL DEFAULT    1 _Z6squarei\n",
    "```\n",
    "___"
   ]
  },
  {
   "cell_type": "markdown",
   "metadata": {},
   "source": [
    "```\n",
    "objdump -t main.o\n",
    "```\n",
    "\n",
    "```\n",
    "main.o:     file format elf64-x86-64\n",
    "\n",
    "SYMBOL TABLE:\n",
    "0000000000000000 l    df *ABS*  0000000000000000 main.cpp\n",
    "0000000000000000 l    d  .text  0000000000000000 .text\n",
    "0000000000000000 l    d  .data  0000000000000000 .data\n",
    "0000000000000000 l    d  .bss  0000000000000000 .bss\n",
    "0000000000000000 l    d  .note.GNU-stack  0000000000000000 .note.GNU-stack\n",
    "0000000000000000 l    d  .eh_frame  0000000000000000 .eh_frame\n",
    "0000000000000000 l    d  .comment  0000000000000000 .comment\n",
    "0000000000000000 g     F .text  0000000000000010 main\n",
    "0000000000000000         *UND*  0000000000000000 _Z6squarei\n",
    "```"
   ]
  },
  {
   "cell_type": "markdown",
   "metadata": {},
   "source": [
    "\n",
    "```\n",
    "readelf -s main.o\n",
    "```\n",
    "\n",
    "```\n",
    "Symbol table '.symtab' contains 10 entries:\n",
    "   Num:    Value          Size Type    Bind   Vis      Ndx Name\n",
    "     0: 0000000000000000     0 NOTYPE  LOCAL  DEFAULT  UND \n",
    "     1: 0000000000000000     0 FILE    LOCAL  DEFAULT  ABS main.cpp\n",
    "     2: 0000000000000000     0 SECTION LOCAL  DEFAULT    1 \n",
    "     3: 0000000000000000     0 SECTION LOCAL  DEFAULT    3 \n",
    "     4: 0000000000000000     0 SECTION LOCAL  DEFAULT    4 \n",
    "     5: 0000000000000000     0 SECTION LOCAL  DEFAULT    6 \n",
    "     6: 0000000000000000     0 SECTION LOCAL  DEFAULT    7 \n",
    "     7: 0000000000000000     0 SECTION LOCAL  DEFAULT    5 \n",
    "     8: 0000000000000000    16 FUNC    GLOBAL DEFAULT    1 main\n",
    "     9: 0000000000000000     0 NOTYPE  GLOBAL DEFAULT  UND _Z6squarei\n",
    "```\n"
   ]
  },
  {
   "cell_type": "markdown",
   "metadata": {},
   "source": [
    "## Разделения на файлы"
   ]
  },
  {
   "cell_type": "markdown",
   "metadata": {},
   "source": [
    "\n",
    "##### main.cpp\n",
    "\n",
    "```c++\n",
    "int square(int value);\n",
    "\n",
    "int main()\n",
    "{\n",
    "    return square(2);\n",
    "}\n",
    "```\n",
    "\n",
    "___"
   ]
  },
  {
   "cell_type": "markdown",
   "metadata": {},
   "source": [
    "\n",
    "##### square.h\n",
    "\n",
    "```c++\n",
    "int square(int value);\n",
    "```\n",
    "\n",
    "Это заголовочный файл, как правило в нем находятся объявления типов и функций.\n",
    "___"
   ]
  },
  {
   "cell_type": "markdown",
   "metadata": {},
   "source": [
    "\n",
    "##### main.cpp\n",
    "\n",
    "```c++\n",
    "#include \"square.h\"\n",
    "\n",
    "int main()\n",
    "{\n",
    "    return square(2);\n",
    "}\n",
    "```"
   ]
  },
  {
   "cell_type": "code",
   "execution_count": 78,
   "metadata": {},
   "outputs": [],
   "source": [
    "!clang++ -c square.cpp\n",
    "!clang++ main.cpp square.o -o main\n",
    "!./main && echo $?"
   ]
  },
  {
   "cell_type": "markdown",
   "metadata": {},
   "source": [
    "\n",
    "### Препроцессор\n",
    "\n",
    "```\n",
    "g++ -E main.cpp\n",
    "```\n"
   ]
  },
  {
   "cell_type": "code",
   "execution_count": 79,
   "metadata": {},
   "outputs": [
    {
     "name": "stdout",
     "output_type": "stream",
     "text": [
      "# 1 \"main.cpp\"\n",
      "# 1 \"<built-in>\" 1\n",
      "# 1 \"<built-in>\" 3\n",
      "# 404 \"<built-in>\" 3\n",
      "# 1 \"<command line>\" 1\n",
      "# 1 \"<built-in>\" 2\n",
      "# 1 \"main.cpp\" 2\n",
      "# 1 \"./square.h\" 1\n",
      "int square(int value);\n",
      "# 2 \"main.cpp\" 2\n",
      "\n",
      "int main()\n",
      "{\n",
      "    return square(2);\n",
      "}\n"
     ]
    }
   ],
   "source": [
    "!clang++ -E main.cpp"
   ]
  },
  {
   "cell_type": "code",
   "execution_count": 80,
   "metadata": {},
   "outputs": [
    {
     "name": "stdout",
     "output_type": "stream",
     "text": [
      "# 0 \"main.cpp\"\n",
      "# 0 \"<built-in>\"\n",
      "# 0 \"<command-line>\"\n",
      "# 1 \"/usr/include/stdc-predef.h\" 1 3 4\n",
      "# 0 \"<command-line>\" 2\n",
      "# 1 \"main.cpp\"\n",
      "# 1 \"square.h\" 1\n",
      "int square(int value);\n",
      "# 2 \"main.cpp\" 2\n",
      "\n",
      "int main()\n",
      "{\n",
      "    return square(2);\n",
      "}\n"
     ]
    }
   ],
   "source": [
    "!g++ -E main.cpp"
   ]
  },
  {
   "cell_type": "markdown",
   "metadata": {},
   "source": [
    "Директивы препроцессора:\n",
    "\n",
    "- ```#include \"name\"``` - целиком вставляет файл с именем ```name```, вставляемый файл также обрабатывается препроцессором. Поиск файла происходит в директории с файлом, из которого происходит включение\n",
    "- ```#include <name>``` - аналогично предыдущей директиве, но поиск производится в глобальных директориях и директориях, указанных с помощью ключа ```-I```\n",
    "- ```#define x y``` - вместо ```x``` подставляет ```y```\n",
    "\n",
    "> define - это опасно\n",
    "\n",
    "\n",
    "```c++\n",
    "#define true false // happy debugging\n",
    "#define true !!(rand() % 2)\n",
    "```\n"
   ]
  },
  {
   "cell_type": "markdown",
   "metadata": {},
   "source": [
    "#### Условная компиляция\n",
    "\n",
    "```\n",
    "g++ -DDEBUG main.cpp\n",
    "```\n",
    "> -D использовать символ для предпроцессора\n",
    "\n",
    "==\n",
    "```c++\n",
    "#define DEBUG\n",
    "```"
   ]
  },
  {
   "cell_type": "markdown",
   "metadata": {},
   "source": [
    "### Компиляция\n",
    "\n",
    "```\n",
    "g++ -c main.cpp\n",
    "clang++ -c main.cpp\n",
    "```\n",
    "\n",
    "В результате мы имеем 2 файла:\n",
    "- main.o\n",
    "- square.o"
   ]
  },
  {
   "cell_type": "markdown",
   "metadata": {},
   "source": [
    "\n",
    "### Компоновка\n",
    "\n",
    "```\n",
    "g++ -o main main.o square.o\n",
    "clang++  -o main main.o square.o\n",
    "```\n",
    "\n",
    "Вывод:\n",
    "\n",
    "```\n",
    "my_prog\n",
    "```\n",
    "\n",
    "```\n",
    "./my_prog\n",
    "echo $?\n",
    "4\n",
    "```\n",
    "\n",
    "Компоновщик собирает из одного и более объектных файлов исполняемый файл.\n",
    "\n",
    "___"
   ]
  },
  {
   "cell_type": "markdown",
   "metadata": {},
   "source": [
    "\n",
    "### Что g++ делает под капотом\n",
    "\n",
    "```\n",
    "gcc++ -o main -v main.cpp square.cpp\n",
    "```"
   ]
  },
  {
   "cell_type": "code",
   "execution_count": 81,
   "metadata": {},
   "outputs": [
    {
     "name": "stdout",
     "output_type": "stream",
     "text": [
      "Using built-in specs.\n",
      "COLLECT_GCC=g++\n",
      "COLLECT_LTO_WRAPPER=/usr/lib/gcc/x86_64-linux-gnu/11/lto-wrapper\n",
      "OFFLOAD_TARGET_NAMES=nvptx-none:amdgcn-amdhsa\n",
      "OFFLOAD_TARGET_DEFAULT=1\n",
      "Target: x86_64-linux-gnu\n",
      "Configured with: ../src/configure -v --with-pkgversion='Ubuntu 11.4.0-1ubuntu1~22.04' --with-bugurl=file:///usr/share/doc/gcc-11/README.Bugs --enable-languages=c,ada,c++,go,brig,d,fortran,objc,obj-c++,m2 --prefix=/usr --with-gcc-major-version-only --program-suffix=-11 --program-prefix=x86_64-linux-gnu- --enable-shared --enable-linker-build-id --libexecdir=/usr/lib --without-included-gettext --enable-threads=posix --libdir=/usr/lib --enable-nls --enable-bootstrap --enable-clocale=gnu --enable-libstdcxx-debug --enable-libstdcxx-time=yes --with-default-libstdcxx-abi=new --enable-gnu-unique-object --disable-vtable-verify --enable-plugin --enable-default-pie --with-system-zlib --enable-libphobos-checking=release --with-target-system-zlib=auto --enable-objc-gc=auto --enable-multiarch --disable-werror --enable-cet --with-arch-32=i686 --with-abi=m64 --with-multilib-list=m32,m64,mx32 --enable-multilib --with-tune=generic --enable-offload-targets=nvptx-none=/build/gcc-11-XeT9lY/gcc-11-11.4.0/debian/tmp-nvptx/usr,amdgcn-amdhsa=/build/gcc-11-XeT9lY/gcc-11-11.4.0/debian/tmp-gcn/usr --without-cuda-driver --enable-checking=release --build=x86_64-linux-gnu --host=x86_64-linux-gnu --target=x86_64-linux-gnu --with-build-config=bootstrap-lto-lean --enable-link-serialization=2\n",
      "Thread model: posix\n",
      "Supported LTO compression algorithms: zlib zstd\n",
      "gcc version 11.4.0 (Ubuntu 11.4.0-1ubuntu1~22.04) \n",
      "COLLECT_GCC_OPTIONS='-o' 'main' '-v' '-shared-libgcc' '-mtune=generic' '-march=x86-64' '-dumpdir' 'main-'\n",
      " /usr/lib/gcc/x86_64-linux-gnu/11/cc1plus -quiet -v -imultiarch x86_64-linux-gnu -D_GNU_SOURCE main.cpp -quiet -dumpdir main- -dumpbase main.cpp -dumpbase-ext .cpp -mtune=generic -march=x86-64 -version -fasynchronous-unwind-tables -fstack-protector-strong -Wformat -Wformat-security -fstack-clash-protection -fcf-protection -o /tmp/ccdMDR4i.s\n",
      "GNU C++17 (Ubuntu 11.4.0-1ubuntu1~22.04) version 11.4.0 (x86_64-linux-gnu)\n",
      "\tcompiled by GNU C version 11.4.0, GMP version 6.2.1, MPFR version 4.1.0, MPC version 1.2.1, isl version isl-0.24-GMP\n",
      "\n",
      "GGC heuristics: --param ggc-min-expand=100 --param ggc-min-heapsize=131072\n",
      "ignoring duplicate directory \"/usr/include/x86_64-linux-gnu/c++/11\"\n",
      "ignoring nonexistent directory \"/usr/local/include/x86_64-linux-gnu\"\n",
      "ignoring nonexistent directory \"/usr/lib/gcc/x86_64-linux-gnu/11/include-fixed\"\n",
      "ignoring nonexistent directory \"/usr/lib/gcc/x86_64-linux-gnu/11/../../../../x86_64-linux-gnu/include\"\n",
      "#include \"...\" search starts here:\n",
      "#include <...> search starts here:\n",
      " /usr/include/c++/11\n",
      " /usr/include/x86_64-linux-gnu/c++/11\n",
      " /usr/include/c++/11/backward\n",
      " /usr/lib/gcc/x86_64-linux-gnu/11/include\n",
      " /usr/local/include\n",
      " /usr/include/x86_64-linux-gnu\n",
      " /usr/include\n",
      "End of search list.\n",
      "GNU C++17 (Ubuntu 11.4.0-1ubuntu1~22.04) version 11.4.0 (x86_64-linux-gnu)\n",
      "\tcompiled by GNU C version 11.4.0, GMP version 6.2.1, MPFR version 4.1.0, MPC version 1.2.1, isl version isl-0.24-GMP\n",
      "\n",
      "GGC heuristics: --param ggc-min-expand=100 --param ggc-min-heapsize=131072\n",
      "Compiler executable checksum: d591828bb4d392ae8b7b160e5bb0b95f\n",
      "COLLECT_GCC_OPTIONS='-o' 'main' '-v' '-shared-libgcc' '-mtune=generic' '-march=x86-64' '-dumpdir' 'main-'\n",
      " as -v --64 -o /tmp/cci5M4V8.o /tmp/ccdMDR4i.s\n",
      "GNU ассемблер, версия 2.38 (x86_64-linux-gnu); используется BFD версии (GNU Binutils for Ubuntu) 2.38\n",
      "COLLECT_GCC_OPTIONS='-o' 'main' '-v' '-shared-libgcc' '-mtune=generic' '-march=x86-64' '-dumpdir' 'main-'\n",
      " /usr/lib/gcc/x86_64-linux-gnu/11/cc1plus -quiet -v -imultiarch x86_64-linux-gnu -D_GNU_SOURCE square.cpp -quiet -dumpdir main- -dumpbase square.cpp -dumpbase-ext .cpp -mtune=generic -march=x86-64 -version -fasynchronous-unwind-tables -fstack-protector-strong -Wformat -Wformat-security -fstack-clash-protection -fcf-protection -o /tmp/ccdMDR4i.s\n",
      "GNU C++17 (Ubuntu 11.4.0-1ubuntu1~22.04) version 11.4.0 (x86_64-linux-gnu)\n",
      "\tcompiled by GNU C version 11.4.0, GMP version 6.2.1, MPFR version 4.1.0, MPC version 1.2.1, isl version isl-0.24-GMP\n",
      "\n",
      "GGC heuristics: --param ggc-min-expand=100 --param ggc-min-heapsize=131072\n",
      "ignoring duplicate directory \"/usr/include/x86_64-linux-gnu/c++/11\"\n",
      "ignoring nonexistent directory \"/usr/local/include/x86_64-linux-gnu\"\n",
      "ignoring nonexistent directory \"/usr/lib/gcc/x86_64-linux-gnu/11/include-fixed\"\n",
      "ignoring nonexistent directory \"/usr/lib/gcc/x86_64-linux-gnu/11/../../../../x86_64-linux-gnu/include\"\n",
      "#include \"...\" search starts here:\n",
      "#include <...> search starts here:\n",
      " /usr/include/c++/11\n",
      " /usr/include/x86_64-linux-gnu/c++/11\n",
      " /usr/include/c++/11/backward\n",
      " /usr/lib/gcc/x86_64-linux-gnu/11/include\n",
      " /usr/local/include\n",
      " /usr/include/x86_64-linux-gnu\n",
      " /usr/include\n",
      "End of search list.\n",
      "GNU C++17 (Ubuntu 11.4.0-1ubuntu1~22.04) version 11.4.0 (x86_64-linux-gnu)\n",
      "\tcompiled by GNU C version 11.4.0, GMP version 6.2.1, MPFR version 4.1.0, MPC version 1.2.1, isl version isl-0.24-GMP\n",
      "\n",
      "GGC heuristics: --param ggc-min-expand=100 --param ggc-min-heapsize=131072\n",
      "Compiler executable checksum: d591828bb4d392ae8b7b160e5bb0b95f\n",
      "COLLECT_GCC_OPTIONS='-o' 'main' '-v' '-shared-libgcc' '-mtune=generic' '-march=x86-64' '-dumpdir' 'main-'\n",
      " as -v --64 -o /tmp/cceSrJqC.o /tmp/ccdMDR4i.s\n",
      "GNU ассемблер, версия 2.38 (x86_64-linux-gnu); используется BFD версии (GNU Binutils for Ubuntu) 2.38\n",
      "COMPILER_PATH=/usr/lib/gcc/x86_64-linux-gnu/11/:/usr/lib/gcc/x86_64-linux-gnu/11/:/usr/lib/gcc/x86_64-linux-gnu/:/usr/lib/gcc/x86_64-linux-gnu/11/:/usr/lib/gcc/x86_64-linux-gnu/\n",
      "LIBRARY_PATH=/usr/lib/gcc/x86_64-linux-gnu/11/:/usr/lib/gcc/x86_64-linux-gnu/11/../../../x86_64-linux-gnu/:/usr/lib/gcc/x86_64-linux-gnu/11/../../../../lib/:/lib/x86_64-linux-gnu/:/lib/../lib/:/usr/lib/x86_64-linux-gnu/:/usr/lib/../lib/:/usr/lib/gcc/x86_64-linux-gnu/11/../../../:/lib/:/usr/lib/\n",
      "COLLECT_GCC_OPTIONS='-o' 'main' '-v' '-shared-libgcc' '-mtune=generic' '-march=x86-64' '-dumpdir' 'main.'\n",
      " /usr/lib/gcc/x86_64-linux-gnu/11/collect2 -plugin /usr/lib/gcc/x86_64-linux-gnu/11/liblto_plugin.so -plugin-opt=/usr/lib/gcc/x86_64-linux-gnu/11/lto-wrapper -plugin-opt=-fresolution=/tmp/ccI9x4eD.res -plugin-opt=-pass-through=-lgcc_s -plugin-opt=-pass-through=-lgcc -plugin-opt=-pass-through=-lc -plugin-opt=-pass-through=-lgcc_s -plugin-opt=-pass-through=-lgcc --build-id --eh-frame-hdr -m elf_x86_64 --hash-style=gnu --as-needed -dynamic-linker /lib64/ld-linux-x86-64.so.2 -pie -z now -z relro -o main /usr/lib/gcc/x86_64-linux-gnu/11/../../../x86_64-linux-gnu/Scrt1.o /usr/lib/gcc/x86_64-linux-gnu/11/../../../x86_64-linux-gnu/crti.o /usr/lib/gcc/x86_64-linux-gnu/11/crtbeginS.o -L/usr/lib/gcc/x86_64-linux-gnu/11 -L/usr/lib/gcc/x86_64-linux-gnu/11/../../../x86_64-linux-gnu -L/usr/lib/gcc/x86_64-linux-gnu/11/../../../../lib -L/lib/x86_64-linux-gnu -L/lib/../lib -L/usr/lib/x86_64-linux-gnu -L/usr/lib/../lib -L/usr/lib/gcc/x86_64-linux-gnu/11/../../.. /tmp/cci5M4V8.o /tmp/cceSrJqC.o -lstdc++ -lm -lgcc_s -lgcc -lc -lgcc_s -lgcc /usr/lib/gcc/x86_64-linux-gnu/11/crtendS.o /usr/lib/gcc/x86_64-linux-gnu/11/../../../x86_64-linux-gnu/crtn.o\n",
      "COLLECT_GCC_OPTIONS='-o' 'main' '-v' '-shared-libgcc' '-mtune=generic' '-march=x86-64' '-dumpdir' 'main.'\n"
     ]
    }
   ],
   "source": [
    "!g++ -o main -v main.cpp square.cpp"
   ]
  },
  {
   "cell_type": "markdown",
   "metadata": {},
   "source": [
    "\n",
    "Вывод (самое важное):\n",
    "\n",
    "```\n",
    "...\n",
    "\n",
    "/usr/lib/gcc/x86_64-linux-gnu/11/cc1plus \n",
    "    main.cpp -o /tmp/ccjBvzkg.s\n",
    "\n",
    "...\n",
    "\n",
    "as -v --64 -o /tmp/ccM2mLyf.o /tmp/ccjBvzkg.s\n",
    "\n",
    "...\n",
    "\n",
    "/usr/lib/gcc/x86_64-linux-gnu/11/cc1plus \n",
    "    square.cpp -o /tmp/ccjBvzkg.s\n",
    "\n",
    "...\n",
    "\n",
    "as -v --64 -o /tmp/cc3ZpAQe.o /tmp/ccjBvzkg.s\n",
    "\n",
    "...\n",
    "\n",
    "/usr/lib/gcc/x86_64-linux-gnu/11/collect2 \n",
    "    /tmp/ccM2mLyf.o /tmp/cc3ZpAQe.o \n",
    "    -lstdc++ -lm -lgcc_s -lgcc -lc -lgcc_s -lgcc\n",
    "```\n",
    "\n",
    "> ```-lstdc++``` рантайм языка С++ (то, что позволяет нам использовать ресурсы компьютера и выполнять нужные команды на железе)\n",
    "\n",
    "___"
   ]
  },
  {
   "cell_type": "markdown",
   "metadata": {},
   "source": [
    "\n",
    "### Оптимизация\n",
    "\n",
    "##### main.cpp\n",
    "\n",
    "```c++\n",
    "int square(int value)\n",
    "{\n",
    "    return value * value;\n",
    "}\n",
    "\n",
    "int main()\n",
    "{\n",
    "    return square(2);\n",
    "}\n",
    "```"
   ]
  },
  {
   "cell_type": "markdown",
   "metadata": {},
   "source": [
    "```\n",
    "g++ -c main.cpp\n",
    "objdump -d main.o\n",
    "```"
   ]
  },
  {
   "cell_type": "markdown",
   "metadata": {},
   "source": [
    "```nasm\n",
    "0000000000000010 <main>:\n",
    "  10:  55                     push   %rbp\n",
    "  11:  48 89 e5               mov    %rsp,%rbp\n",
    "  14:  bf 02 00 00 00         mov    $0x2,%edi\n",
    "  19:  e8 00 00 00 00         callq  1e <main+0xe>\n",
    "  1e:  5d                     pop    %rbp\n",
    "  1f:  c3                     retq\n",
    "```\n",
    "___"
   ]
  },
  {
   "cell_type": "markdown",
   "metadata": {},
   "source": [
    "\n",
    "```\n",
    "g++ -O2 -c main.cpp\n",
    "objdump -d main.o\n",
    "```"
   ]
  },
  {
   "cell_type": "markdown",
   "metadata": {},
   "source": [
    "\n",
    "```nasm\n",
    "0000000000000000 <main>:\n",
    "   0:  b8 04 00 00 00         mov    $0x4,%eax\n",
    "   5:  c3                     retq\n",
    "```\n",
    "___"
   ]
  },
  {
   "cell_type": "markdown",
   "metadata": {},
   "source": [
    "\n",
    "### Статические библиотеки\n",
    "\n",
    "\n",
    "\n",
    "```\n",
    "ar rc libsquare.a squre.o\n",
    "```\n",
    "\n",
    "Вывод:\n",
    "\n",
    "```\n",
    "libsquare.a\n",
    "```\n",
    "\n",
    "> В unix принято, что статические библиотеки имеют префикс lib и расширение .a\n",
    "\n",
    "```\n",
    "g++ -o main main.o -L. -lsquare\n",
    "```\n",
    "\n",
    "```-L``` - путь в котором компоновщик будет искать библиотеки\n",
    "```-l``` - имя библиотеки\n",
    "\n",
    "> Статические библиотеки нужны только при сборке"
   ]
  },
  {
   "cell_type": "code",
   "execution_count": 82,
   "metadata": {},
   "outputs": [],
   "source": [
    "!g++ -c square.cpp main.cpp"
   ]
  },
  {
   "cell_type": "code",
   "execution_count": 83,
   "metadata": {},
   "outputs": [
    {
     "name": "stdout",
     "output_type": "stream",
     "text": [
      "-rw-rw-r-- 1 maxim maxim 1380 сен  4 01:03 libsquare.a\n"
     ]
    },
    {
     "name": "stdout",
     "output_type": "stream",
     "text": [
      "ls: невозможно получить доступ к 'square.o': Нет такого файла или каталога\n"
     ]
    }
   ],
   "source": [
    "!ar rc libsquare.a square.o\n",
    "!ls -al libsquare.a\n",
    "!rm -f square.o main\n",
    "!ls -al square.o"
   ]
  },
  {
   "cell_type": "code",
   "execution_count": 84,
   "metadata": {},
   "outputs": [
    {
     "name": "stdout",
     "output_type": "stream",
     "text": [
      "В архиве libsquare.a:\n",
      "\n",
      "square.o:     формат файла elf64-x86-64\n",
      "\n",
      "\n",
      "Дизассемблирование раздела .text:\n",
      "\n",
      "0000000000000000 <_Z6squarei>:\n",
      "   0:\tf3 0f 1e fa          \tendbr64 \n",
      "   4:\t55                   \tpush   %rbp\n",
      "   5:\t48 89 e5             \tmov    %rsp,%rbp\n",
      "   8:\t89 7d fc             \tmov    %edi,-0x4(%rbp)\n",
      "   b:\t8b 45 fc             \tmov    -0x4(%rbp),%eax\n",
      "   e:\t0f af c0             \timul   %eax,%eax\n",
      "  11:\t5d                   \tpop    %rbp\n",
      "  12:\tc3                   \tret    \n"
     ]
    }
   ],
   "source": [
    "!objdump -d libsquare.a"
   ]
  },
  {
   "cell_type": "code",
   "execution_count": 85,
   "metadata": {},
   "outputs": [
    {
     "name": "stdout",
     "output_type": "stream",
     "text": [
      "-rwxrwxr-x 1 maxim maxim 15848 сен  4 01:03 main\n",
      "\n",
      "main:     формат файла elf64-x86-64\n",
      "\n",
      "\n",
      "Дизассемблирование раздела .init:\n",
      "\n",
      "0000000000001000 <_init>:\n",
      "    1000:\tf3 0f 1e fa          \tendbr64 \n",
      "    1004:\t48 83 ec 08          \tsub    $0x8,%rsp\n",
      "    1008:\t48 8b 05 d9 2f 00 00 \tmov    0x2fd9(%rip),%rax        # 3fe8 <__gmon_start__@Base>\n",
      "    100f:\t48 85 c0             \ttest   %rax,%rax\n",
      "    1012:\t74 02                \tje     1016 <_init+0x16>\n",
      "    1014:\tff d0                \tcall   *%rax\n",
      "    1016:\t48 83 c4 08          \tadd    $0x8,%rsp\n",
      "    101a:\tc3                   \tret    \n",
      "\n",
      "Дизассемблирование раздела .plt:\n",
      "\n",
      "0000000000001020 <.plt>:\n",
      "    1020:\tff 35 a2 2f 00 00    \tpush   0x2fa2(%rip)        # 3fc8 <_GLOBAL_OFFSET_TABLE_+0x8>\n",
      "    1026:\tf2 ff 25 a3 2f 00 00 \tbnd jmp *0x2fa3(%rip)        # 3fd0 <_GLOBAL_OFFSET_TABLE_+0x10>\n",
      "    102d:\t0f 1f 00             \tnopl   (%rax)\n",
      "\n",
      "Дизассемблирование раздела .plt.got:\n",
      "\n",
      "0000000000001030 <__cxa_finalize@plt>:\n",
      "    1030:\tf3 0f 1e fa          \tendbr64 \n",
      "    1034:\tf2 ff 25 bd 2f 00 00 \tbnd jmp *0x2fbd(%rip)        # 3ff8 <__cxa_finalize@GLIBC_2.2.5>\n",
      "    103b:\t0f 1f 44 00 00       \tnopl   0x0(%rax,%rax,1)\n",
      "\n",
      "Дизассемблирование раздела .text:\n",
      "\n",
      "0000000000001040 <_start>:\n",
      "    1040:\tf3 0f 1e fa          \tendbr64 \n",
      "    1044:\t31 ed                \txor    %ebp,%ebp\n",
      "    1046:\t49 89 d1             \tmov    %rdx,%r9\n",
      "    1049:\t5e                   \tpop    %rsi\n",
      "    104a:\t48 89 e2             \tmov    %rsp,%rdx\n",
      "    104d:\t48 83 e4 f0          \tand    $0xfffffffffffffff0,%rsp\n",
      "    1051:\t50                   \tpush   %rax\n",
      "    1052:\t54                   \tpush   %rsp\n",
      "    1053:\t45 31 c0             \txor    %r8d,%r8d\n",
      "    1056:\t31 c9                \txor    %ecx,%ecx\n",
      "    1058:\t48 8d 3d ca 00 00 00 \tlea    0xca(%rip),%rdi        # 1129 <main>\n",
      "    105f:\tff 15 73 2f 00 00    \tcall   *0x2f73(%rip)        # 3fd8 <__libc_start_main@GLIBC_2.34>\n",
      "    1065:\tf4                   \thlt    \n",
      "    1066:\t66 2e 0f 1f 84 00 00 \tcs nopw 0x0(%rax,%rax,1)\n",
      "    106d:\t00 00 00 \n",
      "\n",
      "0000000000001070 <deregister_tm_clones>:\n",
      "    1070:\t48 8d 3d 99 2f 00 00 \tlea    0x2f99(%rip),%rdi        # 4010 <__TMC_END__>\n",
      "    1077:\t48 8d 05 92 2f 00 00 \tlea    0x2f92(%rip),%rax        # 4010 <__TMC_END__>\n",
      "    107e:\t48 39 f8             \tcmp    %rdi,%rax\n",
      "    1081:\t74 15                \tje     1098 <deregister_tm_clones+0x28>\n",
      "    1083:\t48 8b 05 56 2f 00 00 \tmov    0x2f56(%rip),%rax        # 3fe0 <_ITM_deregisterTMCloneTable@Base>\n",
      "    108a:\t48 85 c0             \ttest   %rax,%rax\n",
      "    108d:\t74 09                \tje     1098 <deregister_tm_clones+0x28>\n",
      "    108f:\tff e0                \tjmp    *%rax\n",
      "    1091:\t0f 1f 80 00 00 00 00 \tnopl   0x0(%rax)\n",
      "    1098:\tc3                   \tret    \n",
      "    1099:\t0f 1f 80 00 00 00 00 \tnopl   0x0(%rax)\n",
      "\n",
      "00000000000010a0 <register_tm_clones>:\n",
      "    10a0:\t48 8d 3d 69 2f 00 00 \tlea    0x2f69(%rip),%rdi        # 4010 <__TMC_END__>\n",
      "    10a7:\t48 8d 35 62 2f 00 00 \tlea    0x2f62(%rip),%rsi        # 4010 <__TMC_END__>\n",
      "    10ae:\t48 29 fe             \tsub    %rdi,%rsi\n",
      "    10b1:\t48 89 f0             \tmov    %rsi,%rax\n",
      "    10b4:\t48 c1 ee 3f          \tshr    $0x3f,%rsi\n",
      "    10b8:\t48 c1 f8 03          \tsar    $0x3,%rax\n",
      "    10bc:\t48 01 c6             \tadd    %rax,%rsi\n",
      "    10bf:\t48 d1 fe             \tsar    %rsi\n",
      "    10c2:\t74 14                \tje     10d8 <register_tm_clones+0x38>\n",
      "    10c4:\t48 8b 05 25 2f 00 00 \tmov    0x2f25(%rip),%rax        # 3ff0 <_ITM_registerTMCloneTable@Base>\n",
      "    10cb:\t48 85 c0             \ttest   %rax,%rax\n",
      "    10ce:\t74 08                \tje     10d8 <register_tm_clones+0x38>\n",
      "    10d0:\tff e0                \tjmp    *%rax\n",
      "    10d2:\t66 0f 1f 44 00 00    \tnopw   0x0(%rax,%rax,1)\n",
      "    10d8:\tc3                   \tret    \n",
      "    10d9:\t0f 1f 80 00 00 00 00 \tnopl   0x0(%rax)\n",
      "\n",
      "00000000000010e0 <__do_global_dtors_aux>:\n",
      "    10e0:\tf3 0f 1e fa          \tendbr64 \n",
      "    10e4:\t80 3d 25 2f 00 00 00 \tcmpb   $0x0,0x2f25(%rip)        # 4010 <__TMC_END__>\n",
      "    10eb:\t75 2b                \tjne    1118 <__do_global_dtors_aux+0x38>\n",
      "    10ed:\t55                   \tpush   %rbp\n",
      "    10ee:\t48 83 3d 02 2f 00 00 \tcmpq   $0x0,0x2f02(%rip)        # 3ff8 <__cxa_finalize@GLIBC_2.2.5>\n",
      "    10f5:\t00 \n",
      "    10f6:\t48 89 e5             \tmov    %rsp,%rbp\n",
      "    10f9:\t74 0c                \tje     1107 <__do_global_dtors_aux+0x27>\n",
      "    10fb:\t48 8b 3d 06 2f 00 00 \tmov    0x2f06(%rip),%rdi        # 4008 <__dso_handle>\n",
      "    1102:\te8 29 ff ff ff       \tcall   1030 <__cxa_finalize@plt>\n",
      "    1107:\te8 64 ff ff ff       \tcall   1070 <deregister_tm_clones>\n",
      "    110c:\tc6 05 fd 2e 00 00 01 \tmovb   $0x1,0x2efd(%rip)        # 4010 <__TMC_END__>\n",
      "    1113:\t5d                   \tpop    %rbp\n",
      "    1114:\tc3                   \tret    \n",
      "    1115:\t0f 1f 00             \tnopl   (%rax)\n",
      "    1118:\tc3                   \tret    \n",
      "    1119:\t0f 1f 80 00 00 00 00 \tnopl   0x0(%rax)\n",
      "\n",
      "0000000000001120 <frame_dummy>:\n",
      "    1120:\tf3 0f 1e fa          \tendbr64 \n",
      "    1124:\te9 77 ff ff ff       \tjmp    10a0 <register_tm_clones>\n",
      "\n",
      "0000000000001129 <main>:\n",
      "    1129:\tf3 0f 1e fa          \tendbr64 \n",
      "    112d:\t55                   \tpush   %rbp\n",
      "    112e:\t48 89 e5             \tmov    %rsp,%rbp\n",
      "    1131:\tbf 02 00 00 00       \tmov    $0x2,%edi\n",
      "    1136:\te8 03 00 00 00       \tcall   113e <_Z6squarei>\n",
      "    113b:\t90                   \tnop\n",
      "    113c:\t5d                   \tpop    %rbp\n",
      "    113d:\tc3                   \tret    \n",
      "\n",
      "000000000000113e <_Z6squarei>:\n",
      "    113e:\tf3 0f 1e fa          \tendbr64 \n",
      "    1142:\t55                   \tpush   %rbp\n",
      "    1143:\t48 89 e5             \tmov    %rsp,%rbp\n",
      "    1146:\t89 7d fc             \tmov    %edi,-0x4(%rbp)\n",
      "    1149:\t8b 45 fc             \tmov    -0x4(%rbp),%eax\n",
      "    114c:\t0f af c0             \timul   %eax,%eax\n",
      "    114f:\t5d                   \tpop    %rbp\n",
      "    1150:\tc3                   \tret    \n",
      "\n",
      "Дизассемблирование раздела .fini:\n",
      "\n",
      "0000000000001154 <_fini>:\n",
      "    1154:\tf3 0f 1e fa          \tendbr64 \n",
      "    1158:\t48 83 ec 08          \tsub    $0x8,%rsp\n",
      "    115c:\t48 83 c4 08          \tadd    $0x8,%rsp\n",
      "    1160:\tc3                   \tret    \n"
     ]
    }
   ],
   "source": [
    "!g++ -o main main.o -L. -lsquare\n",
    "!ls -al main\n",
    "!objdump -d main"
   ]
  },
  {
   "cell_type": "markdown",
   "metadata": {},
   "source": [
    "```\n",
    "0000000000001140 <_Z6squarei>:\n",
    "    1140:\t55                   \tpush   %rbp\n",
    "    1141:\t48 89 e5             \tmov    %rsp,%rbp\n",
    "    1144:\t89 7d fc             \tmov    %edi,-0x4(%rbp)\n",
    "    1147:\t8b 45 fc             \tmov    -0x4(%rbp),%eax\n",
    "    114a:\t0f af 45 fc          \timul   -0x4(%rbp),%eax\n",
    "    114e:\t5d                   \tpop    %rbp\n",
    "    114f:\tc3                   \tret\n",
    "```\n",
    "было встроено внутрь исполняемого файла\n",
    "\n",
    "___"
   ]
  },
  {
   "cell_type": "markdown",
   "metadata": {},
   "source": [
    "\n",
    "### Ошибки при сборке\n",
    "\n",
    "1. Компиляции\n",
    "2. Компоновки"
   ]
  },
  {
   "cell_type": "markdown",
   "metadata": {},
   "source": []
  },
  {
   "cell_type": "markdown",
   "metadata": {},
   "source": [
    "### Ошибки компоновки\n",
    "\n",
    "#### Компоновщик не может найти символ\n",
    "\n",
    "```bash\n",
    "g++ -c math.cpp # not square\n",
    "g++ -o main main.o\n",
    "```\n"
   ]
  },
  {
   "cell_type": "code",
   "execution_count": 86,
   "metadata": {},
   "outputs": [
    {
     "name": "stdout",
     "output_type": "stream",
     "text": [
      "/usr/bin/ld: main.o: в функции «main»:\n",
      "main.cpp:(.text+0xe): неопределённая ссылка на «square(int)»\n",
      "collect2: error: ld returned 1 exit status\n"
     ]
    }
   ],
   "source": [
    "!g++ -o main main.o"
   ]
  },
  {
   "cell_type": "markdown",
   "metadata": {},
   "source": [
    "\n",
    "```bash\n",
    "g++ -c math.cpp\n",
    "g++ -o my_prog main.o square.o math.o\n",
    "```\n",
    "\n",
    "```log\n",
    "math.o: In function `square(int)':\n",
    "math.cpp:(.text+0x0): multiple definition of `square(int)'\n",
    "square.o:square.cpp:(.text+0x0): first defined here\n",
    "collect2: error: ld returned 1 exit status\n",
    "```"
   ]
  },
  {
   "cell_type": "markdown",
   "metadata": {},
   "source": [
    "\n",
    "##### Что делать?\n",
    "\n",
    "Убрать неоднозначность: переименовать одну из функций, поместить в другое пространство имен, изменить видимость и т.д.\n",
    "\n",
    "#### Рекомендуемое разделение на заголовочные файлы и файлы с реализацией\n",
    "\n",
    "> a.h\n",
    "\n",
    "```c++\n",
    "#pragma once\n",
    "\n",
    "struct A\n",
    "{\n",
    "\tvoid foo();\n",
    "};\n",
    "```\n",
    "\n",
    "> a.cpp\n",
    "\n",
    "```c++\n",
    "#include \"a.h\"\n",
    "\n",
    "void A::foo()\n",
    "{\n",
    "}\n",
    "```"
   ]
  },
  {
   "cell_type": "markdown",
   "metadata": {},
   "source": [
    "#### Защита от повторного включения\n",
    "\n",
    "> buffer.h\n",
    "\n",
    "```c++\n",
    "class Buffer\n",
    "{\n",
    "\t...\n",
    "};\n",
    "```\n",
    "\n",
    "> text_processor.h\n",
    "\n",
    "```c++\n",
    "#include \"buffer.h\"\n",
    "...\n",
    "```\n",
    "\n",
    "> main.cpp\n",
    "\n",
    "```c++\n",
    "#include \"buffer.h\"\n",
    "#include \"text_processor.h\"\n",
    "```\n",
    "\n",
    "В одной единице трансляции два объявления класса ```Buffer```, компилятор не знает какое использовать.\n",
    "\n",
    "> buffer.h\n",
    "\n",
    "```c++\n",
    "#ifndef BUFFER_H\n",
    "#define BUFFER_H\n",
    "\n",
    "class Buffer\n",
    "{\n",
    "\t...\n",
    "};\n",
    "\n",
    "#endif\n",
    "```\n",
    "\n",
    "> Или просто ```#pragma once```\n"
   ]
  },
  {
   "cell_type": "markdown",
   "metadata": {},
   "source": [
    "\n",
    "#### Предварительное объявление (forward declarations)\n",
    "\n",
    "##### a.h\n",
    "\n",
    "```c++\n",
    "class B;\n",
    "\n",
    "class A\n",
    "{\n",
    "\tB* b;\n",
    "};\n",
    "```\n",
    "\n",
    "##### a.cpp\n",
    "\n",
    "```c++\n",
    "#include \"b.h\"\n",
    "#include \"a.h\"\n",
    "\n",
    "...\n",
    "```\n",
    "\n",
    "##### b.h\n",
    "\n",
    "```c++\n",
    "class A;\n",
    "\n",
    "class B\n",
    "{\n",
    "\tA* a;\n",
    "};\n",
    "```\n",
    "\n",
    "___"
   ]
  },
  {
   "cell_type": "markdown",
   "metadata": {},
   "source": [
    "\n",
    "### make\n",
    "\n",
    "Утилита для автоматизации.\n",
    "\n",
    "Синтаксис:\n",
    "\n",
    "```\n",
    "цель: зависимости\n",
    "[tab] команда\n",
    "```\n",
    "\n",
    "___"
   ]
  },
  {
   "cell_type": "markdown",
   "metadata": {},
   "source": [
    "\n",
    "Скрипт как правило находится в файле с именем **Makefile**.\n",
    "\n",
    "Вызов:\n",
    "\n",
    "```\n",
    "make цель\n",
    "```\n",
    "\n",
    "Цель `all` вызывается, если явно не указать цель:\n",
    "\n",
    "```\n",
    "make\n",
    "```\n",
    "___"
   ]
  },
  {
   "cell_type": "markdown",
   "metadata": {},
   "source": [
    "\n",
    "#### Плохой вариант\n",
    "\n",
    "##### Makefile\n",
    "\n",
    "```make\n",
    "CC=g++\n",
    "\n",
    "all: my_prog\n",
    "\n",
    "my_prog: main.cpp square.cpp square.h \n",
    "    $(CC) -o my_prog main.cpp square.cpp\n",
    "\n",
    "clean:\n",
    "    rm -rf *.o my_prog\n",
    "```"
   ]
  },
  {
   "cell_type": "markdown",
   "metadata": {},
   "source": [
    "\n",
    "#### Хороший вариант\n",
    "\n",
    "##### Makefile\n",
    "\n",
    "```make\n",
    "CC=g++\n",
    "\n",
    "all: my_prog\n",
    "\n",
    "my_prog: main.o square.o \n",
    "    $(CC) -o my_prog main.o square.o\n",
    "\n",
    "main.o: main.cpp square.h\n",
    "    $(CC) -c main.cpp\n",
    "\n",
    "square.o: square.cpp square.h\n",
    "    $(CC) -c square.cpp\n",
    "\n",
    "clean:\n",
    "    rm -rf *.o my_prog\n",
    "```"
   ]
  },
  {
   "cell_type": "markdown",
   "metadata": {},
   "source": [
    "______\n",
    "______\n",
    "______"
   ]
  },
  {
   "cell_type": "markdown",
   "metadata": {},
   "source": []
  }
 ],
 "metadata": {
  "kernelspec": {
   "display_name": "Python 3",
   "language": "python",
   "name": "python3"
  },
  "language_info": {
   "codemirror_mode": {
    "name": "ipython",
    "version": 3
   },
   "file_extension": ".py",
   "mimetype": "text/x-python",
   "name": "python",
   "nbconvert_exporter": "python",
   "pygments_lexer": "ipython3",
   "version": "3.10.12"
  }
 },
 "nbformat": 4,
 "nbformat_minor": 2
}
