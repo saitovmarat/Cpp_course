{
 "cells": [
  {
   "cell_type": "markdown",
   "metadata": {},
   "source": [
    "__Вопросы для повторения__:\n",
    "* Зачем в С++ нужны шаблоны?\n",
    "* Сколько здесь будет скомпилировано функций `print`? Какие?\n",
    "\n",
    "```c++\n",
    "template<typename T>\n",
    "void print(const T& x)\n",
    "{\n",
    "    std::cout << x << std::endl;\n",
    "}\n",
    "\n",
    "int main()\n",
    "{\n",
    "    print(5);\n",
    "    print(6);\n",
    "    print(5.0);\n",
    "    print(6.0f);\n",
    "    print(\"Dobrynia\");\n",
    "    print(\"Nikitich\");\n",
    "    print(\"Alesha\");\n",
    "    print(\"Popovich\");\n",
    "    print(std::string(\"Ilya\"));\n",
    "    print(std::string(\"Muromec\"));\n",
    "}\n",
    "```\n",
    "\n",
    "* Сколько раз компилируется шаблон?\n",
    "* Плюсы и минусы шаблонов?\n",
    "\n",
    "```c++\n",
    "template<typename T>\n",
    "const T& min(const T& a, const T& b)\n",
    "{\n",
    "    if (a < b)\n",
    "        return a;\n",
    "    else\n",
    "        return b;\n",
    "}\n",
    "\n",
    "int main()\n",
    "{\n",
    "    const std::string s = min<std::string>(\"string 1\", \"string 2\");\n",
    "    std::cout << s << std::endl;\n",
    "}\n",
    "```\n",
    "\n",
    "* Скомпилируется ли такой код?\n",
    "\n",
    "```c++\n",
    "template<typename T>\n",
    "struct Vector3\n",
    "{\n",
    "    T x;\n",
    "    T y;\n",
    "    T z;\n",
    "    \n",
    "    Vector3<T> operator *(const float value)\n",
    "    {\n",
    "        return { x * value, y * value, z * value };\n",
    "    }\n",
    "};\n",
    "\n",
    "std::string f()\n",
    "{\n",
    "    Vector3<std::string> v;\n",
    "    return v.x;\n",
    "}\n",
    "```"
   ]
  },
  {
   "cell_type": "markdown",
   "metadata": {},
   "source": [
    "__Задача__:\n",
    "\n",
    "Напишите функцию PrintVectorPart, принимающую вектор целых чисел numbers, выполняющую поиск первого отрицательного числа в нём и выводящую в стандартный вывод все числа, расположенные левее найденного, отсортированные в обратном порядке. Если вектор не содержит отрицательных чисел, выведите все числа в обратном порядке без сортировки."
   ]
  },
  {
   "cell_type": "markdown",
   "metadata": {},
   "source": [
    "### Немного итераторов"
   ]
  },
  {
   "cell_type": "markdown",
   "metadata": {},
   "source": [
    "Что такое контейнер и что такое итератор общими словами:\n",
    "* контейнер - хранилище объектов одного типа\n",
    "* итератор - \"ключик\" к конкретному объекту в контейнере, возможно, позволяющий \"обходить\" контейнер - перечислять объекты в нём"
   ]
  },
  {
   "cell_type": "markdown",
   "metadata": {},
   "source": [
    "```c++\n",
    "// контейнер целых чисел\n",
    "std::vector<int> v = {1, 2, 3, 4, 5};\n",
    "\n",
    "// итератор, указывающий на нулевой элемент в контейнере:\n",
    "std::vector<int>::iterator it = v.begin();\n",
    "// auto it = v.begin();  // или так, компилятор сам выведет тип\n",
    "\n",
    "++it;  // теперь it указывает на первый элемент в контейнере\n",
    "\n",
    "*it = 42;\n",
    "\n",
    "std::cout << v[1]; // # 42\n",
    "v[1] = 55;\n",
    "std::cout << *it; // # 55\n",
    "```"
   ]
  },
  {
   "cell_type": "markdown",
   "metadata": {},
   "source": [
    "__Вопрос__:\n",
    "* с какими контейнерами мы уже имели дело в курсе?"
   ]
  },
  {
   "cell_type": "markdown",
   "metadata": {},
   "source": [
    "<br />"
   ]
  },
  {
   "cell_type": "markdown",
   "metadata": {},
   "source": [
    "##### Итераторы. begin && end"
   ]
  },
  {
   "cell_type": "markdown",
   "metadata": {},
   "source": [
    "`begin()`, `end()` - методы у контейнеров, возвращающие итераторы:\n",
    "* `begin()` на первый элемент в контейнере\n",
    "* `end()` на следующий за последним элементом"
   ]
  },
  {
   "cell_type": "markdown",
   "metadata": {},
   "source": [
    "Как, зная `begin()` и `end()`, проверить, что контейнер пуст?"
   ]
  },
  {
   "cell_type": "markdown",
   "metadata": {},
   "source": [
    "```c++\n",
    "std::vector<int> v = {10, 20, 30, 40};\n",
    "```"
   ]
  },
  {
   "cell_type": "markdown",
   "metadata": {},
   "source": [
    "![](vector_internals.png)"
   ]
  },
  {
   "cell_type": "markdown",
   "metadata": {},
   "source": [
    "```c++\n",
    "auto it = v.begin();\n",
    "std::cout << *it; // 10\n",
    "        \n",
    "++it;\n",
    "std::cout << *it; // 20\n",
    "        \n",
    "++it;\n",
    "std::cout << *it; // 30\n",
    "\n",
    "++it;\n",
    "std::cout << *it; // 40\n",
    "\n",
    "++it; // it == v.end()\n",
    "std::cout << *it; // UB - you should never dereference end()!\n",
    "```"
   ]
  },
  {
   "cell_type": "markdown",
   "metadata": {},
   "source": [
    "<br />"
   ]
  },
  {
   "cell_type": "markdown",
   "metadata": {},
   "source": [
    "##### range for"
   ]
  },
  {
   "cell_type": "markdown",
   "metadata": {},
   "source": [
    "https://en.cppreference.com/w/cpp/language/range-for"
   ]
  },
  {
   "cell_type": "markdown",
   "metadata": {},
   "source": [
    "```c++\n",
    "std::vector<int> v = {10, 20, 30, 40};\n",
    "for (int x : v)\n",
    "    std::cout << x; // во что разворачивается range-for? (упрощённо)\n",
    "```"
   ]
  },
  {
   "cell_type": "markdown",
   "metadata": {},
   "source": [
    "во что разворачивается range-for? (упрощённо)"
   ]
  },
  {
   "cell_type": "markdown",
   "metadata": {},
   "source": [
    "```c++\n",
    "for (auto x : v) { ... }\n",
    "```"
   ]
  },
  {
   "cell_type": "markdown",
   "metadata": {},
   "source": [
    "```c++\n",
    "{\n",
    "    auto&& __range = v;\n",
    "    auto __begin = __range.begin();\n",
    "    auto __end = __range.end();\n",
    "    for (; __begin != __end; ++__begin) {\n",
    "        auto& x = *__begin;\n",
    "        ...\n",
    "    }\n",
    "}\n",
    "```"
   ]
  },
  {
   "cell_type": "markdown",
   "metadata": {},
   "source": [
    "Смысл в том, что как только для пользовательского контейнера определены итераторы и методы `begin()`, `end()`, `cbegin()`, `cend()`, для него \"из коробки\" начинает работать range-for."
   ]
  },
  {
   "cell_type": "markdown",
   "metadata": {},
   "source": [
    "<br />"
   ]
  },
  {
   "cell_type": "markdown",
   "metadata": {},
   "source": [
    "##### Инвалидация итераторов"
   ]
  },
  {
   "cell_type": "markdown",
   "metadata": {},
   "source": [
    "Итераторы могут быть инвалидированы, если контейнер меняется.\n",
    "\n",
    "Под инвалидацией итераторов понимается, что они \"ломаются молча\", о том, что они сломаны, никак не узнать. Программист обязан уметь читать документацию и отслеживать такие ситуации.\n",
    "\n",
    "Рассмотрим на примере `std::vector` в предположении, что итератор реализован как указатель на элемент в `std::vector`.\n"
   ]
  },
  {
   "cell_type": "markdown",
   "metadata": {},
   "source": [
    "```c++\n",
    "std::vector<int> v = {10, 20, 30, 40};\n",
    "\n",
    "auto v_end = v.end();\n",
    "auto it = v.begin();\n",
    "\n",
    "v.push_back(50);\n",
    "// at this point:\n",
    "// |it|    - might be invalidated\n",
    "// |v_end| - might be invalidated\n",
    "\n",
    "std::cout << *it; // oooops, ub\n",
    "if (v.begin() == v_end)  // ooooops, ub\n",
    "    ...;\n",
    "```"
   ]
  },
  {
   "cell_type": "markdown",
   "metadata": {},
   "source": [
    "https://en.cppreference.com/w/cpp/container/vector/push_back"
   ]
  },
  {
   "cell_type": "markdown",
   "metadata": {},
   "source": [
    "```c++\n",
    "std::set<int> s = {20, 30, 40, 50};\n",
    "        \n",
    "auto it = s.begin();\n",
    "std::cout << *it;  // 20\n",
    "\n",
    "s.insert(10);\n",
    "\n",
    "std::cout << *it;  // ok, 20\n",
    "```"
   ]
  },
  {
   "cell_type": "markdown",
   "metadata": {},
   "source": [
    "Почему так? Потому что документация:\n",
    "\n",
    "https://en.cppreference.com/w/cpp/container/set/insert"
   ]
  },
  {
   "cell_type": "markdown",
   "metadata": {},
   "source": [
    "*У каждого контейнера у каждого метода прописан контракт на валидность итераторов (когда и какие итераторы инвалидируются).*\n",
    "\n",
    "*Читайте документацию внимательно!*"
   ]
  },
  {
   "cell_type": "markdown",
   "metadata": {},
   "source": [
    "<br />"
   ]
  },
  {
   "cell_type": "markdown",
   "metadata": {},
   "source": [
    "##### Правильное удаление элементов из map/set по условию"
   ]
  },
  {
   "cell_type": "markdown",
   "metadata": {},
   "source": [
    "Как неправильно удалять элементы из `std::set`:"
   ]
  },
  {
   "cell_type": "markdown",
   "metadata": {},
   "source": [
    "```c++\n",
    "std::set<int> s = {1, 2, 3, 4, 5};\n",
    "\n",
    "auto it = s.begin();\n",
    "for(; it != s.end(); ++it)\n",
    "    if((*it) % 2 == 1)\n",
    "        s.erase(it);\n",
    "```"
   ]
  },
  {
   "cell_type": "markdown",
   "metadata": {},
   "source": [
    "В каком месте баг?"
   ]
  },
  {
   "cell_type": "markdown",
   "metadata": {},
   "source": [
    "Правильное удаление:"
   ]
  },
  {
   "cell_type": "markdown",
   "metadata": {},
   "source": [
    "```c++\n",
    "std::set<int> s = {1, 2, 3, 4, 5};\n",
    "for(auto it = s.begin(); it != s.end();)\n",
    "{\n",
    "    if((*it) % 2 == 1)\n",
    "        it = s.erase(it);\n",
    "    else\n",
    "        ++it;\n",
    "}\n",
    "```"
   ]
  },
  {
   "cell_type": "markdown",
   "metadata": {},
   "source": [
    "<br />"
   ]
  },
  {
   "cell_type": "markdown",
   "metadata": {},
   "source": [
    "Обобщённо проблема выглядит следующим образом:\n",
    "    \n",
    "```c++\n",
    "for (const auto& item : container) {    \n",
    "    operate_with(item, container);\n",
    "    // внутри цикла работа с container-ом не должна\n",
    "    // инвалидировать его итераторы, иначе перебор\n",
    "    // элементов в контейнере сломается.\n",
    "}\n",
    "```"
   ]
  },
  {
   "cell_type": "markdown",
   "metadata": {},
   "source": [
    "<br />"
   ]
  },
  {
   "cell_type": "markdown",
   "metadata": {},
   "source": [
    "##### Операции над итераторами доступа"
   ]
  },
  {
   "cell_type": "markdown",
   "metadata": {},
   "source": [
    "```c++\n",
    "std::vector<int> v = {10, 20, 30, 40, 50};\n",
    "        \n",
    "auto it = v.begin();\n",
    "\n",
    "// некоторые итераторы позволяют брать следующий элемент:\n",
    "auto jt_1 = it + 1;\n",
    "auto jt_2 = std::next(it);\n",
    "        \n",
    "// некоторые итераторы позволяют брать предыдущий элемент:\n",
    "auto jt_3 = it - 1;         // ?\n",
    "auto jt_4 = std::prev(it);  // ?\n",
    "        \n",
    "// некоторые итераторы позволяют прыгать на n элементов вперёд:\n",
    "auto jt_5 = it + 4;\n",
    "auto jt_6 = std::advance(it, 4);\n",
    "\n",
    "// некоторые итераторы позволяют прыгать на n элементов назад:\n",
    "auto jt_7 = it - 4;                // ?\n",
    "auto jt_8 = std::advance(it, -4);  // ?\n",
    "\n",
    "// некоторые итераторы позволяют считать расстояние между ними:\n",
    "std::cout << std::distance(it, jt_5);  // 4\n",
    "```"
   ]
  },
  {
   "cell_type": "markdown",
   "metadata": {},
   "source": [
    "Стандартные операции над итераторами доступа (access iterators):\n",
    "* `std::next`\n",
    "* `std::prev`\n",
    "* `std::advance`\n",
    "* `std::distance`"
   ]
  },
  {
   "cell_type": "markdown",
   "metadata": {},
   "source": [
    "<br />"
   ]
  },
  {
   "cell_type": "markdown",
   "metadata": {},
   "source": [
    "##### Категории итераторов"
   ]
  },
  {
   "cell_type": "markdown",
   "metadata": {},
   "source": [
    "Как вы помните, у access iterators у `std::forward_list` нельзя делать `--it`, они только для хождения вперёд и только по одному шагу. А у `std::vector` можно вперёд-назад и на любое число шагов за раз. По этому принципу классифицируются итераторы доступа:\n",
    "* [Forward Iterator](https://en.cppreference.com/w/cpp/named_req/ForwardIterator)\n",
    "* [Bidirectional Iterator](https://en.cppreference.com/w/cpp/named_req/BidirectionalIterator)\n",
    "* [Random Access Iterator](https://en.cppreference.com/w/cpp/named_req/RandomAccessIterator)"
   ]
  },
  {
   "cell_type": "markdown",
   "metadata": {},
   "source": [
    "Классификация имеет важное значение для алгоритмов. Например, алгоритм сортировки работает только с Random Access Iterator:"
   ]
  },
  {
   "cell_type": "markdown",
   "metadata": {},
   "source": [
    "```c++\n",
    "std::vector<int> v = {20, 30, 10};\n",
    "std::sort(v.begin(), v.end());  // ok\n",
    "        \n",
    "std::list<int> l = {20, 30, 10};\n",
    "std::sort(l.begin(), l.end());  // compile-time error\n",
    "```"
   ]
  },
  {
   "cell_type": "markdown",
   "metadata": {},
   "source": [
    "И это отражено в требованиях к алгоритму:\n",
    "    \n",
    "https://en.cppreference.com/w/cpp/algorithm/sort"
   ]
  },
  {
   "cell_type": "markdown",
   "metadata": {},
   "source": [
    "Поэтому для `std::list` реализовали свой `sort`:\n",
    "\n",
    "https://en.cppreference.com/w/cpp/container/list/sort"
   ]
  },
  {
   "cell_type": "markdown",
   "metadata": {},
   "source": [
    "```c++\n",
    "std::list<int> l = {20, 30, 10};\n",
    "l.sort();\n",
    "```"
   ]
  },
  {
   "cell_type": "markdown",
   "metadata": {},
   "source": [
    "<br />"
   ]
  },
  {
   "cell_type": "markdown",
   "metadata": {},
   "source": [
    "Прочие типы итераторов:\n",
    "* [Input Iterator](https://en.cppreference.com/w/cpp/named_req/InputIterator)\n",
    "* [Output Iterator](https://en.cppreference.com/w/cpp/named_req/OutputIterator)\n",
    "* [Reverse Iterator](https://en.cppreference.com/w/cpp/iterator/reverse_iterator)"
   ]
  },
  {
   "cell_type": "markdown",
   "metadata": {},
   "source": [
    "##### reverse_iterator"
   ]
  },
  {
   "cell_type": "markdown",
   "metadata": {},
   "source": [
    "![](reverse_iterator.jpg)"
   ]
  },
  {
   "cell_type": "markdown",
   "metadata": {},
   "source": [
    "```c++\n",
    "std::vector<int> v = {10, 20, 30, 40};\n",
    "\n",
    "// сортировка по возрастанию:\n",
    "std::sort(v.begin(), v.end());\n",
    "        \n",
    "// сортировка по убыванию:\n",
    "std::sort(v.rbegin(), v.rend());\n",
    "```"
   ]
  },
  {
   "cell_type": "markdown",
   "metadata": {},
   "source": [
    "Конвертация iterator <-> reverse_iterator:\n",
    "\n",
    "Обратите внимание на перескакивание итератора на предыдущий элемент при конвертации."
   ]
  },
  {
   "cell_type": "markdown",
   "metadata": {},
   "source": [
    "```c++\n",
    "std::vector<int> v = {10, 20, 30, 40};\n",
    "        \n",
    "auto it = v.begin() + 2; // 30\n",
    "\n",
    "auto rit = std::make_reverse_iterator(it); // 20 !!!!\n",
    "++rit; // 10\n",
    "\n",
    "auto it2 = rit.base();  // 20 !!!!\n",
    "++it2; // 30\n",
    "```"
   ]
  },
  {
   "cell_type": "markdown",
   "metadata": {},
   "source": [
    "<br />"
   ]
  },
  {
   "cell_type": "markdown",
   "metadata": {},
   "source": [
    "#### Специфика итераторов в С++"
   ]
  },
  {
   "cell_type": "markdown",
   "metadata": {},
   "source": [
    "Формально, итератор - это класс, который обязан определить методы, требуемые его категорией. Других требований нет.\n",
    "\n",
    "Формально, итератор не обязан итерироваться по контейнерам или итерироваться вообще по чему либо. Итератор может делать любую работу.\n",
    "\n",
    "Напишем свой собственный итератор по... простым числам:\n",
    "\n",
    "```c++\n",
    "class PrimeNumbersIterator {\n",
    "private:\n",
    "    std::uint32_t index_ = 0;\n",
    "    std::uint32_t value_ = 2;\n",
    "    \n",
    "public:\n",
    "    PrimeNumbersIterator(const std::uint32_t index)\n",
    "        : index_(index)\n",
    "        , value_(get_nth_prime_number(index))\n",
    "    {}\n",
    "    \n",
    "    PrimeNumbersIterator(const PrimeNumbersIterator&) = default;\n",
    "    PrimeNumbersIterator(PrimeNumbersIterator&&) = default;\n",
    "    PrimeNumbersIterator& operator =(const PrimeNumbersIterator&) = default;\n",
    "    PrimeNumbersIterator& operator = (PrimeNumbersIterator&&) = default;\n",
    "    \n",
    "    // ++it\n",
    "    PrimeNumbersIterator& operator ++() {\n",
    "        switch_to_next_prime();\n",
    "        return *this;\n",
    "    }\n",
    "\n",
    "    // it++\n",
    "    PrimeNumbersIterator operator ++(int) {\n",
    "        PrimeNumbersIterator old = *this;\n",
    "        switch_to_next_prime();\n",
    "        return old;\n",
    "    }\n",
    "    \n",
    "    std::uint32_t operator *() const  {\n",
    "        return value_;\n",
    "    }\n",
    "    \n",
    "    std::uint32_t get_prime_number_index() const {\n",
    "        return index_;\n",
    "    }\n",
    "\n",
    "private:\n",
    "    void switch_to_next_prime() {\n",
    "        ++index;\n",
    "        do {\n",
    "            ++value_;\n",
    "        } while (!is_prime(value_));\n",
    "    }\n",
    "};\n",
    "\n",
    "bool operator == (const PrimeNumbersIterator& lhs,\n",
    "                  const PrimeNumbersIterator& rhs) {\n",
    "    return\n",
    "        lhs.get_prime_number_index() ==\n",
    "        rhs.get_prime_number_index();\n",
    "}\n",
    "\n",
    "bool operator != (const PrimeNumbersIterator& lhs,\n",
    "                  const PrimeNumbersIterator& rhs) {\n",
    "    return\n",
    "        lhs.get_prime_number_index() !=\n",
    "        rhs.get_prime_number_index();\n",
    "}\n",
    "\n",
    "\n",
    "// usage:\n",
    "PrimeNumbersIterator end(5);\n",
    "for (PrimeNumbersIterator it; it != end; ++it)\n",
    "    std::cout << *it;\n",
    "```"
   ]
  },
  {
   "cell_type": "markdown",
   "metadata": {},
   "source": [
    "<br />"
   ]
  },
  {
   "cell_type": "markdown",
   "metadata": {},
   "source": [
    "В стандартной библиотеке есть несколько классов итераторов, реализующих \"нестандартный\" подход:\n",
    "* `std::istream_iterator<T>` - читает из потока объекты типа T, пока поток не закончится\n",
    "* `std::ostream_iterator<T>` - выводит в потом объекты типа T через `operator <<`\n",
    "\n",
    "Мощь и безобразие итераторов в двух примерах:"
   ]
  },
  {
   "cell_type": "markdown",
   "metadata": {},
   "source": [
    "```c++\n",
    "std::istringstream str(\"0.1 0.2 0.3 0.4\");\n",
    "const double sum = std::accumulate(std::istream_iterator<double>(str),\n",
    "                                   std::istream_iterator<double>(),\n",
    "                                   0.);\n",
    "\n",
    "\n",
    "std::vector<int> v = {1, 2, 3, 4, 5};\n",
    "std::copy(v.begin(),\n",
    "          v.end(),\n",
    "          std::ostream_iterator<int>(std::cout, \" \"));\n",
    "```"
   ]
  },
  {
   "cell_type": "markdown",
   "metadata": {},
   "source": [
    "<br />"
   ]
  },
  {
   "cell_type": "markdown",
   "metadata": {},
   "source": [
    "**Задача**: найти последнее число 5 в последовательности, предшествующее первому 10"
   ]
  },
  {
   "cell_type": "markdown",
   "metadata": {},
   "source": [
    "Вариант решения:"
   ]
  },
  {
   "cell_type": "markdown",
   "metadata": {},
   "source": [
    "```c++\n",
    "template<typename It>\n",
    "It function(It begin, It end)\n",
    "{\n",
    "    auto it = std::find(begin, end, 10);\n",
    "    \n",
    "    if (it == end)\n",
    "        return end;  // no 10\n",
    "    \n",
    "    auto rit = std::find(std::make_reverse_iterator(it),\n",
    "                         std::make_reverse_iterator(begin),\n",
    "                         5);\n",
    "\n",
    "    if (rit == std::make_reverse_iterator(begin))\n",
    "        return end;  // no 5 before 10\n",
    "    \n",
    "    return std::next(rit.base());    \n",
    "}\n",
    "\n",
    "std::list<int> l = {1, 2, 3, 5, 5, 10};\n",
    "auto it = function(l.begin(), l.end());\n",
    "auto rit = function(l.rbegin(), l.rend());\n",
    "```"
   ]
  },
  {
   "cell_type": "markdown",
   "metadata": {},
   "source": [
    "<br />"
   ]
  },
  {
   "cell_type": "markdown",
   "metadata": {},
   "source": [
    "__Задачи__:\n",
    "\n",
    "\tУсловие\n",
    "\tВам требуется написать функцию со следующим заголовком:\n",
    "\n",
    "std::vector<std::string> Split(const std::string& str, char delimiter);\n",
    "или\n",
    "auto Split(const std::string& str, char delimiter) -> std::vector<std::string> \n",
    "\n",
    "\tФункция должна вернуть вектор строк, полученный разбиением строки str на части по указанному символу-разделителю delimiter.\n",
    "\tЕсли разделитель встретился в начале или в конце строки str, то в начале (соответственно, в конце) вектора с результатом должна быть пустая строка.\n",
    "\tЕсли два разделителя встретились рядом, то пустая строка между ними тоже должна попасть в ответ. Для пустой строки надо вернуть пустой вектор.\n",
    "\n",
    "\tНапример, Split(\"What_is_your_name?\", '_') должна вернуть вектор из строк What, is, your иname?.\n",
    "___\n",
    "\n",
    "\tУсловие\n",
    "\tВам требуется написать функцию Join со следующим заголовком:\n",
    "\n",
    "std::string Join(const std::vector<std::string>& tokens, char delimiter);\n",
    "или\n",
    "auto Join(std::vector<std::string>& tokens, char delim) -> std::string;\n",
    "\n",
    "\tФункция должна вернуть строку, полученную склейкой элементов вектора через указанный разделитель.\n",
    "\n",
    "\tНапример, Join({\"What\", \"is\", \"your\", \"name?\"}, '_') должна вернуть строку \"What_is_your_name?\".\n",
    "\n",
    "\tПримечание\n",
    "\tЕсли вектор tokens пустой, то функция должна вернуть пустую строку. Если в векторе tokens ровно один элемент, то он и должен вернуться в ответе.\n"
   ]
  }
 ],
 "metadata": {
  "kernelspec": {
   "display_name": "Python 3",
   "language": "python",
   "name": "python3"
  },
  "language_info": {
   "codemirror_mode": {
    "name": "ipython",
    "version": 3
   },
   "file_extension": ".py",
   "mimetype": "text/x-python",
   "name": "python",
   "nbconvert_exporter": "python",
   "pygments_lexer": "ipython3",
   "version": "3.6.9"
  }
 },
 "nbformat": 4,
 "nbformat_minor": 2
}
