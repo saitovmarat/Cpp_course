{
 "cells": [
  {
   "cell_type": "markdown",
   "metadata": {},
   "source": [
    "### Многопоточность. Часть 2"
   ]
  },
  {
   "cell_type": "markdown",
   "metadata": {},
   "source": [
    "<br />"
   ]
  },
  {
   "cell_type": "markdown",
   "metadata": {},
   "source": [
    "##### race condition"
   ]
  },
  {
   "cell_type": "markdown",
   "metadata": {},
   "source": [
    "https://en.wikipedia.org/wiki/Race_condition"
   ]
  },
  {
   "cell_type": "markdown",
   "metadata": {},
   "source": [
    "__Вопросы__:\n",
    "* что такое race condition?\n",
    "* как с ним бороться?\n",
    "* каковы гарантии стандарта языка С++ при возникновении race contidition?"
   ]
  },
  {
   "cell_type": "markdown",
   "metadata": {},
   "source": [
    "__Пример__:\n",
    "\n",
    "```C++\n",
    "#include <cassert>\n",
    "#include <thread>\n",
    "#include <vector>\n",
    "\n",
    "int parallel_sum(const std::vector<int>& v, const unsigned threads_count)\n",
    "{\n",
    "    const unsigned len = v.size() / threads_count;\n",
    "    assert(len * threads_count == v.size());\n",
    "\n",
    "    int rv = 0;\n",
    "\n",
    "    std::vector<std::thread> threads;\n",
    "    for (unsigned i = 0; i < threads_count; ++i)\n",
    "        threads.emplace_back([&](){\n",
    "            const unsigned start_ix = len * i;\n",
    "            const unsigned final_ix = len * (i + 1);\n",
    "            for (unsigned ix = start_ix; ix < final_ix; ++ix)\n",
    "                 rv += v[ix];\n",
    "        });\n",
    "\n",
    "    for (auto& t: threads)\n",
    "        t.join();\n",
    "\n",
    "    return rv;\n",
    "}\n",
    "\n",
    "int main()\n",
    "{\n",
    "    const std::vector<int> v(3'000'000, 1);\n",
    "    std::printf(\"sum 1 thr: %d\\n\", parallel_sum(v, 1));\n",
    "    std::printf(\"sum 3 thr: %d\\n\", parallel_sum(v, 3));\n",
    "    return 0;\n",
    "}\n",
    "```"
   ]
  },
  {
   "cell_type": "markdown",
   "metadata": {},
   "source": [
    "Возможный вывод:\n",
    "    \n",
    "```sh\n",
    "sum 1 thr: 3000000\n",
    "sum 3 thr: 1054551\n",
    "```"
   ]
  },
  {
   "cell_type": "markdown",
   "metadata": {},
   "source": [
    "Как получается race condition:"
   ]
  },
  {
   "cell_type": "markdown",
   "metadata": {},
   "source": [
    "```c++\n",
    "thread_1:             | thread_2:\n",
    "    read  rv          |     read  rv\n",
    "    calc  rv + v[i1]  |     calc  rv + v[i2]\n",
    "    write rv          |     write rv\n",
    "```"
   ]
  },
  {
   "cell_type": "markdown",
   "metadata": {},
   "source": [
    "__Замечание__: в примере ещё одна ошибка тут. В чём она?\n",
    "\n",
    "```C++\n",
    "std::vector<std::thread> threads;\n",
    "for (unsigned i = 0; i < threads_count; ++i)\n",
    "    threads.emplace_back([&](){\n",
    "        const unsigned start_ix = len * i;\n",
    "        const unsigned final_ix = len * (i + 1);\n",
    "        for (unsigned ix = start_ix; ix < final_ix; ++ix)\n",
    "            rv += v[ix];\n",
    "    });\n",
    "```\n",
    "\n",
    "<details>\n",
    "<summary>ответ</summary>\n",
    "<p>\n",
    "    \n",
    "Правильный вариант:\n",
    "\n",
    "```c++\n",
    "std::vector<std::thread> threads;\n",
    "for (unsigned i = 0; i < threads_count; ++i)\n",
    "    threads.emplace_back([len, i, &rv, &v](){\n",
    "        const unsigned start_ix = len * i;\n",
    "        const unsigned final_ix = len * (i + 1);\n",
    "        for (unsigned ix = start_ix; ix < final_ix; ++ix)\n",
    "            rv += v[ix];\n",
    "    });\n",
    "``` \n",
    "\n",
    "</p>\n",
    "</details>"
   ]
  },
  {
   "cell_type": "markdown",
   "metadata": {},
   "source": [
    "<br />"
   ]
  },
  {
   "cell_type": "markdown",
   "metadata": {},
   "source": [
    "##### mutex"
   ]
  },
  {
   "cell_type": "markdown",
   "metadata": {},
   "source": [
    "MUTual EXclusive access primitive\n",
    "\n",
    "https://en.cppreference.com/w/cpp/thread/mutex"
   ]
  },
  {
   "cell_type": "markdown",
   "metadata": {},
   "source": [
    "Методы:\n",
    "    \n",
    "* `void lock()` - дождаться, пока mutex будет освобождён, и захватить его\n",
    "* `void unlock()` - освободить захваченный mutex\n",
    "* `bool try_lock()` - попытка захватить mutex, если он свободен\n",
    "* `native_handle_type native_handle()` - ОС-специфичный handle (как можно здесь догадаться, mutex - объект ядра ОС)"
   ]
  },
  {
   "cell_type": "markdown",
   "metadata": {},
   "source": [
    "Вариант исправления задачи с суммой через mutex:\n",
    "\n",
    "```c++\n",
    "int parallel_sum(const std::vector<int>& v, const unsigned threads_count)\n",
    "{\n",
    "    const unsigned len = v.size() / threads_count;\n",
    "    assert(len * threads_count == v.size());\n",
    "\n",
    "    int rv = 0;\n",
    "    std::mutex mtx;  // synchronization primitive for |rv|\n",
    "\n",
    "    std::vector<std::thread> threads;\n",
    "    for (unsigned i = 0; i < threads_count; ++i)\n",
    "        threads.emplace_back([i, len, &rv, &v, &mtx](){\n",
    "            const unsigned start_ix = len * i;\n",
    "            const unsigned final_ix = len * (i + 1);\n",
    "            for (unsigned ix = start_ix; ix < final_ix; ++ix)\n",
    "            {\n",
    "                mtx.lock();    // acquire resource\n",
    "                rv += v[ix];\n",
    "                mtx.unlock();  // release resource\n",
    "            }\n",
    "        });\n",
    "\n",
    "    for (auto& t: threads)\n",
    "        t.join();\n",
    "\n",
    "    return rv;\n",
    "}\n",
    "```\n"
   ]
  },
  {
   "cell_type": "markdown",
   "metadata": {},
   "source": [
    "__Замечание__: т.к. переменная `unsigned len` является константой, то в поток её можно передать и по ссылке:\n",
    "* Константные объекты, имеющиеся до создания фонового потока, можно читать без опасение на race condition\n",
    "* `unsigned` - маленький объект, его проще передать по копии, чем по ссылке"
   ]
  },
  {
   "cell_type": "markdown",
   "metadata": {},
   "source": [
    "__Для обсуждения__:\n",
    "    \n",
    "1. Никогда не делайте частый доступ до int-переменной через mutex:\n",
    "    * проблема kernel space\n",
    "    * более дешёвые альтернативы\n",
    "    * алгоритм может быть реализован с меньшим числом синхронизаций\n",
    "2. Какая проблема с парными вызовами `lock()/unlock()`? Подсказка: то же самое что и с `new/delete`?"
   ]
  },
  {
   "cell_type": "markdown",
   "metadata": {},
   "source": [
    "<br />"
   ]
  },
  {
   "cell_type": "markdown",
   "metadata": {},
   "source": [
    "##### lock_guard"
   ]
  },
  {
   "cell_type": "markdown",
   "metadata": {},
   "source": [
    "https://en.cppreference.com/w/cpp/thread/lock_guard"
   ]
  },
  {
   "cell_type": "markdown",
   "metadata": {},
   "source": [
    "`std::lock_guard` - RAII обёртка над `std::mutex::lock/unlock`.\n",
    "\n",
    "В конструкторе захватывает mutex, в деструкторе его освобождает."
   ]
  },
  {
   "cell_type": "markdown",
   "metadata": {},
   "source": [
    "Второй вариант параллельного суммирования:\n",
    "    \n",
    "```C++\n",
    "int parallel_sum(const std::vector<int>& v, const unsigned threads_count)\n",
    "{\n",
    "    const unsigned len = v.size() / threads_count;\n",
    "    assert(len * threads_count == v.size());\n",
    "\n",
    "    int rv = 0;\n",
    "    std::mutex mtx;  // synchronization primitive for |rv|\n",
    "\n",
    "    std::vector<std::thread> threads;\n",
    "    for (unsigned i = 0; i < threads_count; ++i)\n",
    "        threads.emplace_back([i, len, &rv, &v, &mtx](){\n",
    "            const unsigned start_ix = len * i;\n",
    "            const unsigned final_ix = len * (i + 1);\n",
    "            for (unsigned ix = start_ix; ix < final_ix; ++ix)\n",
    "            {\n",
    "                std::lock_guard<std::mutex> guard(mtx);  // acquire resource\n",
    "                rv += v[ix];\n",
    "            }  // release resource\n",
    "        });\n",
    "\n",
    "    for (auto& t: threads)\n",
    "        t.join();\n",
    "\n",
    "    return rv;\n",
    "}\n",
    "```"
   ]
  },
  {
   "cell_type": "markdown",
   "metadata": {},
   "source": [
    "<br />"
   ]
  },
  {
   "cell_type": "markdown",
   "metadata": {},
   "source": [
    "Вариант многопоточного логирования в `std::cout` с предыдущих лекций (чтобы данные между `std::endl` и тексты не перемежались между собой):\n",
    "\n",
    "```C++\n",
    "// global mutex for output ostream operations\n",
    "std::mutex ostream_mutex;\n",
    "\n",
    "static void print_hello_world()\n",
    "{\n",
    "    std::lock_guard<std::mutex> guard(ostream_mutex);\n",
    "    std::cout << \"hello world! (from function)\" << std::endl;\n",
    "}\n",
    "\n",
    "int main()\n",
    "{\n",
    "    std::vector<std::thread> threads;\n",
    "    for (int i = 0; i < 5; ++i)\n",
    "        threads.emplace_back(print_hello_world);\n",
    "\n",
    "    std::lock_guard<std::mutex> guard(ostream_mutex);\n",
    "    std::cout << \"hello world! (from main before threads join)\" << std::endl;    \n",
    "\n",
    "    for (auto& thread : threads)\n",
    "        thread.join();\n",
    "    \n",
    "    std::cout << \"hello world! (from main after  threads join)\" << std::endl;\n",
    "\n",
    "    return 0;\n",
    "}\n",
    "```"
   ]
  },
  {
   "cell_type": "markdown",
   "metadata": {},
   "source": [
    "__Вопрос__: где ошибка в коде?"
   ]
  },
  {
   "cell_type": "markdown",
   "metadata": {},
   "source": [
    "Исправленный вариант:\n",
    "    \n",
    "```C++\n",
    "// global mutex for output ostream operations\n",
    "std::mutex ostream_mutex;\n",
    "\n",
    "static void print_hello_world()\n",
    "{\n",
    "    std::lock_guard<std::mutex> guard(ostream_mutex);\n",
    "    std::cout << \"hello world! (from function)\" << std::endl;\n",
    "}\n",
    "\n",
    "int main()\n",
    "{\n",
    "    std::vector<std::thread> threads;\n",
    "    for (int i = 0; i < 5; ++i)\n",
    "        threads.emplace_back(print_hello_world);\n",
    "\n",
    "    {\n",
    "        std::lock_guard<std::mutex> guard(ostream_mutex);\n",
    "        std::cout << \"hello world! (from main before threads join)\" << std::endl;\n",
    "    }\n",
    "\n",
    "    for (auto& thread : threads)\n",
    "        thread.join();\n",
    "\n",
    "    // обратить внимание, что здесь lock_guard не нужен.\n",
    "    // почему?\n",
    "    std::cout << \"hello world! (from main after  threads join)\" << std::endl;\n",
    "\n",
    "    return 0;\n",
    "}\n",
    "```"
   ]
  },
  {
   "cell_type": "markdown",
   "metadata": {},
   "source": [
    "<br />"
   ]
  },
  {
   "cell_type": "markdown",
   "metadata": {},
   "source": [
    "##### объекты с доступом из нескольких потоков"
   ]
  },
  {
   "cell_type": "markdown",
   "metadata": {},
   "source": [
    "Вариант организации многопоточной очереди (есть способы сделать лучше):\n",
    "\n",
    "```C++\n",
    "template<typename T>\n",
    "class MTQueue\n",
    "{\n",
    "public:\n",
    "    std::optional<T> pop() {\n",
    "        std::lock_guard<std::mutex> guard(mtx);\n",
    "        \n",
    "        if (queue.empty())\n",
    "            return std::nullopt;\n",
    "        \n",
    "        T x = queue.back();\n",
    "        queue.pop_back();\n",
    "        return x;\n",
    "    }\n",
    "    \n",
    "    void push(T x) {\n",
    "        std::lock_guard<std::mutex> guard(mtx);        \n",
    "        queue.push_front(std::move(x));        \n",
    "    }\n",
    "    \n",
    "    MTQueue() = default;    \n",
    "    \n",
    "    MTQueue(const MTQueue& rhs) {\n",
    "        std::lock_guard<std::mutex> guard(rhs.mtx);\n",
    "        queue = rhs.queue;\n",
    "    }\n",
    "\n",
    "    MTQueue(MTQueue&& rhs) noexcept {\n",
    "        std::lock_guard<std::mutex> guard(rhs.mtx);\n",
    "        queue = std::move(rhs.queue);\n",
    "    }\n",
    "    \n",
    "    ~MTQueue() noexcept {\n",
    "        // std::lock_guard<std::mutex> guard(mtx);\n",
    "        queue.clear();\n",
    "    }\n",
    "\n",
    "    // мы ещё не готовы реализовать присваивание двух объектов,\n",
    "    // живущих на разных потоках\n",
    "    MTQueue& operator = (const MTQueue& rhs) = delete;\n",
    "    MTQueue& operator = (MTQueue&& rhs) noexcept = delete;\n",
    "    \n",
    "private:\n",
    "    std::deque<T> queue;\n",
    "    std::mutex mtx;\n",
    "};\n",
    "```"
   ]
  },
  {
   "cell_type": "markdown",
   "metadata": {},
   "source": [
    "__Вопрос__: где в этом коде происходит ужас и кошмар?\n",
    "\n",
    "<details>\n",
    "<summary>ответ</summary>\n",
    "<p>\n",
    "\n",
    "```c++\n",
    "~MTQueue() noexcept {\n",
    "    std::lock_guard<std::mutex> guard(rhs); // <---- тут\n",
    "    queue.clear();\n",
    "}\n",
    "```\n",
    "\n",
    "Обсудить: если этот `guard` оказался нужен, то что происходит в программе в этот момент?\n",
    "\n",
    "Пример: перемежающиеся вызовы `push` и `~MTQueue`.\n",
    "   \n",
    "</p>\n",
    "</details>"
   ]
  },
  {
   "cell_type": "markdown",
   "metadata": {},
   "source": [
    "```C++\n",
    "MTQueue<int> m\n",
    "\n",
    "\n",
    "thread_1:           | thread_2:\n",
    "    m.~MTQueue()    |     m.push(5)\n",
    "        lock_guard  |         lock_guard\n",
    "        processing  |         processing\n",
    "```"
   ]
  },
  {
   "cell_type": "markdown",
   "metadata": {},
   "source": [
    "__Вопрос__: почему бессмысленно иметь метод `empty`?"
   ]
  },
  {
   "cell_type": "markdown",
   "metadata": {},
   "source": [
    "Рассмотрим такой вариант:\n",
    "    \n",
    "```C++\n",
    "class MTQueue\n",
    "{\n",
    "    ...;\n",
    "    \n",
    "    bool empty() {\n",
    "        std::lock_guard<std::mutex> guard(mtx);\n",
    "\n",
    "        return queue.empty();\n",
    "    }\n",
    "    \n",
    "    T pop() {\n",
    "        std::lock_guard<std::mutex> guard(mtx);\n",
    "\n",
    "        T x = queue.back();\n",
    "        queue.pop_back();\n",
    "        return x;\n",
    "    }\n",
    "}\n",
    "```"
   ]
  },
  {
   "cell_type": "markdown",
   "metadata": {},
   "source": [
    "И вот такой код, исполняющийся параллельно двумя потоками:\n",
    "\n",
    "```C++\n",
    "void process_queue(MTQueue& q)   |    void process_queue(MTQueue& q)\n",
    "{                                |    {\n",
    "    if (!q.empty())              |        if (!q.empty())\n",
    "        process_item(q.pop());   |            process_item(q.pop());\n",
    "}                                |    }\n",
    "```\n",
    "\n",
    "Дадим потокам на вход одну и ту же очередь с одним элементов."
   ]
  },
  {
   "cell_type": "markdown",
   "metadata": {},
   "source": [
    "<br />"
   ]
  },
  {
   "cell_type": "markdown",
   "metadata": {},
   "source": [
    "__Упражнение 1__: найдите ошибку в коде. Почему это является ошибкой? Приведите пример.\n",
    "\n",
    "```C++\n",
    "class MTSearcher\n",
    "{\n",
    "private:\n",
    "    std::mutex mtx;\n",
    "    unsigned max_search_result_size;\n",
    "   \n",
    "public:\n",
    "    unsigned get_max_search_result_size() const noexcept\n",
    "    {\n",
    "        return max_search_result_size;\n",
    "    }\n",
    "    \n",
    "    ...\n",
    "};\n",
    "```\n",
    "\n",
    "<details>\n",
    "<summary>подсказка</summary>\n",
    "<p>\n",
    "    \n",
    "```c++\n",
    "class MTSearcher\n",
    "{\n",
    "private:\n",
    "    std::mutex mtx;\n",
    "    unsigned max_search_result_size;\n",
    "   \n",
    "public:\n",
    "    unsigned get_max_search_result_size() const noexcept\n",
    "    {\n",
    "        return max_search_result_size;\n",
    "    }\n",
    "    \n",
    "    void set_max_search_result_size(unsigned size) noexcept\n",
    "    {\n",
    "        std::lock_guard<std::mutex> guard(mtx);\n",
    "        \n",
    "        max_search_result_size = size;\n",
    "    }\n",
    "    \n",
    "    ...\n",
    "};\n",
    "```\n",
    "\n",
    "</p>\n",
    "</details>"
   ]
  },
  {
   "cell_type": "markdown",
   "metadata": {},
   "source": [
    "<br />"
   ]
  },
  {
   "cell_type": "markdown",
   "metadata": {},
   "source": [
    "__Упражнение 2__: найдите ошибку в коде\n",
    "\n",
    "\n",
    "```c++\n",
    "template<typename T>\n",
    "class MTQueue\n",
    "{\n",
    "private:\n",
    "    std::mutex mtx;\n",
    "    std::queue<std::shared_ptr<T>> queue;\n",
    "\n",
    "public:\n",
    "    std::shared_ptr<T>& peek() noexcept\n",
    "    {\n",
    "        std::lock_guard<std::mutex> guard(mtx);\n",
    "        return queue.back();\n",
    "    }\n",
    "};\n",
    "\n",
    "// thread 1:\n",
    "mt_queue.peek() = nullptr;\n",
    "\n",
    "// thread 2:\n",
    "std::cout << *mt_queue.peak();\n",
    "```\n"
   ]
  },
  {
   "cell_type": "markdown",
   "metadata": {},
   "source": [
    "Редко когда многопоточный класс может позволить себе такую роскошь как возвращение ссылок/указателей на данные. Как правило, нужно делать defensive copies:\n",
    "\n",
    "```C++\n",
    "class MTQueue {\n",
    "    ...\n",
    "        \n",
    "    std::shared_ptr<T> peek() noexcept\n",
    "    {\n",
    "        std::lock_guard<std::mutex> guard(mtx);\n",
    "        return queue.back();\n",
    "    }\n",
    "};\n",
    "```"
   ]
  },
  {
   "cell_type": "markdown",
   "metadata": {},
   "source": [
    "<br />"
   ]
  },
  {
   "cell_type": "markdown",
   "metadata": {},
   "source": [
    "__Упражнение 3__: найдите проблему в коде:\n",
    "\n",
    "```c++\n",
    "class MTJiuceBottle\n",
    "{\n",
    "public:\n",
    "    float get_cur_volume() const {\n",
    "        std::lock_guard guard(mtx_);\n",
    "        return cur_volume_;\n",
    "    }\n",
    "    \n",
    "    void set_cur_volume(const float value) {\n",
    "        std::lock_guard guard(mtx_);\n",
    "        cur_volume_ = value;\n",
    "    }\n",
    "    \n",
    "    float get_max_volume() const {\n",
    "        std::lock_guard guard(mtx_);\n",
    "        return max_volume_;\n",
    "    }\n",
    "    \n",
    "    void set_max_volume(const float value) {\n",
    "        std::lock_guard guard(mtx_);\n",
    "        max_volume_ = value;\n",
    "    }\n",
    "\n",
    "private:\n",
    "    float cur_volume_;\n",
    "    float max_volume_;\n",
    "    mutable std::mutex mtx_;\n",
    "};\n",
    "\n",
    "// thread 1\n",
    "bottle.set_max_volume(100);\n",
    "bottle.set_cur_volume(50);\n",
    "\n",
    "// thread 2\n",
    "bottle.set_cur_volume(25);\n",
    "bottle.set_max_volume(25);\n",
    "```\n",
    "\n",
    "<details>\n",
    "<summary>замечание</summary>\n",
    "<p>\n",
    "\n",
    "Поддержка инвариантов в классах с многопоточной поддержкой требуют особой тщательности при проектировании интерфейсов.\n",
    "\n",
    "</p>\n",
    "</details>"
   ]
  },
  {
   "cell_type": "markdown",
   "metadata": {},
   "source": [
    "<br />"
   ]
  },
  {
   "cell_type": "markdown",
   "metadata": {},
   "source": [
    "__Рекомендация__: минимизируйте число классов и объектов в программе, поддерживающих многопоточный доступ. Классы с поддержкой многопоточности сложнее проектировать и сложнее в использовании."
   ]
  },
  {
   "cell_type": "markdown",
   "metadata": {},
   "source": [
    "<br />"
   ]
  },
  {
   "cell_type": "markdown",
   "metadata": {},
   "source": [
    "##### deadlock"
   ]
  },
  {
   "cell_type": "markdown",
   "metadata": {},
   "source": [
    "https://en.wikipedia.org/wiki/Deadlock"
   ]
  },
  {
   "cell_type": "markdown",
   "metadata": {},
   "source": [
    "__Вопрос__: что такое deadlock и как с ним бороться?"
   ]
  },
  {
   "cell_type": "markdown",
   "metadata": {},
   "source": [
    "deadlock классический:\n",
    "    \n",
    "```C++\n",
    "std::mutex m1; // мьютекс для ресурса 1\n",
    "std::mutex m2; // мьютекс для ресурса 2\n",
    "\n",
    "void worker_1()                  |  void worker_2()\n",
    "{                                |  {\n",
    "    std::lock_guard guard1(m1);  |      std::lock_guard guard2(m2);\n",
    "    std::lock_guard guard2(m2);  |      std::lock_guard guard1(m1);\n",
    "    ...;                         |      ...;\n",
    "}                                |  }\n",
    "```"
   ]
  },
  {
   "cell_type": "markdown",
   "metadata": {},
   "source": [
    "__Вопрос__: как его починить?\n",
    "\n",
    "__Ответ__:\n",
    "\n",
    "```C++\n",
    "std::mutex m1; // мьютекс для ресурса 1\n",
    "std::mutex m2; // мьютекс для ресурса 2\n",
    "\n",
    "void worker_1()                  |  void worker_2()\n",
    "{                                |  {\n",
    "    std::lock_guard guard1(m1);  |      std::lock_guard guard1(m1);\n",
    "    std::lock_guard guard2(m2);  |      std::lock_guard guard2(m2);\n",
    "    ...;                         |      ...;\n",
    "}                                |  }\n",
    "```"
   ]
  },
  {
   "cell_type": "markdown",
   "metadata": {},
   "source": [
    "<br />"
   ]
  },
  {
   "cell_type": "markdown",
   "metadata": {},
   "source": [
    "##### scoped_lock"
   ]
  },
  {
   "cell_type": "markdown",
   "metadata": {},
   "source": [
    "Не всегда легко определить правильный порядок блокировки мьютексов.\n",
    "\n",
    "Вспомним `MTQueue` и его `operator =`:\n",
    "\n",
    "```c++\n",
    "template<typename T>\n",
    "class MTQueue\n",
    "{\n",
    "private:\n",
    "    std::mutex mtx;\n",
    "    std::queue<T> queue;\n",
    "\n",
    "public:\n",
    "    MTQueue& operator =(const MTQueue& rhs)\n",
    "    {\n",
    "        if (this != &rhs)\n",
    "        {\n",
    "            // что блокировать первым?\n",
    "            // std::lock_guard guard_1(mtx);\n",
    "            // std::lock_guard guard_2(res.mtx);\n",
    "            queue = rhs.queue;\n",
    "        }\n",
    "        return *this;\n",
    "    }\n",
    "};\n",
    "\n",
    "MTQueue<int> q1;\n",
    "MTQueue<int> q2;\n",
    "\n",
    "// thread 1:\n",
    "q2 = q1;\n",
    "\n",
    "// thread 2:\n",
    "q1 = q2;\n",
    "```\n",
    "\n",
    "или, например:\n",
    "\n",
    "```c++\n",
    "bool operator == (const MTQueue& lhs, const MTQueue& rhs)\n",
    "{\n",
    "    // что блокировать первым?\n",
    "    // std::lock_guard guard_1(lhs.mtx);\n",
    "    // std::lock_guard guard_2(rhs.mtx);\n",
    "    return lhs.queue == rhs.queue;\n",
    "}\n",
    "\n",
    "// thread 1:\n",
    "q1 == q2\n",
    "\n",
    "\n",
    "// thread 2:\n",
    "q2 == q1\n",
    "```\n",
    "\n",
    "В таком коде нет правильного выбора последовательности блокировок"
   ]
  },
  {
   "cell_type": "markdown",
   "metadata": {},
   "source": [
    "<br />"
   ]
  },
  {
   "cell_type": "markdown",
   "metadata": {},
   "source": [
    "Для решения проблемы существует `std::scoped_lock`:"
   ]
  },
  {
   "cell_type": "markdown",
   "metadata": {},
   "source": [
    "https://en.cppreference.com/w/cpp/thread/scoped_lock"
   ]
  },
  {
   "cell_type": "markdown",
   "metadata": {},
   "source": [
    "```C++\n",
    "bool operator == (const MTQueue& lhs, const MTQueue& rhs)\n",
    "{\n",
    "    std::scoped_lock guard(lhs.mtx, rhs.mtx);\n",
    "\n",
    "    return lhs.queue == rhs.queue;\n",
    "}\n",
    "```\n",
    "\n",
    "и:\n",
    "\n",
    "```c++\n",
    "template<typename T>\n",
    "class MTQueue\n",
    "{\n",
    "private:\n",
    "    std::mutex mtx;\n",
    "    std::queue<T> queue;\n",
    "\n",
    "public:\n",
    "    MTQueue& operator =(const MTQueue& rhs)\n",
    "    {\n",
    "        if (this != &rhs)\n",
    "        {\n",
    "            std::scoped_lock guard(mtx, rhs.mtx);\n",
    "\n",
    "            queue = rhs.queue;\n",
    "        }\n",
    "        return *this;\n",
    "    }\n",
    "};\n",
    "```"
   ]
  },
  {
   "cell_type": "markdown",
   "metadata": {},
   "source": [
    "<br />"
   ]
  },
  {
   "cell_type": "markdown",
   "metadata": {},
   "source": [
    "Для варианта:\n",
    "\n",
    "```C++\n",
    "std::mutex m1;\n",
    "std::mutex m2;\n",
    "\n",
    "std::scoped_lock guard_1{m1, m2};  // thread 1\n",
    "std::scoped_lock guard_2{m2, m1};  // thread 2\n",
    "```\n",
    "\n",
    "`std::scoped_lock` автоматически определяет порядок, таким образом, что `guard_1{m1, m2}` и `guard_2{m2, m1}` на разных потоках \"эквивалентны\" и не приведут к deadlock."
   ]
  },
  {
   "cell_type": "markdown",
   "metadata": {},
   "source": [
    "<br />"
   ]
  },
  {
   "cell_type": "markdown",
   "metadata": {},
   "source": [
    "##### recursive_mutex"
   ]
  },
  {
   "cell_type": "markdown",
   "metadata": {},
   "source": [
    "__Упражнение:__ Каким минимальным числом мьютексов и потоков можно добиться deadlock?\n",
    "\n",
    "\n",
    "<details>\n",
    "<summary>Ответ</summary>\n",
    "<p>\n",
    "\n",
    "```c++\n",
    "int main()\n",
    "{\n",
    "    std::mutex m;\n",
    "    m.lock();\n",
    "    m.lock();\n",
    "    return 0;\n",
    "}\n",
    "```\n",
    "\n",
    "</p>\n",
    "</details>"
   ]
  },
  {
   "cell_type": "markdown",
   "metadata": {},
   "source": [
    "Зависание через дважды `lock()` на одном потоке - не самая приятная особенность.\n",
    "\n",
    "Если, например, класс с многопоточным доступом простой, то все пути с блокировками `std::mutex` можно отследить глазами. Но есть случаи, когда:\n",
    "* класс с многопоточным доступом спроектирован плохо, отследить все пути сложно\n",
    "* класс в реализации методов управление отдаётся наружу, например:\n",
    "\n",
    "```C++\n",
    "class MTClass\n",
    "{\n",
    "private:\n",
    "    std::mutex m;\n",
    "    \n",
    "public:\n",
    "    void method()\n",
    "    {\n",
    "        std::lock_guard guard(m);\n",
    "        \n",
    "        global_funcion();  // <--- подозрительное место, не дойдёт ли в callstack\n",
    "                           //      до вызова этого же метода снова? (нужно отслеживать)\n",
    "    }\n",
    "};\n",
    "```\n",
    "\n",
    "или так:\n",
    "\n",
    "```c++\n",
    "class TasksQueue\n",
    "{\n",
    "public:\n",
    "    using Task = std::function<void(void)>;\n",
    "    \n",
    "    void push(Tash task)\n",
    "    {\n",
    "        std::lock_guard guard(mtx);\n",
    "        \n",
    "        tasks_queue.emplace_back(std::move(task));\n",
    "    }\n",
    "    \n",
    "    void pop_and_run()\n",
    "    {\n",
    "        std::lock_guard guard(mtx);\n",
    "        \n",
    "        if (!tasks_queue.empty())\n",
    "        {        \n",
    "            const auto task = std::move(tasks_queue.back());\n",
    "            tasks_queue.pop_back();\n",
    "            task();  // <--- запускается неизвестная задача, которая может захотеть\n",
    "                     //      поставить другую задачу в очередь через |TasksQueue::push|\n",
    "        }        \n",
    "    }\n",
    "    \n",
    "private:\n",
    "    std::mutex mtx;\n",
    "    std::queue<Task> tasks_queue;\n",
    "};\n",
    "```"
   ]
  },
  {
   "cell_type": "markdown",
   "metadata": {},
   "source": [
    "Чтобы справляться с этими ситуациями нужен `std::recursive_mutex`"
   ]
  },
  {
   "cell_type": "markdown",
   "metadata": {},
   "source": [
    "https://en.cppreference.com/w/cpp/thread/recursive_mutex"
   ]
  },
  {
   "cell_type": "markdown",
   "metadata": {},
   "source": [
    "* хранит внутри счётчик, сколько раз был сделан `lock`\n",
    "* каждый `lock` увеличивает счётчик на 1\n",
    "* каждый `unlock` уменьшает счётчик на 1\n",
    "* кол-во `unlock`-ов должно совпадать с кол-вом `lock`-ов\n",
    "* максимальное значение счётчика - unspecified, при его превышении - exception"
   ]
  },
  {
   "cell_type": "markdown",
   "metadata": {},
   "source": [
    "```C++\n",
    "// отработает корректно:\n",
    "int main()\n",
    "{\n",
    "    std::recursive_mutex mtx;\n",
    "    mtx.lock();\n",
    "    mtx.lock(); // ok\n",
    "    mtx.unlock();\n",
    "    mtx.unlock();\n",
    "    return 0;\n",
    "}\n",
    "```"
   ]
  },
  {
   "cell_type": "markdown",
   "metadata": {},
   "source": [
    "пример с `TasksQueue`:"
   ]
  },
  {
   "cell_type": "markdown",
   "metadata": {},
   "source": [
    "```C++\n",
    "class TasksQueue\n",
    "{\n",
    "public:\n",
    "    using Task = std::function<void(void)>;\n",
    "\n",
    "    void push(Tash task)\n",
    "    {\n",
    "        std::lock_guard guard(mtx);\n",
    "\n",
    "        tasks_queue.emplace_back(std::move(task));\n",
    "    }\n",
    "\n",
    "    void pop_and_run()\n",
    "    {\n",
    "        std::lock_guard guard(mtx);\n",
    "\n",
    "        if (!tasks_queue.empty())\n",
    "        {        \n",
    "            const auto task = std::move(tasks_queue.back());\n",
    "            tasks_queue.pop_back();\n",
    "            task();  // <--- ok\n",
    "        }        \n",
    "    }\n",
    "\n",
    "private:\n",
    "    std::recursive_mutex mtx;\n",
    "    std::queue<Task> tasks_queue;\n",
    "};\n",
    "```"
   ]
  },
  {
   "cell_type": "markdown",
   "metadata": {},
   "source": [
    "__Замечание__: Скорректированный пример с `TasksQueue` с обычным `std::mutex`:\n",
    "\n",
    "```c++\n",
    "class TasksQueue\n",
    "{\n",
    "public:\n",
    "    using Task = std::function<void(void)>;\n",
    "\n",
    "    void push(Tash task)\n",
    "    {\n",
    "        std::lock_guard guard(mtx);\n",
    "\n",
    "        tasks_queue.emplace_back(std::move(task));\n",
    "    }\n",
    "\n",
    "    void pop_and_run()\n",
    "    {\n",
    "        Task task;\n",
    "        \n",
    "        {\n",
    "            std::lock_guard guard(mtx);\n",
    "\n",
    "            if (!tasks_queue.empty())\n",
    "            {        \n",
    "                task = std::move(tasks_queue.back());\n",
    "                tasks_queue.pop_back();\n",
    "            }\n",
    "        }\n",
    "        \n",
    "        if (task)\n",
    "            task();\n",
    "    }\n",
    "\n",
    "private:\n",
    "    std::mutex mtx;\n",
    "    std::queue<Task> tasks_queue;\n",
    "};\n",
    "```"
   ]
  },
  {
   "cell_type": "markdown",
   "metadata": {},
   "source": [
    "<br />"
   ]
  },
  {
   "cell_type": "markdown",
   "metadata": {},
   "source": [
    "##### shared_mutex, unique_lock, shared_lock"
   ]
  },
  {
   "cell_type": "markdown",
   "metadata": {},
   "source": [
    "https://en.cppreference.com/w/cpp/thread/shared_mutex\n",
    "\n",
    "https://en.cppreference.com/w/cpp/thread/unique_lock\n",
    "\n",
    "https://en.cppreference.com/w/cpp/thread/shared_lock"
   ]
  },
  {
   "cell_type": "markdown",
   "metadata": {},
   "source": [
    "__Вопрос__: кто-нибудь работал с RWLock? Что это такое и зачем оно нужно?"
   ]
  },
  {
   "cell_type": "markdown",
   "metadata": {},
   "source": [
    "`std::shared_mutex` - похожая концепция, где read - это shared, а write - это exclusive\n",
    "* позволяет захватывать себя в shared и exclusive режимах (чтения и записи)\n",
    "* exclusive (писатель) единомоментно может быть только один, при этом не может быть shared (читателей)\n",
    "* shared (читатель) единомоментно может быть несколько"
   ]
  },
  {
   "cell_type": "markdown",
   "metadata": {},
   "source": [
    "Основные методы:\n",
    "\n",
    "для exclusive (write) режима\n",
    "* `lock`\n",
    "* `try_lock`\n",
    "* `unlock`\n",
    "\n",
    "для shared (read) режима\n",
    "* `lock_shared`\n",
    "* `try_lock_shared`\n",
    "* `unlock_shared`"
   ]
  },
  {
   "cell_type": "markdown",
   "metadata": {},
   "source": [
    "RAII-захват:\n",
    "* `std::unique_lock` захватывает в exclusive (write) режиме (можно `std::lock_guard` тоже)\n",
    "* `std::shared_lock` захватывает в shared (read) режиме"
   ]
  },
  {
   "cell_type": "markdown",
   "metadata": {},
   "source": [
    "```C++\n",
    "class MTJiuceBottle\n",
    "{\n",
    "private:\n",
    "    float cur_volume_;\n",
    "    float max_volume_;\n",
    "    mutable std::shared_mutex mtx_;\n",
    "\n",
    "public:\n",
    "    float get_cur_volume() const {\n",
    "        std::shared_lock lock(mtx_, std::adopt_lock);\n",
    "        return cur_volume_;\n",
    "    }\n",
    "\n",
    "    void set_cur_volume(const float value) {\n",
    "        std::lock_guard guard(mtx_);\n",
    "        cur_volume_ = value;\n",
    "    }\n",
    "\n",
    "    float get_max_volume() const {\n",
    "        std::shared_lock lock(mtx_, std::adopt_lock);\n",
    "        return max_volume_;\n",
    "    }\n",
    "\n",
    "    void set_max_volume(const float value) {\n",
    "        std::lock_guard guard(mtx_);\n",
    "        max_volume_ = value;\n",
    "    }\n",
    "};\n",
    "```"
   ]
  },
  {
   "cell_type": "markdown",
   "metadata": {},
   "source": [
    "<br />"
   ]
  },
  {
   "cell_type": "markdown",
   "metadata": {},
   "source": [
    "##### condition_variable"
   ]
  },
  {
   "cell_type": "markdown",
   "metadata": {},
   "source": [
    "https://en.cppreference.com/w/cpp/thread/condition_variable\n",
    "\n",
    "https://en.cppreference.com/w/cpp/thread/condition_variable_any\n",
    "\n",
    "https://en.wikipedia.org/wiki/Spurious_wakeup"
   ]
  },
  {
   "cell_type": "markdown",
   "metadata": {},
   "source": [
    "`std::condition_variable` - примитив синхронизации, позволяющий одному потоку нотифицировать другой/другие, что какое-то событие произошло.\n",
    "\n",
    "`std::condition_variable` работает только с `std::unique_lock<std::mutex>` (для эффективности). Если нужно что-то другое - можно использовать `std::condition_variable_any`"
   ]
  },
  {
   "cell_type": "markdown",
   "metadata": {},
   "source": [
    "Принцип работы:\n",
    "    \n",
    "* есть условие `condition`, о смене которого нужно сообщить между потоками\n",
    "* есть `std::mutex` для синхронизации, `condition` и его внутренности вычисляются только если мьютекс захвачен\n",
    "* есть `std::condition_variable` для отсылки нотификации\n",
    "\n",
    "методы:\n",
    "\n",
    "* `notify_one` - отослать нотификацию одному потоку, что событие произошло / условие поменялось\n",
    "* `notify_all` - отослать нотификацию всем потокам, что событие произошло / условие поменялось\n",
    "* `wait(std::unique_lock<std::mutex>& lock)` - подождать, пока либо пока кто-нибудь нас не нотифицирует о событии либо ОКОНЧИТЬ ОЖИДАНИЕ ПРОСТО ТАК ПОТОМУ ЧТО ЗАХОТЕЛОСЬ, ДАЖЕ ЕСЛИ НИКТО НЕ ОТСЫЛАЛ НОТИФИКАЦИИ.\n",
    "    * проблема в сложностях реализации честного `wait`.\n",
    "* `wait( std::unique_lock<std::mutex>& lock, Predicate pred )` - эквивалент:\n",
    "\n",
    "```c++\n",
    "    while (!pred)\n",
    "        wait(lock);\n",
    "```"
   ]
  },
  {
   "cell_type": "markdown",
   "metadata": {},
   "source": [
    "__Пример__:\n",
    "\n",
    "```C++\n",
    "std::mutex m;\n",
    "std::condition_variable cv_ready;\n",
    "std::condition_variable cv_compl;\n",
    "std::string data;\n",
    "bool is_inp_ready = false;\n",
    "bool is_completed = false;\n",
    " \n",
    "void worker_function()\n",
    "{\n",
    "    std::unique_lock lk(m);  // mutex locked\n",
    "    cv_ready.wait(lk, []{ return is_inp_ready; });  // mutex unlocked, locked inside lambda\n",
    "    // mutex locked\n",
    "\n",
    "    process(data);\n",
    "    is_completed = true;\n",
    "    \n",
    "    cv_compl.notify_one();\n",
    "}\n",
    " \n",
    "int main()\n",
    "{\n",
    "    std::thread thr(worker_function);\n",
    "    \n",
    "    data = prepare_input();\n",
    " \n",
    "    {\n",
    "        std::lock_guard guard(m);\n",
    "        is_inp_ready = true;\n",
    "    }\n",
    "    cv_ready.notify_one();\n",
    " \n",
    "    {\n",
    "        std::unique_lock lk(m);\n",
    "        cv_compl.wait(lk, []{ return is_completed; });\n",
    "    }\n",
    "\n",
    "    thr.join();\n",
    "}\n",
    "```\n",
    "\n",
    "Код работает, но в нём проблема, в чём она?"
   ]
  },
  {
   "cell_type": "markdown",
   "metadata": {},
   "source": [
    "Более правильный вариант:\n",
    "    \n",
    "```c++\n",
    "std::mutex m;\n",
    "std::condition_variable cv_ready;\n",
    "std::condition_variable cv_compl;\n",
    "std::string data;\n",
    "bool is_inp_ready = false;\n",
    "bool is_completed = false;\n",
    "\n",
    "void worker_function()\n",
    "{\n",
    "    std::unique_lock lk(m);  // mutex locked\n",
    "    cv_ready.wait(lk, []{ return is_inp_ready; });  // mutex unlocked, locked inside lambda\n",
    "    // mutex locked\n",
    "\n",
    "    process(data);\n",
    "    is_completed = true;\n",
    "    \n",
    "    lk.unlock();  // !avoid redundant switches!\n",
    "    cv_compl.notify_one();\n",
    "}\n",
    "\n",
    "int main()\n",
    "{\n",
    "    std::thread thr(worker_function);\n",
    "\n",
    "    data = prepare_input();\n",
    "\n",
    "    {\n",
    "        std::lock_guard guard(m);\n",
    "        is_inp_ready = true;\n",
    "    }\n",
    "    cv_ready.notify_one();\n",
    "\n",
    "    {\n",
    "        std::unique_lock lk(m);\n",
    "        cv_compl.wait(lk, []{ return is_completed; });\n",
    "    }\n",
    "\n",
    "    thr.join();\n",
    "}\n",
    "```"
   ]
  },
  {
   "cell_type": "markdown",
   "metadata": {},
   "source": [
    "<br />"
   ]
  },
  {
   "cell_type": "markdown",
   "metadata": {},
   "source": [
    "##### thread_local"
   ]
  },
  {
   "cell_type": "markdown",
   "metadata": {},
   "source": [
    "`thread_local` - модификатор перед переменной / константой, делающий её глобальной в рамках одного потока:\n",
    "\n",
    "```C++\n",
    "int func()\n",
    "{\n",
    "    thread_local unsigned i = 0;\n",
    "    ++i;\n",
    "    // в каждом потоке будет своя личная глобальная переменная i,\n",
    "    // которая будет равна числу вызовов функции |func| на этом потоке\n",
    "    \n",
    "    ...;\n",
    "}\n",
    "```"
   ]
  },
  {
   "cell_type": "markdown",
   "metadata": {},
   "source": [
    "__Пример__: кешированные данные с потокобезопасным доступом\n",
    "\n",
    "```c++\n",
    "std::string convert_to_string(const int number)\n",
    "{\n",
    "    // кеш памяти для конвертации, чтобы избежать частых переаллокаций\n",
    "    thread_local std::string data_cache;\n",
    "    \n",
    "    // не нужно синхронизаций потоков для |data_cache|, т.к. у каждого\n",
    "    // потока свой личный |data_cache|.\n",
    "    convert_to_cached_location(data_cache, number);\n",
    "    \n",
    "    return data_cache;    \n",
    "}\n",
    "```\n",
    "\n",
    "__Замечание__: это ученический пример, сконвертировать число в строку можно и другими более быстрыми способами."
   ]
  },
  {
   "cell_type": "markdown",
   "metadata": {},
   "source": [
    "Плюсы:\n",
    "* возможность делать потокобезопасные глобальные кеши\n",
    "\n",
    "Минусы:\n",
    "* создание потока дороже, т.к. для каждого нового потока нужно вызывать конструкторы `thread_local` данных\n",
    "    * хуже того, создание потока дороже неявно. Если вы слинковались с левой библиотекой, использующей `thread_local`-оптимизации для себя лично, то ВСЕ ваши потоки стали создаваться медленнее.\n",
    "* старые операционки не поддерживают `thread_local` (не компиляторы, а операционки!). Например, Windows XP (поддерживает, начиная с Windows XP SP 3, емнип). В них `thread_local` молча становится `static` без синхронизаций, и программы неожиданно начинают ловить race condition."
   ]
  },
  {
   "cell_type": "markdown",
   "metadata": {},
   "source": [
    "<br />"
   ]
  },
  {
   "cell_type": "markdown",
   "metadata": {},
   "source": [
    "##### Резюме"
   ]
  },
  {
   "cell_type": "markdown",
   "metadata": {},
   "source": [
    "* `std::mutex` - один из вариантов избавления от race condition\n",
    "* захватывать и освобождать `std::mutex` желательно через RAII: `std::lock_guard`\n",
    "* объекты с многопоточным доступом требуют более тщательной проработки дизайна\n",
    "* `std::scoped_lock` как вариант лечения deadlock\n",
    "* `std::recursive_mutex` поможет, если нужно `std::mutex` захватить больше одного раза в одном потоке\n",
    "* `std::shared_mutex / std::unique_lock / std::shared_lock` - для организации читателей и писателей\n",
    "* `std::conditional_variable` - примитив синхронизации лоя нотификации других потоков о событиях (помните о spurios wakeups)\n",
    "* `thread_local` - глобальные данные, видимые для одного потока (у каждого потока свои)"
   ]
  },
  {
   "cell_type": "markdown",
   "metadata": {},
   "source": [
    "<br />"
   ]
  },
  {
   "cell_type": "markdown",
   "metadata": {},
   "source": [
    "**Замечания:**\n",
    "* добавить информацию об `std::osyncstream` (C++20) в районе вопроса потокобезопасности потоков"
   ]
  }
 ],
 "metadata": {
  "kernelspec": {
   "display_name": "Python 3",
   "language": "python",
   "name": "python3"
  },
  "language_info": {
   "codemirror_mode": {
    "name": "ipython",
    "version": 3
   },
   "file_extension": ".py",
   "mimetype": "text/x-python",
   "name": "python",
   "nbconvert_exporter": "python",
   "pygments_lexer": "ipython3",
   "version": "3.6.9"
  }
 },
 "nbformat": 4,
 "nbformat_minor": 2
}
