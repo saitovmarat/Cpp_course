{
 "cells": [
  {
   "cell_type": "markdown",
   "metadata": {},
   "source": [
    "### Многопоточность. Часть 1."
   ]
  },
  {
   "cell_type": "markdown",
   "metadata": {},
   "source": [
    "<br />"
   ]
  },
  {
   "cell_type": "markdown",
   "metadata": {},
   "source": [
    "##### Процессы и потоки"
   ]
  },
  {
   "cell_type": "markdown",
   "metadata": {},
   "source": [
    "Чёткого и понятного определения процессов и потоков найти не удалось. Их будем понимать постепенно."
   ]
  },
  {
   "cell_type": "markdown",
   "metadata": {},
   "source": [
    "https://en.wikipedia.org/wiki/Thread_(computing)\n",
    "    \n",
    ">  **thread of execution** is the smallest <u>sequence of</u> programmed <u>instructions</u> that can be managed independently by a <u>scheduler</u>, which is typically a part of the <u>operating system</u>"
   ]
  },
  {
   "cell_type": "markdown",
   "metadata": {},
   "source": [
    "Таненбаум, Современные операционные системы, гл. 2:\n",
    "\n",
    "> **Процесс** - абстракция, описывающая выполняющуюся программу"
   ]
  },
  {
   "cell_type": "markdown",
   "metadata": {},
   "source": [
    "https://en.wikipedia.org/wiki/Process_(computing)\n",
    "\n",
    "> **process** is the <u>instance of a computer program</u> that is being executed by one or many threads.\n",
    "\n",
    "Процессы управляются ОС."
   ]
  },
  {
   "cell_type": "markdown",
   "metadata": {},
   "source": [
    "<br />"
   ]
  },
  {
   "cell_type": "markdown",
   "metadata": {},
   "source": [
    "Типичная программа из одного потока:\n",
    "\n",
    "```c++\n",
    "#include <cstdio>\n",
    "\n",
    "int main() {\n",
    "    std::puts(\"hello world!\\n\");\n",
    "    return 0;\n",
    "}\n",
    "```\n",
    "\n",
    "Скомпилируем её и запустим:\n",
    "\n",
    "```bash\n",
    "$ ./hello_world.exe  # здесь ОС порождает процесс, который запускает 1 поток, в конце поток умирает, умирает процесс\n",
    "hello world!\n",
    "$ ./hello_world.exe  # здесь ОС порождает процесс, который запускает 1 поток, в конце поток умирает, умирает процесс\n",
    "hello world!\n",
    "$ ./hello_world.exe  # здесь ОС порождает процесс, который запускает 1 поток, в конце поток умирает, умирает процесс\n",
    "hello world!\n",
    "\n",
    "# запущенный терминал - тоже процесс\n",
    "# параллельно запущенный терминал - другой процесс\n",
    "```"
   ]
  },
  {
   "cell_type": "markdown",
   "metadata": {},
   "source": [
    "**Замечание:** Это определение для процессов корректно для простеньких программ. В 2020+ гг. серьёзные приложения уже используют несколько процессов. Показать Диспетчер Задач и процессы в нём, показать `htop`, `ps`, `pgrep`"
   ]
  },
  {
   "cell_type": "markdown",
   "metadata": {},
   "source": [
    "<br />"
   ]
  },
  {
   "cell_type": "markdown",
   "metadata": {},
   "source": [
    "Поток, который выполняет `main`, называется **главным**.\n",
    "\n",
    "Любой поток (в том числе главный) может порождать другие потоки. Выглядит это примерно так:\n",
    "\n",
    "```C++\n",
    "\n",
    "#include <cstdio>\n",
    "\n",
    "void print_hello_world()\n",
    "{\n",
    "    std::puts(\"hello world!\\n\");\n",
    "}\n",
    "\n",
    "void thread_worker()\n",
    "{\n",
    "    print_hellow_world();\n",
    "    print_hellow_world();\n",
    "    print_hellow_world();\n",
    "}\n",
    "\n",
    "int main() {\n",
    "    std::puts(\"hello world!\\n\");\n",
    "    \n",
    "    // Псевдокод:\n",
    "    CREATE THREAD TO RUN (thread_worker);\n",
    "    CREATE THREAD TO RUN (thread_worker);\n",
    "    CREATE THREAD TO RUN (print_hello_world);\n",
    "    ...\n",
    "    \n",
    "    return 0;\n",
    "}\n",
    "\n",
    "```"
   ]
  },
  {
   "cell_type": "markdown",
   "metadata": {},
   "source": [
    "Вопросы для обсуждения:\n",
    "* сколько `main`-ов в одном процессе? В одном потоке? Во всех потоках одного процесса?\n",
    "* память в процессах и потоках?\n",
    "* как передавать данные между потоками? между процессами?\n",
    "* сколько стеков в многопоточном приложении?\n",
    "* что такое context switch?\n",
    "* сколько процессов может быть у одного приложения?"
   ]
  },
  {
   "cell_type": "markdown",
   "metadata": {},
   "source": [
    "![](processes_threads_3.jpg)"
   ]
  },
  {
   "cell_type": "markdown",
   "metadata": {},
   "source": [
    "<br />"
   ]
  },
  {
   "cell_type": "markdown",
   "metadata": {},
   "source": [
    "##### Потоки. std::thread basics"
   ]
  },
  {
   "cell_type": "markdown",
   "metadata": {},
   "source": [
    "Потоки стандартной библиотеки (since C++11):\n",
    "\n",
    "https://en.cppreference.com/w/cpp/thread/thread"
   ]
  },
  {
   "cell_type": "markdown",
   "metadata": {},
   "source": [
    "Как пользоваться:"
   ]
  },
  {
   "cell_type": "markdown",
   "metadata": {},
   "source": [
    "```C++\n",
    "#include <iostream>\n",
    "#include <thread>\n",
    "\n",
    "int main()\n",
    "{\n",
    "    // create thread with function to execute\n",
    "    std::thread thr([](){\n",
    "        std::cout << \"hello\";\n",
    "        std::cout << \" \";\n",
    "        std::cout << \"world!\";\n",
    "        std::cout << std::endl;\n",
    "    });\n",
    "    \n",
    "    std::cout << \"run, Forest, run!\" << std::endl;\n",
    "    std::cout << \"run, Forest, run!\" << std::endl;\n",
    "    \n",
    "    return 0;\n",
    "}\n",
    "\n",
    "// Обсудить:\n",
    "//    1. когда поток начнёт выполнение?\n",
    "//       если быть точным: Threads begin execution immediately upon construction of the associated thread object\n",
    "//                         __(pending any OS scheduling delays)__\n",
    "//    2. кто видит ошибку? как часто она проявляется?\n",
    "```"
   ]
  },
  {
   "cell_type": "markdown",
   "metadata": {},
   "source": [
    "<details>\n",
    "<summary>ответ</summary>\n",
    "<p>\n",
    "    \n",
    "Если вызывается деструктор `thr`, а поток не закончил или даже не начинал выполнение, будет вызван `std::terminate` и процесс умрёт.\n",
    "\n",
    "Формально спецификация не знает, чего хочет программист от конкретного потока до того как будет протрачен доступ до него в `std::~thread`, и задача программиста - явно указать.\n",
    "\n",
    "</p>\n",
    "</details>"
   ]
  },
  {
   "cell_type": "markdown",
   "metadata": {},
   "source": [
    "Есть 2 варианта поведения потока до деструктора:\n",
    "* `join` - дождаться завершения потока\n",
    "* `detach` - отпустить выполнение потока в свободное плавание"
   ]
  },
  {
   "cell_type": "markdown",
   "metadata": {},
   "source": [
    "<br />"
   ]
  },
  {
   "cell_type": "markdown",
   "metadata": {},
   "source": [
    "Вариант решения:"
   ]
  },
  {
   "cell_type": "markdown",
   "metadata": {},
   "source": [
    "```C++\n",
    "#include <iostream>\n",
    "#include <thread>\n",
    "\n",
    "int main()\n",
    "{\n",
    "    // create thread with function to execute\n",
    "    std::thread thr([](){\n",
    "        std::cout << \"hello\";\n",
    "        std::cout << \"_\";\n",
    "        std::cout << \"world!\";\n",
    "        std::cout << std::endl;\n",
    "    });\n",
    "\n",
    "    std::cout << \"run, Forest, run!\" << std::endl;\n",
    "    \n",
    "    // wait for thr to complete its job\n",
    "    thr.join();\n",
    "    \n",
    "    std::cout << \"run, Forest, run!\" << std::endl;\n",
    "\n",
    "    return 0;\n",
    "}\n",
    "\n",
    "// Обсудить: какой вывод здесь возможен?\n",
    "```"
   ]
  },
  {
   "cell_type": "markdown",
   "metadata": {},
   "source": [
    "```sh\n",
    "hellorun, Forest, run!_world!\n",
    "\n",
    "run, Forest, run!\n",
    "```"
   ]
  },
  {
   "cell_type": "markdown",
   "metadata": {},
   "source": [
    "```sh\n",
    "hello_world!\n",
    "run, Forest, run!\n",
    "run, Forest, run!\n",
    "```"
   ]
  },
  {
   "cell_type": "markdown",
   "metadata": {},
   "source": [
    "Другой вариант решения:"
   ]
  },
  {
   "cell_type": "markdown",
   "metadata": {},
   "source": [
    "```C++\n",
    "#include <iostream>\n",
    "#include <thread>\n",
    "\n",
    "int main()\n",
    "{\n",
    "    // create thread with function to execute\n",
    "    std::thread thr([](){\n",
    "        std::cout << \"hello\";\n",
    "        std::cout << \" \";\n",
    "        std::cout << \"world!\";\n",
    "        std::cout << std::endl;\n",
    "    });\n",
    "\n",
    "    std::cout << \"run, Forest, run!\" << std::endl;\n",
    "\n",
    "    // make |thr| do not own resource, let it be\n",
    "    thr.detach();\n",
    "\n",
    "    std::cout << \"run, Forest, run!\" << std::endl;\n",
    "\n",
    "    return 0;\n",
    "}\n",
    "\n",
    "// Обсудить: какой вывод здесь возможен?\n",
    "```"
   ]
  },
  {
   "cell_type": "markdown",
   "metadata": {},
   "source": [
    "Вообще говоря, возможен и такой вывод:"
   ]
  },
  {
   "cell_type": "markdown",
   "metadata": {},
   "source": [
    "```sh\n",
    "run, Forest, run!\n",
    "hellorun, Forest, run!\n",
    " world!\n",
    "world!\n",
    "```"
   ]
  },
  {
   "cell_type": "markdown",
   "metadata": {},
   "source": [
    "Обсудить, почему"
   ]
  },
  {
   "cell_type": "markdown",
   "metadata": {},
   "source": [
    "<br />"
   ]
  },
  {
   "cell_type": "markdown",
   "metadata": {},
   "source": [
    "Ещё пример:"
   ]
  },
  {
   "cell_type": "markdown",
   "metadata": {},
   "source": [
    "```c++\n",
    "#include <iostream>\n",
    "#include <thread>\n",
    "#include <vector>\n",
    "\n",
    "int main()\n",
    "{\n",
    "    std::vector<std::thread> threads;\n",
    "    for (int i = 0; i < 5; ++i)\n",
    "    {\n",
    "        threads.emplace_back([](){\n",
    "            std::cout << \"hello world!\" << std::endl;\n",
    "        });\n",
    "    }\n",
    "\n",
    "    for (auto& thread : threads)\n",
    "        thread.join();\n",
    "\n",
    "    return 0;\n",
    "}\n",
    "```"
   ]
  },
  {
   "cell_type": "markdown",
   "metadata": {},
   "source": [
    "Возможный вывод:"
   ]
  },
  {
   "cell_type": "markdown",
   "metadata": {},
   "source": [
    "```sh\n",
    "hello world!\n",
    "hello world!\n",
    "hello world!hello world!\n",
    "\n",
    "hello world!\n",
    "```"
   ]
  },
  {
   "cell_type": "markdown",
   "metadata": {},
   "source": [
    "<br />"
   ]
  },
  {
   "cell_type": "markdown",
   "metadata": {},
   "source": [
    "##### Параллельные вычисления: накладные расходы"
   ]
  },
  {
   "cell_type": "markdown",
   "metadata": {},
   "source": [
    "Рассмотрим задачу: параллельный поиск максимума в массиве"
   ]
  },
  {
   "cell_type": "markdown",
   "metadata": {},
   "source": [
    "Для начала узнаем, сколько на машинке ядер. В С++ это можно сделать через функцию `std::thread::hardware_concurrency`:"
   ]
  },
  {
   "cell_type": "markdown",
   "metadata": {},
   "source": [
    "```c++\n",
    "#include <iostream>\n",
    "#include <thread>\n",
    " \n",
    "int main()\n",
    "{\n",
    "    const unsigned int n = std::thread::hardware_concurrency();\n",
    "    std::cout << \"threads count: \" << n << std::endl;\n",
    "    return 0;\n",
    "}\n",
    "```"
   ]
  },
  {
   "cell_type": "markdown",
   "metadata": {},
   "source": [
    "Вывод:\n",
    "    \n",
    "```sh\n",
    "threads count: 6\n",
    "```"
   ]
  },
  {
   "cell_type": "markdown",
   "metadata": {},
   "source": [
    "<br />"
   ]
  },
  {
   "cell_type": "markdown",
   "metadata": {},
   "source": [
    "Теперь будем в параллель искать максимум.\n",
    "\n",
    "(код построен на измерялке `sltbench`, но можно и построить на google benchmark, отличий мало)\n",
    "\n",
    "__Замечание__: код намеренно содержит ошибку для простоты, он некорректно обрабатывает хвосты массива, если размер не делится на число потоков."
   ]
  },
  {
   "cell_type": "markdown",
   "metadata": {},
   "source": [
    "```c++\n",
    "#include <sltbench/Bench.h>\n",
    "\n",
    "#include <algorithm>\n",
    "#include <cstdlib>\n",
    "#include <iostream>\n",
    "#include <thread>\n",
    "#include <vector>\n",
    "\n",
    "namespace\n",
    "{\n",
    "    struct Arg\n",
    "    {\n",
    "        unsigned array_size;\n",
    "        unsigned thread_cnt;\n",
    "    };\n",
    "\n",
    "    std::ostream& operator << (std::ostream& oss, const Arg& arg)\n",
    "    {\n",
    "        return oss << arg.array_size << '/' << arg.thread_cnt;\n",
    "    }\n",
    "}\n",
    "\n",
    "static std::vector<int> arr = [](){\n",
    "    constexpr size_t BIG_SIZE = 200 * 1024 * 1024 / sizeof(int); // 200 MB of data\n",
    "    std::vector<int> rv(BIG_SIZE, 0);\n",
    "    for (int& x : rv)\n",
    "        x = std::rand();\n",
    "    return rv;\n",
    "}();\n",
    "    \n",
    "void parallel_max(const Arg& arg)\n",
    "{\n",
    "    int result = 0;\n",
    "    if (arg.thread_cnt == 1)\n",
    "    {\n",
    "        result = *max_element(begin(arr), begin(arr) + arg.array_size);\n",
    "    }\n",
    "    else\n",
    "    {\n",
    "        // maximum per threads\n",
    "        std::vector<int> results(arg.thread_cnt, 0);\n",
    "\n",
    "        // create threads to search for maximum\n",
    "        std::vector<std::thread> threads;\n",
    "        threads.reserve(arg.thread_cnt);\n",
    "        const unsigned len = arg.array_size / arg.thread_cnt;\n",
    "        for (unsigned i = 0; i < arg.thread_cnt; ++i)\n",
    "        {\n",
    "            threads.emplace_back([i, len, &results](){\n",
    "                results[i] = *max_element(begin(arr) + len * i,\n",
    "                                          begin(arr) + len * (i + 1));\n",
    "            });\n",
    "        }\n",
    "\n",
    "        // wait for threads to complete\n",
    "        for (auto& t : threads)\n",
    "            t.join();\n",
    "\n",
    "        result = *max_element(begin(results), end(results));\n",
    "    }\n",
    "    sltbench::DoNotOptimize(result);\n",
    "}\n",
    "\n",
    "static const std::vector<Arg> args{\n",
    "    // fixed size\n",
    "    {/*array_size*/16777216, /*thread_cnt*/ 1},\n",
    "    {/*array_size*/16777216, /*thread_cnt*/ 2},\n",
    "    {/*array_size*/16777216, /*thread_cnt*/ 3},\n",
    "    {/*array_size*/16777216, /*thread_cnt*/ 4},\n",
    "    {/*array_size*/16777216, /*thread_cnt*/ 5},\n",
    "    {/*array_size*/16777216, /*thread_cnt*/ 6},\n",
    "    {/*array_size*/16777216, /*thread_cnt*/ 7},\n",
    "    {/*array_size*/16777216, /*thread_cnt*/ 8},\n",
    "    {/*array_size*/16777216, /*thread_cnt*/ 9},\n",
    "    {/*array_size*/16777216, /*thread_cnt*/10},\n",
    "    {/*array_size*/16777216, /*thread_cnt*/11},\n",
    "    {/*array_size*/16777216, /*thread_cnt*/12},\n",
    "\n",
    "    // fixed single thread\n",
    "    {/*array_size*/     128, /*thread_cnt*/ 1},\n",
    "    {/*array_size*/     256, /*thread_cnt*/ 1},\n",
    "    {/*array_size*/     512, /*thread_cnt*/ 1},\n",
    "    {/*array_size*/    1024, /*thread_cnt*/ 1},\n",
    "    {/*array_size*/    2048, /*thread_cnt*/ 1},\n",
    "    {/*array_size*/    4096, /*thread_cnt*/ 1},\n",
    "    {/*array_size*/    8192, /*thread_cnt*/ 1},\n",
    "    {/*array_size*/   16384, /*thread_cnt*/ 1},\n",
    "    {/*array_size*/   32768, /*thread_cnt*/ 1},\n",
    "    {/*array_size*/   65536, /*thread_cnt*/ 1},\n",
    "    {/*array_size*/  131072, /*thread_cnt*/ 1},\n",
    "    {/*array_size*/  262144, /*thread_cnt*/ 1},\n",
    "    {/*array_size*/  524288, /*thread_cnt*/ 1},\n",
    "    {/*array_size*/ 1048576, /*thread_cnt*/ 1},\n",
    "    {/*array_size*/ 2097152, /*thread_cnt*/ 1},\n",
    "    {/*array_size*/ 4194304, /*thread_cnt*/ 1},\n",
    "    {/*array_size*/ 8388608, /*thread_cnt*/ 1},\n",
    "    {/*array_size*/16777216, /*thread_cnt*/ 1},\n",
    "    \n",
    "    // fixed 4 threads\n",
    "    {/*array_size*/     128, /*thread_cnt*/ 4},\n",
    "    {/*array_size*/     256, /*thread_cnt*/ 4},\n",
    "    {/*array_size*/     512, /*thread_cnt*/ 4},\n",
    "    {/*array_size*/    1024, /*thread_cnt*/ 4},\n",
    "    {/*array_size*/    2048, /*thread_cnt*/ 4},\n",
    "    {/*array_size*/    4096, /*thread_cnt*/ 4},\n",
    "    {/*array_size*/    8192, /*thread_cnt*/ 4},\n",
    "    {/*array_size*/   16384, /*thread_cnt*/ 4},\n",
    "    {/*array_size*/   32768, /*thread_cnt*/ 4},\n",
    "    {/*array_size*/   65536, /*thread_cnt*/ 4},\n",
    "    {/*array_size*/  131072, /*thread_cnt*/ 4},\n",
    "    {/*array_size*/  262144, /*thread_cnt*/ 4},\n",
    "    {/*array_size*/  524288, /*thread_cnt*/ 4},\n",
    "    {/*array_size*/ 1048576, /*thread_cnt*/ 4},\n",
    "    {/*array_size*/ 2097152, /*thread_cnt*/ 4},\n",
    "    {/*array_size*/ 4194304, /*thread_cnt*/ 4},\n",
    "    {/*array_size*/ 8388608, /*thread_cnt*/ 4},\n",
    "    {/*array_size*/16777216, /*thread_cnt*/ 4},\n",
    "};\n",
    "\n",
    "SLTBENCH_FUNCTION_WITH_ARGS(parallel_max, args);\n",
    "\n",
    "SLTBENCH_MAIN();\n",
    "```"
   ]
  },
  {
   "cell_type": "markdown",
   "metadata": {},
   "source": [
    "<details>\n",
    "<summary>результаты</summary>\n",
    "<p>\n",
    "\n",
    "```sh\n",
    "benchmark                                                   arg                      status               time(ns)\n",
    "parallel_max                                                16777216/1               ok                   13341652\n",
    "parallel_max                                                16777216/2               ok                    6772804\n",
    "parallel_max                                                16777216/3               ok                    4542359\n",
    "parallel_max                                                16777216/4               ok                    3463808\n",
    "parallel_max                                                16777216/5               ok                    2818170\n",
    "parallel_max                                                16777216/6               ok                    2457589\n",
    "parallel_max                                                16777216/7               ok                    4069203\n",
    "parallel_max                                                16777216/8               ok                    3602845\n",
    "parallel_max                                                16777216/9               ok                    3228118\n",
    "parallel_max                                                16777216/10              ok                    2938229\n",
    "parallel_max                                                16777216/11              ok                    2779921\n",
    "parallel_max                                                16777216/12              ok                    3603534\n",
    "parallel_max                                                128/1                    ok                        103\n",
    "parallel_max                                                256/1                    ok                        194\n",
    "parallel_max                                                512/1                    ok                        378\n",
    "parallel_max                                                1024/1                   ok                        744\n",
    "parallel_max                                                2048/1                   ok                       1479\n",
    "parallel_max                                                4096/1                   ok                       2946\n",
    "parallel_max                                                8192/1                   ok                       5882\n",
    "parallel_max                                                16384/1                  ok                      11770\n",
    "parallel_max                                                32768/1                  ok                      23522\n",
    "parallel_max                                                65536/1                  ok                      47081\n",
    "parallel_max                                                131072/1                 ok                      94327\n",
    "parallel_max                                                262144/1                 ok                     188814\n",
    "parallel_max                                                524288/1                 ok                     378250\n",
    "parallel_max                                                1048576/1                ok                     753364\n",
    "parallel_max                                                2097152/1                ok                    1563725\n",
    "parallel_max                                                4194304/1                ok                    3301406\n",
    "parallel_max                                                8388608/1                ok                    6672297\n",
    "parallel_max                                                16777216/1               ok                   13354922\n",
    "parallel_max                                                128/4                    ok                      39699\n",
    "parallel_max                                                256/4                    ok                      39435\n",
    "parallel_max                                                512/4                    ok                      38911\n",
    "parallel_max                                                1024/4                   ok                      40089\n",
    "parallel_max                                                2048/4                   ok                      39912\n",
    "parallel_max                                                4096/4                   ok                      40945\n",
    "parallel_max                                                8192/4                   ok                      40335\n",
    "parallel_max                                                16384/4                  ok                      42213\n",
    "parallel_max                                                32768/4                  ok                      45452\n",
    "parallel_max                                                65536/4                  ok                      49948\n",
    "parallel_max                                                131072/4                 ok                      63496\n",
    "parallel_max                                                262144/4                 ok                      90362\n",
    "parallel_max                                                524288/4                 ok                     136073\n",
    "parallel_max                                                1048576/4                ok                     234576\n",
    "parallel_max                                                2097152/4                ok                     441155\n",
    "parallel_max                                                4194304/4                ok                     882057\n",
    "parallel_max                                                8388608/4                ok                    1733131\n",
    "parallel_max                                                16777216/4               ok                    3453396\n",
    "```\n",
    "\n",
    "</p>\n",
    "</details>"
   ]
  },
  {
   "cell_type": "markdown",
   "metadata": {},
   "source": [
    "Посмотрим на результаты чуть подробнее:"
   ]
  },
  {
   "cell_type": "markdown",
   "metadata": {},
   "source": [
    "Как растёт производительность с ростом числа потоков на большом массиве.\n",
    "\n",
    "* Обратить внимание на поведение графика. Почему оно такое?\n",
    "* Эффективность распараллеливания - насколько ускорение пропорционально числу потоков. "
   ]
  },
  {
   "cell_type": "code",
   "execution_count": 9,
   "metadata": {},
   "outputs": [],
   "source": [
    "import matplotlib.pyplot as plt\n",
    "import numpy as np\n",
    "\n",
    "%matplotlib inline"
   ]
  },
  {
   "cell_type": "code",
   "execution_count": 44,
   "metadata": {},
   "outputs": [
    {
     "data": {
      "image/png": "[encoded data removed]",
      "text/plain": [
       "<Figure size 720x504 with 1 Axes>"
      ]
     },
     "metadata": {
      "needs_background": "light"
     },
     "output_type": "display_data"
    },
    {
     "name": "stdout",
     "output_type": "stream",
     "text": [
      "parallelization efficiency\n",
      " 1 threads, eff = 1.00\n",
      " 2 threads, eff = 0.98\n",
      " 3 threads, eff = 0.98\n",
      " 4 threads, eff = 0.96\n",
      " 5 threads, eff = 0.95\n",
      " 6 threads, eff = 0.90\n",
      " 7 threads, eff = 0.47\n",
      " 8 threads, eff = 0.46\n",
      " 9 threads, eff = 0.46\n",
      "10 threads, eff = 0.45\n",
      "11 threads, eff = 0.44\n",
      "12 threads, eff = 0.31\n"
     ]
    }
   ],
   "source": [
    "def draw_fixed_array():\n",
    "    x = np.arange(12) + 1\n",
    "    y = np.array([13341652, 6772804, 4542359, 3463808,\n",
    "                  2818170, 2457589, 4069203, 3602845,\n",
    "                  3228118, 2938229, 2779921, 3603534])\n",
    "    plt.figure(figsize=(10, 7))\n",
    "    plt.plot(x, y)\n",
    "    plt.ylim(bottom=0)\n",
    "    plt.xlabel('threads count')\n",
    "    plt.ylabel('nanoseconds')\n",
    "    plt.title('dependency of the search for max time in 64 Mb array on threads count')\n",
    "    plt.show()\n",
    "    \n",
    "    print('parallelization efficiency')\n",
    "    for i in range(12):\n",
    "        print('{:2} threads, eff = {:.2f}'.format(x[i], (y[0] / y[i]) / x[i] ))\n",
    "    \n",
    "\n",
    "draw_fixed_array()"
   ]
  },
  {
   "cell_type": "markdown",
   "metadata": {},
   "source": [
    "* обратить внимание как ведёт себя эффективность распараллеливания (насколько ускорение пропорционально числу потоков)\n",
    "* что показывает эффективность распараллеливания?\n",
    "* возможно ли сверхлинейное ускорение? (parallelization efficiency > 1)"
   ]
  },
  {
   "cell_type": "markdown",
   "metadata": {},
   "source": [
    "Подробнее про superlinear speedup:<br />\n",
    "https://en.wikipedia.org/wiki/Speedup#Super-linear_speedup"
   ]
  },
  {
   "cell_type": "code",
   "execution_count": 41,
   "metadata": {},
   "outputs": [
    {
     "data": {
      "image/png": "[encoded data removed]",
      "text/plain": [
       "<Figure size 720x504 with 1 Axes>"
      ]
     },
     "metadata": {
      "needs_background": "light"
     },
     "output_type": "display_data"
    }
   ],
   "source": [
    "def draw_fixed_threads():\n",
    "    x = np.array([128, 256, 512, 1024, 2048, 4096, 8192, 16384, 32768, 65536, 131072, 262144, 524288, 1048576, 2097152, 4194304, 8388608, 16777216])\n",
    "    y_1t = np.array([103, 194, 378, 744, 1479, 2946, 5882, 11770, 23522, 47081, 94327, 188814, 378250, 753364, 1563725, 3301406, 6672297, 13354922])\n",
    "    y_4t = np.array([39699, 39435, 38911, 40089, 39912, 40945, 40335, 42213, 45452, 49948, 63496, 90362, 136073, 234576, 441155, 882057, 1733131, 3453396])\n",
    "    plt.figure(figsize=(10, 7))\n",
    "    plt.plot(x, y_1t, label='1 thread')\n",
    "    plt.plot(x, y_4t, label='4 threads')\n",
    "    plt.yscale('log')\n",
    "    plt.xscale('log')\n",
    "    plt.ylim(bottom=100)\n",
    "    plt.xlabel('array size')\n",
    "    plt.ylabel('nanoseconds')\n",
    "    plt.title('dependency of the search for max time on array size (log scale!)')\n",
    "    plt.legend()\n",
    "    plt.show()\n",
    "    \n",
    "\n",
    "draw_fixed_threads()"
   ]
  },
  {
   "cell_type": "markdown",
   "metadata": {},
   "source": [
    "<br />"
   ]
  },
  {
   "cell_type": "markdown",
   "metadata": {},
   "source": [
    "##### Параллельные вычисления: закон Амдала"
   ]
  },
  {
   "cell_type": "markdown",
   "metadata": {},
   "source": [
    "https://ru.wikipedia.org/wiki/%D0%97%D0%B0%D0%BA%D0%BE%D0%BD_%D0%90%D0%BC%D0%B4%D0%B0%D0%BB%D0%B0\n",
    "\n",
    "Закон Амдала формулируется в предположении, что параллельная часть алгоритма не может иметь сверхлинейного ускорения. Одна из его формулировок:\n",
    "\n",
    "__Закон Амдала__: Пусть $T = T_0 + T_1$, где\n",
    "* $T$ - время работы однопоточной версии алгоритма\n",
    "* $T_0$ - время работы нераспараллеливаемой части\n",
    "* $T_1$ - время работы распараллеливаемой части\n",
    "\n",
    "Пусть $P$ - кол-во параллельных исполнителей.\n",
    "\n",
    "Тогда время $T_P$ работы алгоритма на $P$ исполнителях:\n",
    "\n",
    "$$T_P \\ge T_0 + \\frac{T_1}{P}$$"
   ]
  },
  {
   "cell_type": "markdown",
   "metadata": {},
   "source": [
    "Закон Амдала очевиден чуть более чем полностью, интерес представляют скорее конкретные цифры.\n",
    "\n",
    "__Пример__: Если $T_0 = \\frac{9}{10} T$, то увеличив хоть до бесконечности число исполнителей (и бюджет), за счёт распараллеливания более чем на 10% алгоритм не ускорить."
   ]
  },
  {
   "cell_type": "markdown",
   "metadata": {},
   "source": [
    "<br />"
   ]
  },
  {
   "cell_type": "markdown",
   "metadata": {},
   "source": [
    "Чтобы продемонстрировать эффект, решим ту же задачу поиска максимума в массиве, только в измерения добавим последовательную инициализацию самого массива.\n",
    "\n",
    "__Замечание__: код намеренно содержит ошибку для простоты, он некорректно обрабатывает хвосты массива, если размер не делится на число потоков."
   ]
  },
  {
   "cell_type": "markdown",
   "metadata": {},
   "source": [
    "```c++\n",
    "#include <sltbench/Bench.h>\n",
    "\n",
    "#include <algorithm>\n",
    "#include <cstdlib>\n",
    "#include <iostream>\n",
    "#include <thread>\n",
    "#include <vector>\n",
    "\n",
    "namespace\n",
    "{\n",
    "    struct Arg\n",
    "    {\n",
    "        unsigned array_size;\n",
    "        unsigned thread_cnt;\n",
    "    };\n",
    "\n",
    "    std::ostream& operator << (std::ostream& oss, const Arg& arg)\n",
    "    {\n",
    "        return oss << arg.array_size << '/' << arg.thread_cnt;\n",
    "    }\n",
    "}\n",
    "\n",
    "void parallel_max_amdal(const Arg& arg)\n",
    "{\n",
    "    std::vector<int> arr(arg.array_size);\n",
    "    for (unsigned i = 0; i < arg.array_size; ++i)\n",
    "         arr[i] = i % 100;\n",
    "\n",
    "    // separate single-threaded version from multi-threaded\n",
    "    int result = 0;\n",
    "    if (arg.thread_cnt == 1)\n",
    "    {\n",
    "        result =* max_element(begin(arr), begin(arr) + arg.array_size);\n",
    "    }\n",
    "    else\n",
    "    {\n",
    "        // maximum per threads\n",
    "        std::vector<int> results(arg.thread_cnt, 0);\n",
    "\n",
    "        // create threads to search for maximum\n",
    "        std::vector<std::thread> threads;\n",
    "        threads.reserve(arg.thread_cnt);\n",
    "        const unsigned len = arg.array_size / arg.thread_cnt;\n",
    "        for (unsigned i = 0; i < arg.thread_cnt; ++i)\n",
    "        {\n",
    "            threads.emplace_back([i, len, &results, &arr](){\n",
    "                const unsigned start_ix = len * i;\n",
    "                const unsigned final_ix = len * (i + 1);\n",
    "                results[i] = *max_element(begin(arr) + start_ix,\n",
    "                                          begin(arr) + final_ix);\n",
    "            });\n",
    "        }\n",
    "\n",
    "        // wait for threads to complete\n",
    "        for (auto& t : threads)\n",
    "            t.join();\n",
    "\n",
    "        result = *max_element(begin(results), end(results));\n",
    "    }\n",
    "    sltbench::DoNotOptimize(result);\n",
    "}\n",
    "\n",
    "static const std::vector<Arg> args{\n",
    "    // fixed size\n",
    "    {/*array_size*/16777216, /*thread_cnt*/ 1},\n",
    "    {/*array_size*/16777216, /*thread_cnt*/ 2},\n",
    "    {/*array_size*/16777216, /*thread_cnt*/ 3},\n",
    "    {/*array_size*/16777216, /*thread_cnt*/ 4},\n",
    "    {/*array_size*/16777216, /*thread_cnt*/ 5},\n",
    "    {/*array_size*/16777216, /*thread_cnt*/ 6},\n",
    "};\n",
    "\n",
    "SLTBENCH_FUNCTION_WITH_ARGS(parallel_max_amdal, args);\n",
    "\n",
    "SLTBENCH_MAIN();\n",
    "```"
   ]
  },
  {
   "cell_type": "markdown",
   "metadata": {},
   "source": [
    "Результат (объяснить):"
   ]
  },
  {
   "cell_type": "code",
   "execution_count": 47,
   "metadata": {},
   "outputs": [
    {
     "data": {
      "image/png": "[encoded data removed]",
      "text/plain": [
       "<Figure size 720x504 with 1 Axes>"
      ]
     },
     "metadata": {
      "needs_background": "light"
     },
     "output_type": "display_data"
    }
   ],
   "source": [
    "def draw_fixed_array_amdal():\n",
    "    x = np.arange(6) + 1\n",
    "    y = np.array([62.266184, 55.655488, 53.417368, 52.337318, 51.763960, 53.611173])\n",
    "    plt.figure(figsize=(10, 7))\n",
    "    plt.plot(x, y)\n",
    "    plt.ylim(bottom=0)\n",
    "    plt.xlabel('threads count')\n",
    "    plt.ylabel('ms')\n",
    "    plt.title('dependency of the search for max time in 64 Mb array on threads count')\n",
    "    plt.show()\n",
    "    \n",
    "\n",
    "draw_fixed_array_amdal()"
   ]
  },
  {
   "cell_type": "markdown",
   "metadata": {},
   "source": [
    "<br />"
   ]
  },
  {
   "cell_type": "markdown",
   "metadata": {},
   "source": [
    "##### std::this_thread namespace"
   ]
  },
  {
   "cell_type": "markdown",
   "metadata": {},
   "source": [
    "`std::this_thread` - простарнство имён, в котором размещены функции, по смыслу относящиеся к \"текущему потоку\" (в рамках стека которого функции вызываются)\n",
    "\n",
    "* `get_id` - идентификатор текущего потока\n",
    "* `sleep_for` - усыпить поток на какое-то время\n",
    "\n",
    "    ```c++\n",
    "    // вариант как усыпить текущий поток как минимум на 2 секунды (может проспать дольше)\n",
    "    std::this_thread::sleep_for(std::chrono::seconds(2));\n",
    "\n",
    "    // вариант как усыпить текущий поток как минимум на 2 секунды (может проспать дольше)\n",
    "    using namespace std::chrono_literals;\n",
    "    std::this_thread::sleep_for(2s);\n",
    "    ```\n",
    "\n",
    "* `sleep_until` - усыпить поток до точки во времени\n",
    "\n",
    "    ```c++\n",
    "    // усыпить текущий поток как минимум до конкретной даты (может проспать дольше)\n",
    "    using namespace std::chrono_literals;\n",
    "    std::this_thread::sleep_until(std::chrono::system_clock::now() + 2h);\n",
    "    ```\n",
    "    \n",
    "* `yield` - освободить фрейм выполнения потока \n",
    "\n",
    "    Вопросы про работу OS threads scheduler:\n",
    "    * Что значит \"усыпить поток\"?\n",
    "    * Что такое \"фрейм выполнения\"?\n",
    "    * Когда может быть полезен yield?\n",
    "\n",
    "    __Пример__:\n",
    "    \n",
    "    ```c++\n",
    "    while (!is_required_event_happen())\n",
    "        std::this_thread::yield();\n",
    "\n",
    "    while (!is_another_thread_job_finished())\n",
    "        std::this_thread::yield();\n",
    "\n",
    "    // Обсудить: что будет, если не написать |yield| здесь?\n",
    "    ```\n"
   ]
  },
  {
   "cell_type": "markdown",
   "metadata": {},
   "source": [
    "<br />"
   ]
  },
  {
   "cell_type": "markdown",
   "metadata": {},
   "source": [
    "##### std::thread изнутри"
   ]
  },
  {
   "cell_type": "markdown",
   "metadata": {},
   "source": [
    "В реализации `std::thread` переводит свои высокоуровневые команды в вызовы к ядру ОС (потоки являются объектами ядра ОС, а пользовательской программе отдаются handle, через которые можно доступаться до объектов ядра).\n",
    "\n",
    "* Для windows свой API управления потоками в ядре\n",
    "\n",
    "  https://docs.microsoft.com/ru-ru/cpp/c-runtime-library/reference/beginthread-beginthreadex?view=vs-2019\n",
    "  \n",
    "* Для linux/osx через pthread:\n",
    "\n",
    "  http://man7.org/linux/man-pages/man3/pthread_create.3.html\n",
    "\n",
    "\n",
    "При работе с потоками, т.к. это объекты ядра ОС, происходит переход из user space в kernel space, управление отдаётся ОС. Эти переходы могут быть недешёвыми, и желательно их минимизировать."
   ]
  },
  {
   "cell_type": "markdown",
   "metadata": {},
   "source": [
    "<br />"
   ]
  },
  {
   "cell_type": "markdown",
   "metadata": {},
   "source": [
    "С помощью метода [`native_handle`](https://en.cppreference.com/w/cpp/thread/thread/native_handle) можно у потока получить доступ до handle до объекта ядра ОС и более тонко настраивать потоки. В документации приводится пример, когда потоку поднимается приоритет для `pthread`. Но такие трюки уже за рамками стандартной библиотеки и являются ОС-специфичными."
   ]
  },
  {
   "cell_type": "markdown",
   "metadata": {},
   "source": [
    "```c++\n",
    "int main()\n",
    "{\n",
    "    std::thread t;\n",
    " \n",
    "    sched_param sch;\n",
    "    int policy; \n",
    "    pthread_getschedparam(t1.native_handle(), &policy, &sch);\n",
    "    sch.sched_priority = 20;\n",
    "    if (pthread_setschedparam(t1.native_handle(), SCHED_FIFO, &sch))\n",
    "    {\n",
    "        std::cout << \"Failed to setschedparam: \" << std::strerror(errno) << '\\n';\n",
    "    }\n",
    " \n",
    "    t.join();\n",
    "}\n",
    "```"
   ]
  },
  {
   "cell_type": "markdown",
   "metadata": {},
   "source": [
    "<br />"
   ]
  },
  {
   "cell_type": "markdown",
   "metadata": {},
   "source": [
    "##### std::jthread (since C++20)"
   ]
  },
  {
   "cell_type": "markdown",
   "metadata": {},
   "source": [
    "https://en.cppreference.com/w/cpp/thread/jthread"
   ]
  },
  {
   "cell_type": "markdown",
   "metadata": {},
   "source": [
    "`std::jthread` - развитие `std::thread` c важными \"плюшками\" (но и подороже в использовании):\n",
    "* `jthread` можно прерывать\n",
    "* `jthread` в деструкторе ведёт себя более аккуратно:\n",
    "  * прерывает выполнение\n",
    "  * join-ит поток\n",
    "  \n",
    "Пока что документация `jthread` скуповата на примеры и описание, поэтому примеров на лекции не будет."
   ]
  },
  {
   "cell_type": "markdown",
   "metadata": {},
   "source": [
    "<br />"
   ]
  },
  {
   "cell_type": "markdown",
   "metadata": {},
   "source": [
    "##### boost::thread"
   ]
  },
  {
   "cell_type": "markdown",
   "metadata": {},
   "source": [
    "https://www.boost.org/doc/libs/1_64_0/doc/html/thread/thread_management.html#thread.thread_management.thread"
   ]
  },
  {
   "cell_type": "markdown",
   "metadata": {},
   "source": [
    "`boost::thread` - вариант организации потоков до С++11. Обладает более богатым функционалом.\n",
    "* Деструктор `boost::~thread` раньше `detach`-ил поток, но позже поменяли поведение под стандартное\n",
    "* Можно задавать размер стека, настройки безопасности и т.д. (см. документацию)\n",
    "* Можно прерывать"
   ]
  },
  {
   "cell_type": "markdown",
   "metadata": {},
   "source": [
    "<br />"
   ]
  },
  {
   "cell_type": "markdown",
   "metadata": {},
   "source": [
    "##### promise - future"
   ]
  },
  {
   "cell_type": "markdown",
   "metadata": {},
   "source": [
    "Связка `std::promise - std::future` - один из способов передать информацию между потоками, например:\n",
    "* результат выполнения потока\n",
    "* нотификация о событии"
   ]
  },
  {
   "cell_type": "markdown",
   "metadata": {},
   "source": [
    "По задумке `std::promise` и `std::future` являются некопируемыми, т.к. идеологически представляют собой \"канал связи\" с одним входом и одним выходом."
   ]
  },
  {
   "cell_type": "markdown",
   "metadata": {},
   "source": [
    "Как пользоваться:\n",
    "* создаём `std::promise<T> p` с типом нужного результата (вход канала связи)\n",
    "* через `auto f = p.get_future()` получаем `std::future<T>` (выход канала связи)\n",
    "* в рабочем потоке по готовности:\n",
    "  * либо выставляем результат через `p.set_value`\n",
    "  * либо выставляем exception через `p.set_exception`\n",
    "* в ожидающем потоке:\n",
    "  * либо блокируемся до момента когда результат готов через `f.wait, f.get`\n",
    "    * `f.wait()` - подождёт, пока чего-нибудь не выставят в `promise`\n",
    "    * `T res = f.get()` - подождёт и вернёт результат либо бросит исключение, если в `promise` положили исключение\n",
    "  * либо неблокирующее ожидание через `f.wait_for, f.wait_until` - методы ждут результата отведённое время, дождались или нет - определяется по коду возврата"
   ]
  },
  {
   "cell_type": "markdown",
   "metadata": {},
   "source": [
    "Вариант реализации параллельного поиска максимума через связку `promise-future`:\n",
    "    \n",
    "```c++\n",
    "int parallel_max(const std::vector<int>& arr)\n",
    "{\n",
    "    assert(arr.size() >= 2);  // для простоты демонстрации\n",
    "    \n",
    "    // функция, считающая максимум, и выставляющая результат в promise,\n",
    "    // её будем вызывать в фоновых потоках\n",
    "    const auto max_worker = [](std::vector<int>::const_iterator first,\n",
    "                               std::vector<int>::const_iterator last,\n",
    "                               std::promise<int> promise){\n",
    "        const int res = *max_element(first, last);\n",
    "        promise.set_value(res);\n",
    "    };\n",
    "    \n",
    "    // заводим promise-future связки между потоками\n",
    "    std::promise<int> thread_1_promise;\n",
    "    std::promise<int> thread_2_promise;\n",
    "    std::future<int> thread_1_future = thread_1_promise.get_future();\n",
    "    std::future<int> thread_2_future = thread_2_promise.get_future();\n",
    "    \n",
    "    // запускаем потоки для параллельного поиска максимума\n",
    "    std::thread t1(max_worker,\n",
    "                   begin(arr), begin(arr) + arr.size() / 2,\n",
    "                   std::move(thread_1_promise));\n",
    "    std::thread t2(max_worker,\n",
    "                   begin(arr) + arr.size() / 2, end(arr),\n",
    "                   std::move(thread_2_promise));\n",
    "    \n",
    "    // дожидаемся, пока оба потока не выставят результат\n",
    "    const int max_1 = thread_1_future.get();\n",
    "    const int max_2 = thread_2_future.get();\n",
    "    \n",
    "    // дожидаемся окончания работы потоков\n",
    "    // (отметьте некоторую обязательную избыточность в этом примере)\n",
    "    // \n",
    "    // Вопрос: что будет, если не написать этих двух строк?\n",
    "    t1.join();\n",
    "    t2.join();\n",
    "    \n",
    "    // возвращаем результат - максимум из двух половинок\n",
    "    return std::max(max_1, max_2);\n",
    "}\n",
    "```"
   ]
  },
  {
   "cell_type": "markdown",
   "metadata": {},
   "source": [
    "__Замечание__: если фоновый поток поведёт себя некорректно и забудет выставить результат в `promise`, остаётся ещё одна выручалочка - деструктор `promise` вызовет `set_exception`, если результата нет. В нашем примере это сработает.\n",
    "\n",
    "А в таком - нет (разобрать):\n",
    "\n",
    "```c++\n",
    "// заводим promise-future связку между потоками\n",
    "std::promise<int> p;\n",
    "std::future<int> f = p.get_future();\n",
    "\n",
    "const auto worker = [&p](int x) {\n",
    "    // захват promise по ссылке!\n",
    "    const int res = x * x;\n",
    "    // упс, мы забыли про set_value\n",
    "};\n",
    "\n",
    "// запускаем поток\n",
    "std::thread t1(worker, 5);\n",
    "\n",
    "// дожидаемся результата\n",
    "const int result = f.get();  // здесь зависли навсегда\n",
    "\n",
    "// дожидаемся окончания работы потоков\n",
    "t1.join();\n",
    "```"
   ]
  },
  {
   "cell_type": "markdown",
   "metadata": {},
   "source": [
    "<br />"
   ]
  },
  {
   "cell_type": "markdown",
   "metadata": {},
   "source": [
    "##### promise - shared_future"
   ]
  },
  {
   "cell_type": "markdown",
   "metadata": {},
   "source": [
    "Для организации канала связи \"один вход - много выходов\" есть `shared_future`.\n",
    "\n",
    "Несколько `shared_future` могут ожидать события от одного `promise`."
   ]
  },
  {
   "cell_type": "markdown",
   "metadata": {},
   "source": [
    "Пример: два фоновых потока дожидаются значения, введённого пользователем:\n",
    "        \n",
    "```c++\n",
    "#include <future>\n",
    "#include <iostream>\n",
    "#include <thread>\n",
    "\n",
    "void worker_1(std::shared_future<int> f)\n",
    "{\n",
    "    std::cout << \"worker 1 waits for user input\\n\";\n",
    "    const int x = f.get();\n",
    "    std::cout << \"worker 1 result: \" << x * x << std::endl;\n",
    "}\n",
    "\n",
    "void worker_2(std::shared_future<int> f)\n",
    "{\n",
    "    std::cout << \"worker 2 waits for user input\\n\";\n",
    "    const int x = f.get();\n",
    "    std::cout << \"worker 2 result: \" << x * x * x << std::endl;\n",
    "}\n",
    "\n",
    "int main()\n",
    "{\n",
    "    std::cout << \"enter x:\\n\";\n",
    "\n",
    "    // связка один вход - два выхода\n",
    "    std::promise<int> p;\n",
    "    std::shared_future<int> f1 = p.get_future().share();\n",
    "    std::shared_future<int> f2 = f1;\n",
    "\n",
    "    // стартуем потоки, каждому свой future\n",
    "    std::thread t1(worker_1, std::move(f1));\n",
    "    std::thread t2(worker_2, std::move(f2));\n",
    "\n",
    "    // читаем пользовательский ввод и сообщаем потокам значение\n",
    "    int x;\n",
    "    std::cin >> x;\n",
    "    p.set_value(x);\n",
    "\n",
    "    // не забываем за-join-ить потоки\n",
    "    t1.join();\n",
    "    t2.join();\n",
    "\n",
    "    return 0;\n",
    "}\n",
    "```"
   ]
  },
  {
   "cell_type": "markdown",
   "metadata": {},
   "source": [
    "Возможный вывод:\n",
    "    \n",
    "```sh\n",
    "enter x:\n",
    "worker 1 waits for user input\n",
    "worker 2 waits for user input\n",
    "4\n",
    "worker 1 result: worker 2 result: 16\n",
    "64\n",
    "```"
   ]
  },
  {
   "cell_type": "markdown",
   "metadata": {},
   "source": [
    "<br />"
   ]
  },
  {
   "cell_type": "markdown",
   "metadata": {},
   "source": [
    "##### std::async"
   ]
  },
  {
   "cell_type": "markdown",
   "metadata": {},
   "source": [
    "https://en.cppreference.com/w/cpp/thread/async\n",
    "\n",
    "`std::async` - более высокоуровневый способ организации параллелизма, работающий не в терминах потоков, а в терминах задач.\n",
    "\n",
    "`std::async` возвращает `std::future`, через который можно ожидать результат.\n",
    "\n",
    "Имеет 2 способа просчёта задачи:\n",
    "* `std::launch::async` - запускается новый поток и на нём выполняется задача\n",
    "* `std::launch::deferred` - ленивое вычисление задачи в том же потоке при первом вызове `std::future::get`"
   ]
  },
  {
   "cell_type": "markdown",
   "metadata": {},
   "source": [
    "Вариант реализации поиска максимума в массиве через `std::async`:"
   ]
  },
  {
   "cell_type": "markdown",
   "metadata": {},
   "source": [
    "```c++\n",
    "int parallel_max(const std::vector<int>& arr, const unsigned tasks_count)\n",
    "{\n",
    "    // для простоты демонстрации, чтобы не обрабатывать хвосты\n",
    "    assert(arr.size() >= tasks_count && (arr.size() / tasks_count) * tasks_count == arr.size());\n",
    "    \n",
    "    // создать |tasks_count| фоновых задач\n",
    "    std::vector<std::future<int>> futures;\n",
    "    for (unsigned i = 0; i < tasks_count; ++i)\n",
    "    {\n",
    "        futures.emplace_back(\n",
    "            std::async(std::launch::async,\n",
    "                       [&]() -> int {\n",
    "                           return *max_element(begin(arr) + arr.size() / tasks_count * i,\n",
    "                                               begin(arr) + arr.size() / tasks_count * (i + 1));\n",
    "                        }));\n",
    "    }\n",
    "\n",
    "    // collect results and reduce\n",
    "    int res = INT_MIN;\n",
    "    for (auto& f: futures)\n",
    "        res = std::max(res, f.get());\n",
    "\n",
    "    return res;\n",
    "}\n",
    "\n",
    "// в std::async ошибка. В ответе будет мусор. Что за ошибка?\n",
    "```"
   ]
  },
  {
   "cell_type": "markdown",
   "metadata": {},
   "source": [
    "Обратите внимание на лаконичность и чистоту реализации:\n",
    "* Есть строго то, что нужно:\n",
    "    * функция, возвращающая результат нужного типа\n",
    "    * код запуска в один вызов\n",
    "    * объект для ожидания результата\n",
    "* Нет лишнего низкоуровнего шума:\n",
    "    * нет знаний о потоках, как и запускать и не забыть позвать `join`\n",
    "    * нет знаний о `promise-future` связках\n",
    "    * нет танцев с корректной передачей и уничтожением `promise`-ов, вызовом `set_value / set_exception` и т.д."
   ]
  },
  {
   "cell_type": "markdown",
   "metadata": {},
   "source": [
    "Можно встретить оправданную критику `std::async`-ов, что интерфейс не предоставляет более тонкого контроля когда, где и как запускается задача.\n",
    "\n",
    "Интерфейс удобен, когда проект более-менее простенький с простыми требованиями к памяти/производительности. Для более серьёзных проектов создавать поток на каждую фоновую задачу может быть слишком дорого (про цену создания чуть ниже), а лаг по времени между созданием и началом выполнения недопустимым.\n",
    "\n",
    "Зачастую большие проекты имеют свои собственные пулы потоков фиксированного размера (об их особенностях поговорим позже).\n",
    "\n",
    "Для решения проблемы комитет стандартизации работает над executors - механизмом более тонкой настройки `std::async`."
   ]
  },
  {
   "cell_type": "markdown",
   "metadata": {},
   "source": [
    "<br />"
   ]
  },
  {
   "cell_type": "markdown",
   "metadata": {},
   "source": [
    "##### цена создания потока"
   ]
  },
  {
   "cell_type": "markdown",
   "metadata": {},
   "source": [
    "Для каждого потока нужно:\n",
    "* создать объект в ядре ОС (переход в kernel space)\n",
    "* разместить стэк в куче\n",
    "* выделить место под регистры\n",
    "* инициализировать все `thread_local`-данные (тем сложнее, чем их больше)\n",
    "* доп. нагрузка на OS scheduler во время его жизни\n",
    "* доп. переключения контекстов ядра"
   ]
  },
  {
   "cell_type": "markdown",
   "metadata": {},
   "source": [
    "<br />"
   ]
  },
  {
   "cell_type": "markdown",
   "metadata": {},
   "source": [
    "__Упражение:__ в чём здесь проблемы (найдите 2 штуки)? как починить?\n",
    "    \n",
    "```c++\n",
    "std::thread create_worker_thread(int x)\n",
    "{\n",
    "    return std::thread([&](){ std::cout << x; });\n",
    "}\n",
    "\n",
    "int main()\n",
    "{\n",
    "    const auto t1 = create_worker_thread(1);\n",
    "    const auto t2 = create_worker_thread(2);\n",
    "    const auto t3 = create_worker_thread(3);\n",
    "}\n",
    "```\n",
    "\n",
    "<details>\n",
    "<summary>ответ</summary>\n",
    "<p>\n",
    "\n",
    "* `std::thread` надо либо `join`-ить в конце либо `detach`-ить\n",
    "* временный объект `x` передаётся в лямбду по ссылке и невалиден на момент исполнения задачи\n",
    "\n",
    "</p> \n",
    "</details>"
   ]
  },
  {
   "cell_type": "markdown",
   "metadata": {},
   "source": [
    "<br />"
   ]
  },
  {
   "cell_type": "markdown",
   "metadata": {},
   "source": [
    "__Резюме__:\n",
    "\n",
    "* Потоки и процессы - объекты ядра ОС. Процесс может содержать несколько потоков. В рамках одного процесса память общая.\n",
    "* `std::thread` - класс стандартной библиотеки для управления потоками\n",
    "* `std::thread`-ы надо `join`-ить или `detach`-ить\n",
    "* распараллеливание может замедлить работу программу, всегда надо замерять\n",
    "* последовательная часть алгоритма всегда будет ограничителем эффективности распараллеливания (закон Амдала)\n",
    "* альтернативы: `std::jthread`, `boost::thread` ...\n",
    "* `std::promise - std::future` - связка из стандартной библиотеки для передачи одного \"сообщения\" между потоками (есть 100500 способов передать сообщение иначе)\n",
    "* `std::async` - высокоуровневый интерфейс, работающий не в терминах потоков, а в терминах задач\n",
    "* создавать потоки дорого"
   ]
  }
 ],
 "metadata": {
  "kernelspec": {
   "display_name": "Python 3",
   "language": "python",
   "name": "python3"
  },
  "language_info": {
   "codemirror_mode": {
    "name": "ipython",
    "version": 3
   },
   "file_extension": ".py",
   "mimetype": "text/x-python",
   "name": "python",
   "nbconvert_exporter": "python",
   "pygments_lexer": "ipython3",
   "version": "3.6.9"
  }
 },
 "nbformat": 4,
 "nbformat_minor": 2
}
