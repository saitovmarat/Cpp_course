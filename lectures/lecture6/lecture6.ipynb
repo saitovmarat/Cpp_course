{
 "cells": [
  {
   "cell_type": "markdown",
   "metadata": {},
   "source": [
    "### Как домашняя работа ???\n",
    "<details>\n",
    "<summary>установка на винде</summary>\n",
    " \n",
    "[![Win instalation?][1]][1]\n",
    " \n",
    "[1]: win_cat.jpeg\n",
    "  \n",
    "</details>"
   ]
  },
  {
   "cell_type": "markdown",
   "metadata": {},
   "source": [
    "### Введение в структуры и классы"
   ]
  },
  {
   "cell_type": "markdown",
   "metadata": {},
   "source": [
    "Повторение"
   ]
  },
  {
   "cell_type": "markdown",
   "metadata": {},
   "source": [
    "Что произойдёт ?\n",
    "\n",
    "```C++\n",
    "#include <iostream>\n",
    "\n",
    "using namespace std;\n",
    "\n",
    "class Class {\n",
    "    int x;\n",
    "public:\n",
    "    int& get_x(){ return x; }\n",
    "    void print(){ cout << \"class \" << x <<'\\n'; }\n",
    "};\n",
    "\n",
    "struct Struct {\n",
    "    int x;\n",
    "    int& get_x(){ return x; }\n",
    "    void print(){ cout << \"struct \" << x <<'\\n'; }\n",
    "};\n",
    "\n",
    "int main()\n",
    "{\n",
    "    \n",
    "    Class c;\n",
    "    c.x = 5;\n",
    "    c.get_x() = 10; \n",
    "    \n",
    "    Struct s;\n",
    "    s.x = 10;\n",
    "\n",
    "    c.print();\n",
    "    s.print();\n",
    "\n",
    "    return 0;\n",
    "}\n",
    "```\n",
    "<details>\n",
    "<summary>Ответ</summary>\n",
    "<p>\n",
    "class 10\n",
    "struct 10\n",
    "</p>\n",
    "</details>"
   ]
  },
  {
   "cell_type": "markdown",
   "metadata": {},
   "source": [
    "> Или:\n",
    "```C++\n",
    "Class* class_array_pointer = new Class(); sizeof(class_array_pointer) // ??\n",
    "```\n",
    "<details>\n",
    "<summary>Ответ</summary>\n",
    "<p>\n",
    "sizeof(Class*) - размер указателя, на 64х ОС это 8 байт\n",
    "</p>\n",
    "</details>"
   ]
  },
  {
   "cell_type": "markdown",
   "metadata": {},
   "source": [
    "> Методы классов - это просто функции, в которые неявно передается указатель на сам класс"
   ]
  },
  {
   "cell_type": "markdown",
   "metadata": {},
   "source": [
    "### Перегрузка методов\n",
    "\n",
    "```c++\n",
    "class Connection\n",
    "{\n",
    "public:\n",
    "    void send(int value);\n",
    "    void send(const std::string& value);\n",
    "};\n",
    "\n",
    "int main()\n",
    "{\n",
    "    \n",
    "    Connection c;\n",
    "    c.send(\"hello from party\");\n",
    "    return 0;\n",
    "}\n",
    "```\n",
    "<details>\n",
    "<summary>Ответ</summary>\n",
    "<p>\n",
    "0x12345678\n",
    "</p>\n",
    "</details>\n"
   ]
  },
  {
   "cell_type": "markdown",
   "metadata": {},
   "source": [
    "___"
   ]
  },
  {
   "cell_type": "markdown",
   "metadata": {},
   "source": [
    "Класс и объект - ключевые термины в ООП - языках"
   ]
  },
  {
   "cell_type": "markdown",
   "metadata": {},
   "source": [
    "![](classes.jpg)"
   ]
  },
  {
   "cell_type": "markdown",
   "metadata": {},
   "source": [
    "* Барсик - объект класса \"Кошка домашняя\"\n",
    "* \"Кошка домашняя\" - класс, наследник класса \"Кошки\"\n",
    "* \"Кошки\" - класс, наследник класса \"Кошачьи\"\n",
    "* \"Кошачьи\" - класс, наследник класса \"Хищные\"\n",
    "\n",
    "\n",
    "Объект класса - конкретный элемент этого типа.\n",
    "\n",
    "Класс-наследник __уточняет__ характеристики базового класса"
   ]
  },
  {
   "cell_type": "markdown",
   "metadata": {},
   "source": [
    "Для описания классов в языке С++ есть два ключевых слова: `class` и `struct`"
   ]
  },
  {
   "cell_type": "markdown",
   "metadata": {},
   "source": [
    "```c++\n",
    "class Animal\n",
    "{\n",
    "    ...\n",
    "};\n",
    "\n",
    "struct Point\n",
    "{\n",
    "    ...\n",
    "};\n",
    "```"
   ]
  },
  {
   "cell_type": "markdown",
   "metadata": {},
   "source": [
    "Класс может иметь данные: члены класса"
   ]
  },
  {
   "cell_type": "markdown",
   "metadata": {},
   "source": [
    "```c++\n",
    "class Animal\n",
    "{\n",
    "    std::string name;\n",
    "    unsigned age;\n",
    "};\n",
    "\n",
    "struct Point\n",
    "{\n",
    "    float x;\n",
    "    float y;\n",
    "};\n",
    "```"
   ]
  },
  {
   "cell_type": "markdown",
   "metadata": {},
   "source": [
    "Как создавать объекты таких классов:"
   ]
  },
  {
   "cell_type": "markdown",
   "metadata": {},
   "source": [
    "```c++\n",
    "Animal a;\n",
    "Point p;\n",
    "```"
   ]
  },
  {
   "cell_type": "markdown",
   "metadata": {},
   "source": [
    "Доступ до полей:"
   ]
  },
  {
   "cell_type": "markdown",
   "metadata": {},
   "source": [
    "```c++\n",
    "p.x = 3.f;\n",
    "p.y = 4.f;\n",
    "```"
   ]
  },
  {
   "cell_type": "markdown",
   "metadata": {},
   "source": [
    "Класс может иметь методы:"
   ]
  },
  {
   "cell_type": "markdown",
   "metadata": {},
   "source": [
    "```c++\n",
    "class Animal\n",
    "{\n",
    "    bool is_too_young() const\n",
    "    {\n",
    "        return age == 0;\n",
    "    }\n",
    "   \n",
    "    std::string name;\n",
    "    unsigned age;\n",
    "};\n",
    "\n",
    "//\n",
    "// или так:\n",
    "//\n",
    "\n",
    "class Animal\n",
    "{\n",
    "    bool is_too_young() const;\n",
    "    \n",
    "    std::string name;\n",
    "    unsigned age;\n",
    "};\n",
    "\n",
    "bool Animal::is_too_young() const\n",
    "{\n",
    "    return age == 0;\n",
    "}\n",
    "```"
   ]
  },
  {
   "cell_type": "markdown",
   "metadata": {},
   "source": [
    "Класс может наследоваться от другого класса:"
   ]
  },
  {
   "cell_type": "markdown",
   "metadata": {},
   "source": [
    "```c++\n",
    "class Cat : Animal\n",
    "{\n",
    "};\n",
    "\n",
    "struct WeightedPoint : Point\n",
    "{\n",
    "    float w;\n",
    "};\n",
    "```"
   ]
  },
  {
   "cell_type": "markdown",
   "metadata": {},
   "source": [
    "У членов и методов классов есть модификаторы видимости:\n",
    "* `private` - доступ только себе самому и друзьям\n",
    "* `protected` - плюс наследники\n",
    "* `public` - кто угодно"
   ]
  },
  {
   "cell_type": "markdown",
   "metadata": {},
   "source": [
    "```c++\n",
    "class Animal\n",
    "{\n",
    "public:\n",
    "    bool is_too_young() const { return age == 0; }\n",
    "  \n",
    "private:\n",
    "    std::string name;\n",
    "    unsigned age;\n",
    "};\n",
    "\n",
    "class Cat : public Animal\n",
    "{\n",
    "public:\n",
    "    void say_meow() const { std::cout << \"meow\"; }\n",
    "};\n",
    "\n",
    "struct Point\n",
    "{\n",
    "    float x;\n",
    "    float y;\n",
    "};\n",
    "\n",
    "struct WeightedPoint : Point\n",
    "{\n",
    "    float w;\n",
    "};\n",
    "```"
   ]
  },
  {
   "cell_type": "markdown",
   "metadata": {},
   "source": [
    "```c++\n",
    "Cat barsic;\n",
    "barsic.say_meow();      // OK\n",
    "barsic.name = \"Barsic\"; // Compile-time error: name is private member\n",
    "    \n",
    "WeightedPoint p;\n",
    "p.x = 3.f;  // OK\n",
    "p.w = 0.f;  // OK\n",
    "```"
   ]
  },
  {
   "cell_type": "markdown",
   "metadata": {},
   "source": [
    "<br />"
   ]
  },
  {
   "cell_type": "markdown",
   "metadata": {},
   "source": [
    "Иногда приходится создавать объекты классов, копировать и уничтожать их. Для этого существуют конструкторы и деструкторы:"
   ]
  },
  {
   "cell_type": "markdown",
   "metadata": {},
   "source": [
    "Для каждого класса могут быть определены (или удалены) основные операции:\n",
    "* конструктор по умолчанию (default constructor)\n",
    "* копирующий конструктор (copy constructor)\n",
    "* перемещающий конструктор (move constructor)\n",
    "* копирующий оператор присваивания (copy assignment)\n",
    "* перемещающий оператор присваивания (move assignment)\n",
    "* деструктор (destructor)"
   ]
  },
  {
   "cell_type": "markdown",
   "metadata": {},
   "source": [
    "```c++\n",
    "class Animal\n",
    "{\n",
    "private:\n",
    "    std::string name;\n",
    "    unsigned age;\n",
    "    \n",
    "public:\n",
    "    // конструктор по умолчанию\n",
    "    //\n",
    "    // Animal an;\n",
    "    Animal() : age(0) {}\n",
    "    // что с name?\n",
    "\n",
    "    // конструктор из одного аргумента\n",
    "    //\n",
    "    // Animal an(\"Murka\");\n",
    "    Animal(const std::string& a_name)\n",
    "        : name(a_name)\n",
    "        , age(0)\n",
    "    {}\n",
    "\n",
    "    // конструктор из двух аргументов\n",
    "    //\n",
    "    // Animal an(\"Murka\", 7);\n",
    "    Animal(const std::string& a_name, const int a_age)\n",
    "        // список инициализации для членов класса\n",
    "        // плюс, возможно, спецификация вызова базового класса\n",
    "        : name(a_name)\n",
    "        , age(a_age)\n",
    "    {\n",
    "        // тело конструктора\n",
    "        std::cout << \"creating animal\" << std::endl;\n",
    "        std::cout << \"animal created\" << std::endl;\n",
    "    }  // когда выполнение доходит до конца конструктора, объект класса Animal считается сконструированным\n",
    "    \n",
    "    // конструктор копирования\n",
    "    //\n",
    "    // Animal a1;  // default\n",
    "    // Animal a2 = a1;\n",
    "    // Animal a3(a2);\n",
    "    // имеет доступ к приватным полям rhs, т.к. объект того же класса\n",
    "    Animal(const Animal& rhs)\n",
    "        : name(rhs.name)\n",
    "        , age(rhs.age)\n",
    "    {}\n",
    "    \n",
    "    // конструктор перемещения\n",
    "    //\n",
    "    // Animal a1(\"Murka\", 13);\n",
    "    // Animal a2 = std::move(a1);\n",
    "    // a2 - ? a1 - ?\n",
    "    Animal(Animal&& rhs)\n",
    "        : name(std::move(rhs.name))\n",
    "        , age(rhs.age)\n",
    "    {}\n",
    "    \n",
    "    // копирующее присваивание\n",
    "    //\n",
    "    // Animal a1(\"Murka\", 13), a2;\n",
    "    // a2 = a1;\n",
    "    Animal& operator = (const Animal& rhs)\n",
    "    {\n",
    "        ...;\n",
    "        return *this;\n",
    "    }\n",
    "    \n",
    "    // перемещающее присваивание\n",
    "    //\n",
    "    // Animal a1(\"Murka\", 13), a2;\n",
    "    // a2 = std::move(a1);\n",
    "    Animal& operator = (Animal&& rhs)\n",
    "    {\n",
    "        ...;\n",
    "        return *this;\n",
    "    }\n",
    "    \n",
    "    // деструктор\n",
    "    //\n",
    "    // обратить внимание, что в деструкторе происходит больше операций, чем вывод, объяснить, почему.\n",
    "    ~Animal()\n",
    "    {\n",
    "        std::cout << \"destroying \" << name << std::endl;\n",
    "    }\n",
    "};\n",
    "```"
   ]
  },
  {
   "cell_type": "markdown",
   "metadata": {},
   "source": [
    "<br />"
   ]
  },
  {
   "cell_type": "markdown",
   "metadata": {},
   "source": [
    "<br />"
   ]
  },
  {
   "cell_type": "markdown",
   "metadata": {},
   "source": [
    "##### Какую часть работы по составлению конструкторов, деструкторов и операторов присваивания можно отдать компилятору?"
   ]
  },
  {
   "cell_type": "markdown",
   "metadata": {},
   "source": [
    "Компилятор может сгенерировать эти операции в дефолтном виде **по полям**, правила такие:\n",
    "\n",
    "Что имеется ввиду под фразой **по полям** :\n",
    "\n",
    "```c++\n",
    "class Animal\n",
    "{\n",
    "    std::string name = \"UNK\";\n",
    "    int age = 0;\n",
    "};\n",
    "\n",
    "Animal an1;           // значение?\n",
    "Animal an2(an1);      // значение?\n",
    "an1 = an2;            // значение?\n",
    "an2 = std::move(an1); // значение?\n",
    "```\n",
    "\n",
    "* автогенерируемый дефолтный конструктор устанавливает полям дефолтные значения\n",
    "* автогенерируемый конструктор копирования копирует значения по полям\n",
    "* автогенерируемый конструктор перемещения перемещает значения по полям\n",
    "* автогенерируемый оператор присваивания ... (вопрос к студентам)\n",
    "* автогенерируемый оператор перемещения ... (вопрос к студентам)\n",
    "* автогенерируемый деструктор ... (вопрос к студентам)"
   ]
  },
  {
   "cell_type": "markdown",
   "metadata": {},
   "source": [
    "__Вопрос__: В каких случаях нужно избежать автогенерированного конструктора копирования? Пример?\n",
    "\n",
    "<details>\n",
    "<summary>Ответ 1</summary>\n",
    "<p>\n",
    "\n",
    "Когда копирование по полям некорректно копирует состояние класса. Пример:\n",
    "\n",
    "```c++\n",
    "class String\n",
    "{\n",
    "    const char* data;\n",
    "    unsigned int len;\n",
    "};\n",
    "```\n",
    "\n",
    "</p>\n",
    "</details>\n",
    "\n",
    "<details>\n",
    "<summary>Ответ 2</summary>\n",
    "<p>\n",
    "\n",
    "Когда копирование запрещено. Пример:\n",
    "\n",
    "```c++\n",
    "class File\n",
    "{\n",
    "    FILE* file;\n",
    "};\n",
    "```\n",
    "\n",
    "</p>\n",
    "</details>"
   ]
  },
  {
   "cell_type": "markdown",
   "metadata": {},
   "source": [
    "__Вопрос для продвинутых__: В каких ещё случаях (кроме ручного deepcopy) нужно избежать автогенерированного конструктора перемещения? Пример?\n",
    "\n",
    "<details>\n",
    "<summary>Ответ</summary>\n",
    "<p>\n",
    "\n",
    "Когда есть зависимость по полям. Пример:\n",
    "\n",
    "\n",
    "```c++\n",
    "class ListWithZerosCount\n",
    "{\n",
    "    std::list<int> list;\n",
    "    int zeros_count;\n",
    "};\n",
    "\n",
    "\n",
    "ListWithZerosCount l1 = ...;\n",
    "\n",
    "ListWithZerosCount l2 = std::move(l1);\n",
    "\n",
    "// можем продолжить работу с l1\n",
    "```\n",
    "\n",
    "Объяснение: перемещение всегда оставляет перемещаемый объект в unspecified valid state (если специально не оговорено иначе). Если по полям есть зависимость, перевод всех полей в unspecified valid state mможет нарушить корректность самого класса.\n",
    "\n",
    "</p>\n",
    "</details>\n"
   ]
  },
  {
   "cell_type": "markdown",
   "metadata": {},
   "source": [
    "<br />"
   ]
  },
  {
   "cell_type": "markdown",
   "metadata": {},
   "source": [
    "Правила автогенерации:"
   ]
  },
  {
   "cell_type": "markdown",
   "metadata": {},
   "source": [
    "![](comp_rules.jpg)"
   ]
  },
  {
   "cell_type": "markdown",
   "metadata": {},
   "source": [
    "Но никто их не помнит наизусть, поэтому работает правило 6:\n",
    "    \n",
    "__Определил одно - определи все шесть__"
   ]
  },
  {
   "cell_type": "markdown",
   "metadata": {},
   "source": [
    "<br />"
   ]
  },
  {
   "cell_type": "markdown",
   "metadata": {},
   "source": [
    "**Замечание:** далее рисовать происходящее в памяти, так понимается лучше"
   ]
  },
  {
   "cell_type": "markdown",
   "metadata": {},
   "source": [
    "<br />"
   ]
  },
  {
   "cell_type": "markdown",
   "metadata": {},
   "source": [
    "##### Мой первый класс"
   ]
  },
  {
   "cell_type": "markdown",
   "metadata": {},
   "source": [
    "Реализуем класс - строку на С++.\n",
    "\n",
    "Важнейший принцип языка, основа его основ - RAII (Resource Acquisition Is Initialization)"
   ]
  },
  {
   "cell_type": "markdown",
   "metadata": {},
   "source": [
    "```c++\n",
    "class String\n",
    "{\n",
    "public:\n",
    "    String();\n",
    "    String(const char *s);\n",
    "    String(const char *s, int size);\n",
    "    ~String();\n",
    "    String(const String& rhs);\n",
    "    String(String&& rhs);\n",
    "\n",
    "    String& operator = (const String& rhs);\n",
    "    String& operator = (String&& rhs);\n",
    "\n",
    "    friend String operator + (const String& lhs, const String& rhs);\n",
    "\n",
    "private:\n",
    "    char* s_;  // pointer to null-terminated characters\n",
    "    size_t l_; // strlen(s_) == l_\n",
    "};\n",
    "```"
   ]
  },
  {
   "cell_type": "markdown",
   "metadata": {},
   "source": [
    "Для начала реализуем оператор сложения двух строк"
   ]
  },
  {
   "cell_type": "markdown",
   "metadata": {},
   "source": [
    "```c++\n",
    "String operator + (const String& lhs, const String& rhs)\n",
    "{\n",
    "    const size_t res_size = lhs.l_ + rhs.l_;\n",
    "    const char* res_s = new char[res_size + 1];\n",
    "    strcpy(res_s, lhs.s_);\n",
    "    strncpy(res_s + lhs.l_, rhs.s_, rhs.l_);\n",
    "    \n",
    "    String s(res_s, res_size);\n",
    "\n",
    "    delete[] res_s;\n",
    "    return s;\n",
    "}\n",
    "```"
   ]
  },
  {
   "cell_type": "markdown",
   "metadata": {},
   "source": [
    "**конструкторы** - код, вызываемый при создании объекта"
   ]
  },
  {
   "cell_type": "markdown",
   "metadata": {},
   "source": [
    "```c++\n",
    "String::String()\n",
    "    : s_(new char[1])\n",
    "    , l_(0)\n",
    "{\n",
    "    s_[0] = 0;\n",
    "}\n",
    "\n",
    "String::String(const char* s)\n",
    "{\n",
    "    l_ = strlen(s);\n",
    "    s_ = new char[l + 1];\n",
    "    strcpy(s_, s);\n",
    "}\n",
    "\n",
    "String::String(const char *s, int size)\n",
    "    : s_(new char[size + 1])\n",
    "    , l_(size + 1)\n",
    "{\n",
    "    strncpy(s_, s, size);\n",
    "    s_[l_] = 0;\n",
    "}\n",
    "```"
   ]
  },
  {
   "cell_type": "markdown",
   "metadata": {},
   "source": [
    "**деструктор** - код, который будет вызываться при уничтожении объекта"
   ]
  },
  {
   "cell_type": "markdown",
   "metadata": {},
   "source": [
    "```c++\n",
    "String::~String()\n",
    "{\n",
    "    delete[] s_;\n",
    "}\n",
    "```"
   ]
  },
  {
   "cell_type": "markdown",
   "metadata": {},
   "source": [
    "Остановимся на секунду и всомним про RAII"
   ]
  },
  {
   "cell_type": "markdown",
   "metadata": {},
   "source": [
    "**конструктор копирования**"
   ]
  },
  {
   "cell_type": "markdown",
   "metadata": {},
   "source": [
    "```c++\n",
    "String::String(const String& rhs)\n",
    "{\n",
    "    s_ = new char[rhs.l_ + 1];\n",
    "    l_ = rhs.l_;\n",
    "    strcpy(s_, rhs.s_);\n",
    "}\n",
    "```"
   ]
  },
  {
   "cell_type": "markdown",
   "metadata": {},
   "source": [
    "**конструктор перемещения**"
   ]
  },
  {
   "cell_type": "markdown",
   "metadata": {},
   "source": [
    "```c++\n",
    "String::String(String&& rhs)\n",
    "    : s_(rhs.s_)\n",
    "    , l_(rhs.l_)\n",
    "{\n",
    "}\n",
    "```"
   ]
  },
  {
   "cell_type": "markdown",
   "metadata": {},
   "source": [
    "Что-то пошло не так. Что именно?"
   ]
  },
  {
   "cell_type": "markdown",
   "metadata": {},
   "source": [
    "Не работает такой код, а должен:"
   ]
  },
  {
   "cell_type": "markdown",
   "metadata": {},
   "source": [
    "```c++\n",
    "{\n",
    "    String s1 = \"run, Forest, run!\";\n",
    "    String s2 = std::move(s1);\n",
    "}\n",
    "```"
   ]
  },
  {
   "cell_type": "markdown",
   "metadata": {},
   "source": [
    "Реализуем правильный конструктор перемещения"
   ]
  },
  {
   "cell_type": "markdown",
   "metadata": {},
   "source": [
    "```c++\n",
    "String::String(String&& rhs)\n",
    "    : s_(rhs.s_)\n",
    "    , l_(rhs.l_)\n",
    "{\n",
    "    rhs.s_ = 0;\n",
    "    rhs.l_ = 0;\n",
    "}\n",
    "```"
   ]
  },
  {
   "cell_type": "markdown",
   "metadata": {},
   "source": [
    "А точно ли он правильный?"
   ]
  },
  {
   "cell_type": "markdown",
   "metadata": {},
   "source": [
    "<details>\n",
    "<summary>Ответ:</summary>\n",
    "\n",
    "rhs сломан\n",
    "\n",
    "</details>"
   ]
  },
  {
   "cell_type": "markdown",
   "metadata": {},
   "source": [
    "Третья попытка реализовать правильный конструктор перемещения"
   ]
  },
  {
   "cell_type": "markdown",
   "metadata": {},
   "source": [
    "```c++\n",
    "String::String(String&& rhs)\n",
    "{\n",
    "    s_ = rhs.s_;\n",
    "    l_ = rhs.l_;\n",
    "\n",
    "    rhs.s_ = new char[1];\n",
    "    rhs.s_[0] = 0;\n",
    "    rhs.l_ = 0;\n",
    "}\n",
    "```"
   ]
  },
  {
   "cell_type": "markdown",
   "metadata": {},
   "source": [
    "**копирующее присваивание**"
   ]
  },
  {
   "cell_type": "markdown",
   "metadata": {},
   "source": [
    "```c++\n",
    "String& String::operator =(const String& rhs)\n",
    "{\n",
    "    s_ = new char[rhs.l_ + 1];\n",
    "    l_ = rhs.l_;\n",
    "    strcpy(s_, rhs.s_);\n",
    "\n",
    "    return *this;\n",
    "}\n",
    "```"
   ]
  },
  {
   "cell_type": "markdown",
   "metadata": {},
   "source": [
    "<details>\n",
    "<summary>Где ошибка? (0.5 балла)</summary>\n",
    "\n",
    "Утекает предыдущий массив `s_`\n",
    "\n",
    "</details>"
   ]
  },
  {
   "cell_type": "markdown",
   "metadata": {},
   "source": [
    "```c++\n",
    "String& String::operator =(const String& rhs)\n",
    "{\n",
    "    delete[] s_;\n",
    "\n",
    "    s_ = new char[rhs.l_ + 1];\n",
    "    l_ = rhs.l_;\n",
    "    strcpy(s_, rhs.s_);\n",
    "\n",
    "    return *this;\n",
    "}\n",
    "```"
   ]
  },
  {
   "cell_type": "markdown",
   "metadata": {},
   "source": [
    "<details>\n",
    "<summary>Где ошибка? (0.5 балла)</summary>\n",
    "\n",
    "Самоприсваивание\n",
    "\n",
    "</details>"
   ]
  },
  {
   "cell_type": "markdown",
   "metadata": {},
   "source": [
    "Правильная реализация будет выглядеть так:"
   ]
  },
  {
   "cell_type": "markdown",
   "metadata": {},
   "source": [
    "```c++\n",
    "String& String::operator =(const String& rhs)\n",
    "{\n",
    "    if (this != &rhs)\n",
    "    {\n",
    "        delete[] s_;\n",
    "\n",
    "        s_ = new char[rhs.l_ + 1];\n",
    "        l_ = rhs.l_;\n",
    "        strcpy(s_, rhs.s_);\n",
    "    }\n",
    "    return *this;\n",
    "}\n",
    "```"
   ]
  },
  {
   "cell_type": "markdown",
   "metadata": {},
   "source": [
    "**перемещающее присваивание**:"
   ]
  },
  {
   "cell_type": "markdown",
   "metadata": {},
   "source": [
    "**Вариант 1:** с очисткой `rhs`\n",
    "\n",
    "```c++\n",
    "String& String::operator =(String&& rhs)\n",
    "{\n",
    "    if (this != &rhs)\n",
    "    {\n",
    "        delete[] s_;\n",
    "\n",
    "        s_ = rhs.s_;\n",
    "        l_ = rhs.l_;\n",
    "\n",
    "        rhs.s_ = new char[1];\n",
    "        rhs.s_[0] = 0;\n",
    "        rhs.l_ = 0;\n",
    "    }\n",
    "\n",
    "    return *this;\n",
    "}\n",
    "```\n",
    "\n",
    "**Вариант 2:** обмен с `rhs`\n",
    "\n",
    "```c++\n",
    "String& String::operator =(String&& rhs)\n",
    "{\n",
    "    std::swap(s_, rhs.s_);\n",
    "    std::swap(l_, rhs.l_);\n",
    "    return *this;\n",
    "}\n",
    "```"
   ]
  },
  {
   "cell_type": "markdown",
   "metadata": {},
   "source": [
    "<br />"
   ]
  },
  {
   "cell_type": "markdown",
   "metadata": {},
   "source": [
    "##### Порядок конструирования"
   ]
  },
  {
   "cell_type": "markdown",
   "metadata": {},
   "source": [
    "```c++\n",
    "#include <iostream>\n",
    "\n",
    "class Name {\n",
    "public:\n",
    "    Name() { std::cout << \"Name \"; }\n",
    "    ~Name() { std::cout << \"~Name \"; }\n",
    "};\n",
    "\n",
    "class Leg {\n",
    "public:\n",
    "    Leg() { std::cout << \"Leg \"; }\n",
    "    ~Leg() { std::cout << \"~Leg \"; }\n",
    "};\n",
    "\n",
    "class Hat {\n",
    "public:\n",
    "    Hat() { std::cout << \"Hat \"; }\n",
    "    ~Hat() { std::cout << \"~Hat \"; }\n",
    "};\n",
    "\n",
    "class Animal {\n",
    "public:\n",
    "    Animal() { std::cout << \"Animal \"; }\n",
    "    ~Animal() { std::cout << \"~Animal \"; }\n",
    "\n",
    "private:\n",
    "    Name name_;\n",
    "};\n",
    "\n",
    "class Turtle : public Animal {\n",
    "public:\n",
    "    Turtle() { std::cout << \"Turtle \"; }\n",
    "    ~Turtle() { std::cout << \"~Turtle \"; }\n",
    "\n",
    "private:\n",
    "    Leg l1_, l2_, l3_, l4_;\n",
    "    Hat hat_;\n",
    "};\n",
    "\n",
    "// show this later\n",
    "// Animal animal;\n",
    "\n",
    "int main() {\n",
    "    std::cout << \"hello!\" << std::endl;\n",
    "    Turtle tortilla;\n",
    "    std::cout << std::endl << \"goodbye!\" << std::endl;\n",
    "    return 0;\n",
    "}\n",
    "```"
   ]
  },
  {
   "cell_type": "markdown",
   "metadata": {},
   "source": [
    "Порядок вызова конструкторов:\n",
    "1. сначала базовый класс\n",
    "2. потом члены в порядке их объявления\n",
    "3. потом конструктор самого класса"
   ]
  },
  {
   "cell_type": "markdown",
   "metadata": {},
   "source": [
    "Порядок вызова деструкторов:\n",
    "* обратно порядку вызова конструкторов"
   ]
  },
  {
   "cell_type": "markdown",
   "metadata": {},
   "source": [
    "Ожидаемый вывод:\n",
    "\n",
    "\n",
    "<details>\n",
    "<summary>Вывод (2 балла)</summary>\n",
    "\n",
    "hello!\n",
    "\n",
    "Name Animal Leg Leg Leg Leg Hat Turtle\n",
    "\n",
    "goodbye!\n",
    "\n",
    "~Turtle ~Hat ~Leg ~Leg ~Leg ~Leg ~Animal ~Name\n",
    "\n",
    "</details>\n",
    "\n"
   ]
  },
  {
   "cell_type": "markdown",
   "metadata": {},
   "source": [
    "___"
   ]
  },
  {
   "cell_type": "markdown",
   "metadata": {},
   "source": [
    "\n",
    "### Списки инициализации\n",
    "\n",
    "```c++\n",
    "class A\n",
    "{\n",
    "    A()\n",
    "        : x(5)\n",
    "        , y(6)\n",
    "    {\n",
    "        z = 7;\n",
    "    }\n",
    "\n",
    "    int x;\n",
    "    int y;\n",
    "    int z;\n",
    "};\n",
    "```\n",
    "\n",
    "Распространенная ошибка:\n",
    "\n",
    "```c++\n",
    "class A\n",
    "{\n",
    "    A()\n",
    "        : y(5) // Инициализация в порядке объявления в классе!\n",
    "        , x(y)\n",
    "    {\n",
    "    }\n",
    "\n",
    "    int x;\n",
    "    int y;\n",
    "};\n",
    "```"
   ]
  },
  {
   "cell_type": "markdown",
   "metadata": {},
   "source": [
    "\n",
    "### Инициализация в объявлении\n",
    "\n",
    "```c++\n",
    "class A\n",
    "{\n",
    "    int x = 3;\n",
    "};\n",
    "```"
   ]
  },
  {
   "cell_type": "markdown",
   "metadata": {},
   "source": [
    "\n",
    "### Выравнивание полей\n",
    "\n",
    "В целях повышения быстродействия данные в памяти должны быть выровнены, то есть размещены определенным образом.\n",
    "\n",
    "Предпочтительное выравнивание можно узнать:\n",
    "\n",
    "```c++\n",
    "std::cout << alignof(char) << std::endl; // 1\n",
    "std::cout << alignof(double) << std::endl; // 8\n",
    "```"
   ]
  },
  {
   "cell_type": "markdown",
   "metadata": {},
   "source": [
    "\n",
    "#### Инструменты для исследования\n",
    "\n",
    "- **sizeof(T)** - размер типа в байтах\n",
    "- **offsetof(T, M)** - смещение поля M от начала типа T\n",
    "\n",
    "```c++\n",
    "struct S\n",
    "{\n",
    "    char m1;\n",
    "    double m2;\n",
    "};\n",
    "```"
   ]
  },
  {
   "cell_type": "markdown",
   "metadata": {},
   "source": [
    "```C++\n",
    "struct S\n",
    "{\n",
    "    double m1;\n",
    "    char m2;\n",
    "    double m3;\n",
    "};\n",
    "\n",
    "int main()\n",
    "{\n",
    "    cout << sizeof(char) << endl;\n",
    "    cout << sizeof(double) << endl;\n",
    "    cout << offsetof(S, m1) << endl;\n",
    "    cout << offsetof(S, m2) << endl;\n",
    "    cout << offsetof(S, m3) << endl;\n",
    "    cout << sizeof(S) << endl;\n",
    "    return 0;\n",
    "}\n",
    "```\n",
    "\n",
    "<details>\n",
    "<summary>Вывод (1 балл)</summary>\n",
    "\n",
    "1\n",
    "\n",
    "8\n",
    "\n",
    "0\n",
    "\n",
    "8\n",
    "\n",
    "16\n",
    "\n",
    "24\n",
    "</details>\n",
    "\n"
   ]
  },
  {
   "cell_type": "markdown",
   "metadata": {},
   "source": [
    "```\n",
    "[        double        ] [         char         ] [        double        ]\n",
    "[d][d][d][d][d][d][d][d] [c][.][.][.][.][.][.][.] [d][d][d][d][d][d][d][d]\n",
    "```"
   ]
  },
  {
   "cell_type": "markdown",
   "metadata": {},
   "source": [
    "\n",
    "Выравниванием можно управлять:\n",
    "```c++\n",
    "#pragma pack(push, 1)\n",
    "class S\n",
    "{\n",
    "public:\n",
    "    double m1;\n",
    "    char m2;\n",
    "    double m3;\n",
    "};\n",
    "#pragma pack(pop)\n",
    "\n",
    "offsetof(S, m1) == 0\n",
    "offsetof(S, m2) == 8\n",
    "offsetof(S, m3) == 9\n",
    "sizeof(S) == 17\n",
    "\n",
    "```\n",
    "\n",
    "> Работать будет не всегда, компилятор может это проигнорировать, если посчитает, что сделать это нельзя"
   ]
  },
  {
   "cell_type": "markdown",
   "metadata": {},
   "source": [
    "\n",
    "#### Оптимизация размера POD структур\n",
    "\n",
    "```c++\n",
    "struct POD\n",
    "{\n",
    "    int x;\n",
    "    double y;\n",
    "    int z;\n",
    "};\n",
    "\n",
    "std::cout << sizeof(POD) << std::endl; // 24\n",
    "```\n",
    "```c++\n",
    "struct POD\n",
    "{\n",
    "    double y;\n",
    "    int x;\n",
    "    int z;\n",
    "};\n",
    "\n",
    "std::cout << sizeof(POD) << std::endl; // 16\n",
    "```"
   ]
  },
  {
   "cell_type": "markdown",
   "metadata": {},
   "source": [
    "### Простые типы (POD, Plain Old Data)\n",
    "\n",
    "1. Скалярные типы (bool, числа, указатели, перечисления (enum), nullptr_t)\n",
    "2. class или struct которые:\n",
    "    - Имеют только тривиальные (сгенерированные компилятором) конструктор, деструктор, конструктор копирования\n",
    "    - Нет виртуальных функций и базового класса\n",
    "    - Все нестатические поля с модификатором доступа public\n",
    "    - Не содержит статических полей не POD типа\n",
    "\n",
    "### Примеры\n",
    "\n",
    "```c++\n",
    "class NotPOD\n",
    "{\n",
    "public:\n",
    "    NotPOD(int x)\n",
    "    {\n",
    "    }\n",
    "};\n",
    "```\n",
    "\n",
    "```c++\n",
    "class NotPOD\n",
    "    : public Base\n",
    "{\n",
    "};\n",
    "```\n",
    "\n",
    "```c++\n",
    "class NotPOD\n",
    "{\n",
    "    virtual void f()\n",
    "    {\n",
    "    }\n",
    "};\n",
    "```\n",
    "\n",
    "```c++\n",
    "class NotPOD\n",
    "{\n",
    "    int x;\n",
    "};\n",
    "```\n",
    "\n",
    "```c++\n",
    "class POD\n",
    "{\n",
    "public:\n",
    "    NotPOD m1;\n",
    "    int m2;\n",
    "    static double m3;\n",
    "private:\n",
    "    void f() {}\n",
    "};\n",
    "```"
   ]
  },
  {
   "cell_type": "markdown",
   "metadata": {},
   "source": [
    "> Копирование простого типа - memcpy\n",
    "\n",
    "> Простые типы можно использовать для передачи из программы в программу, записи на диск и т.д. Но только на одной и той же платформе!\n",
    "\n",
    "```c++\n",
    "struct POD\n",
    "{\n",
    "    int x;\n",
    "    double y;\n",
    "\n",
    "    void serialize(File& file) const\n",
    "    {\n",
    "        file.write(this, sizeof(POD));\n",
    "    }\n",
    "};\n",
    "```\n",
    "\n",
    "### Инициализация POD типов\n",
    "\n",
    "```c++\n",
    "struct POD\n",
    "{\n",
    "    int x;\n",
    "    double y;\n",
    "};\n",
    "```\n",
    "\n",
    "Инициализация нулем (zero-initialization):\n",
    "\n",
    "```c++\n",
    "POD p1 = POD();\n",
    "POD p2 {};\n",
    "POD* p3 = new POD();\n",
    "\n",
    "// x == 0\n",
    "// y == 0\n",
    "```\n",
    "\n",
    "Инициализация по умолчанию (default-initialization):\n",
    "\n",
    "```c++\n",
    "POD p1;\n",
    "POD* p2 = new POD;\n",
    "\n",
    "// x, y содержат мусор\n",
    "```"
   ]
  },
  {
   "cell_type": "markdown",
   "metadata": {},
   "source": [
    "\n",
    "\n",
    "### Неявные приведения типов\n",
    "\n",
    "```c++\n",
    "int x = 5;\n",
    "double y = x;\n",
    "```\n",
    "\n",
    "```c++\n",
    "struct A\n",
    "{\n",
    "    A(int x) {}\n",
    "};\n",
    "\n",
    "A a = 5;\n",
    "```\n",
    "```c++\n",
    "struct A\n",
    "{\n",
    "    A(int x, int y = 3) {}\n",
    "};\n",
    "\n",
    "A a = 5;\n",
    "```\n",
    "```c++\n",
    "class BigInt\n",
    "{\n",
    "public:\n",
    "    BigInt(int64_t value) {}\n",
    "};\n",
    "\n",
    "BigInt x = 5;\n",
    "```\n",
    "\n",
    "```c++\n",
    "struct A\n",
    "{\n",
    "    explicit A(int x) {}\n",
    "};\n",
    "\n",
    "A a = 5; // Ошибка\n",
    "```"
   ]
  },
  {
   "cell_type": "markdown",
   "metadata": {},
   "source": [
    "___"
   ]
  },
  {
   "cell_type": "markdown",
   "metadata": {},
   "source": [
    "\n",
    "\n",
    "# Операторы\n",
    "\n",
    "##### Операторы сравнения\n",
    "\n",
    "```c++\n",
    "class BigInt\n",
    "{\n",
    "    static constexpr size_t Size = 256;\n",
    "    uint8_t data_[Size];\n",
    "public:\n",
    "    bool operator==(const BigInt& other) const\n",
    "    {\n",
    "        if (this == &other)\n",
    "            return true;\n",
    "\n",
    "        for (size_t i = 0; i < Size; ++i)\n",
    "            if (data_[i] != other.data_[i])\n",
    "                return false;\n",
    "\n",
    "        return true;\n",
    "    }\n",
    "\n",
    "    bool operator!=(const BigInt& other) const\n",
    "    {\n",
    "        return !(*this == other);\n",
    "    }\n",
    "};\n",
    "\n",
    "BigInt x = 5;\n",
    "\n",
    "if (c == 5)\n",
    "    ...\n",
    "```"
   ]
  },
  {
   "cell_type": "markdown",
   "metadata": {},
   "source": [
    "\n",
    "Еще операторы сравнения:\n",
    "- Меньше <\n",
    "- Больше >\n",
    "- Меньше или равно <=\n",
    "- Больше или равно >=\n"
   ]
  },
  {
   "cell_type": "markdown",
   "metadata": {},
   "source": [
    "\n",
    "##### Бинарные арифметические операторы\n",
    "\n",
    "Попробуем написать метод осуществлющий сложение двух BigInt:\n",
    "\n",
    "```c++\n",
    "class BigInt\n",
    "{\n",
    "    const BigInt& operator+(BigInt& other)\n",
    "    {\n",
    "        ...\n",
    "        return *this;\n",
    "    }\n",
    "};\n",
    "\n",
    "BigInt x = 3;\n",
    "BigInt y = 5;\n",
    "BigInt z = x + y; // ок\n",
    "BigInt z = x + y + x; // ошибка\n",
    "```\n",
    "\n",
    "```c++\n",
    "// x + y -> const BigInt\n",
    "const BigInt tmp = x.operator+(y)\n",
    "// tmp + z\n",
    "tmp.operator+(x)\n",
    "// opearator - не константный метод,\n",
    "// a tmp - константный объект\n",
    "```\n",
    "\n",
    "```c++\n",
    "class BigInt\n",
    "{\n",
    "    BigInt& operator+(BigInt& other)\n",
    "    {\n",
    "        ...\n",
    "        return *this;\n",
    "    }\n",
    "};\n",
    "\n",
    "BigInt x = 3;\n",
    "BigInt y = 5;\n",
    "BigInt z = x + y + x; // ок, но x изменился\n",
    "```\n",
    "\n",
    "```c++\n",
    "class BigInt\n",
    "{\n",
    "    BigInt operator+(BigInt& other)\n",
    "    {\n",
    "        BigInt tmp;\n",
    "        ...\n",
    "        return tmp;\n",
    "    }\n",
    "};\n",
    "\n",
    "\n",
    "BigInt x = 3;\n",
    "BigInt y = 5;\n",
    "BigInt z = x + y + x; // ок\n",
    "```\n",
    "\n",
    "```c++\n",
    "BigInt x = 3;\n",
    "const BigInt y = 5;\n",
    "BigInt z = x + y + x; // передача константного\n",
    "// объекта y по неконстантной ссылке\n",
    "```"
   ]
  },
  {
   "cell_type": "markdown",
   "metadata": {},
   "source": [
    "\n",
    "```c++\n",
    "class BigInt\n",
    "{\n",
    "    BigInt operator+(const BigInt& other)\n",
    "    {\n",
    "        BigInt tmp;\n",
    "        ...\n",
    "        return tmp;\n",
    "    }\n",
    "};\n",
    "\n",
    "BigInt x = 3;\n",
    "const BigInt y = 5;\n",
    "BigInt z = x + y + x; // ок\n",
    "```\n",
    "\n",
    "```c++\n",
    "const BigInt x = 3;\n",
    "const BigInt y = 5;\n",
    "BigInt z = x + y + x; // передача константного\n",
    "// объекта x по неконстантной ссылке\n",
    "```\n",
    "\n",
    "Финальный вариант:\n",
    "\n",
    "```c++\n",
    "class BigInt\n",
    "{\n",
    "    BigInt operator+(const BigInt& other) const\n",
    "    {\n",
    "        BigInt tmp;\n",
    "        ...\n",
    "        return tmp;\n",
    "    }\n",
    "};\n",
    "```"
   ]
  },
  {
   "cell_type": "markdown",
   "metadata": {},
   "source": [
    "\n",
    "Операторы могут не быть членами класса:\n",
    "\n",
    "```c++\n",
    "class Int128 {};\n",
    "class BigInt\n",
    "{\n",
    "    BigInt operator+(const Int128& other) const\n",
    "    {\n",
    "        ...\n",
    "    }\n",
    "};\n",
    "BigInt x = 3;\n",
    "Int128 y = 5;\n",
    "BigInt z = x + y; // ok\n",
    "BigInt z = y + x; // у Int128 нет оператора\n",
    "// сложения с BigInt\n",
    "```\n",
    "\n",
    "```c++\n",
    "class BigInt\n",
    "{\n",
    "    friend BigInt operator+(const Int128& x, const BigInt& y);\n",
    "};\n",
    "\n",
    "BigInt operator+(const Int128& x, const BigInt& y)\n",
    "{\n",
    "    ...\n",
    "}\n",
    "```"
   ]
  },
  {
   "cell_type": "markdown",
   "metadata": {},
   "source": [
    "\n",
    "Еще операторы:\n",
    "- Вычитание -\n",
    "- Деление /\n",
    "- Умножение *\n",
    "- Остаток от деления %\n",
    "\n",
    "> Для операторов действует стандартный приоритет арифметических операторов\n",
    "\n",
    "##### Унарные арифметические операторы\n",
    "\n",
    "```c++\n",
    "BigInt x = 3;\n",
    "BigInt y = -x;\n",
    "\n",
    "class BigInt\n",
    "{\n",
    "    bool isNegative_;\n",
    "public:\n",
    "    BigInt operator-() const\n",
    "    {\n",
    "        BigInt tmp(*this);\n",
    "        tmp.isNegative_ = !isNegative_;\n",
    "        return tmp;\n",
    "    }\n",
    "};\n",
    "```\n",
    "\n",
    "Для симметрии есть унарный плюс.\n"
   ]
  },
  {
   "cell_type": "markdown",
   "metadata": {},
   "source": [
    "\n",
    "#### Операторы инкремента\n",
    "\n",
    "```c++\n",
    "Int x = 3;\n",
    "++x;\n",
    "x++;\n",
    "\n",
    "class BigInt\n",
    "{\n",
    "    void increment()\n",
    "    {\n",
    "        ...\n",
    "    }\n",
    "public:\n",
    "    // ++x\n",
    "    BigInt& operator++()\n",
    "    {\n",
    "        increment();\n",
    "        return *this;\n",
    "    }\n",
    "    // x++\n",
    "    BigInt operator++(int)\n",
    "    {\n",
    "        BigInt tmp(*this);\n",
    "        increment();\n",
    "        return tmp;\n",
    "    }\n",
    "};\n",
    "```\n",
    "\n",
    "Операторы декремента аналогичны операторам инкремента.\n"
   ]
  },
  {
   "cell_type": "markdown",
   "metadata": {},
   "source": [
    "\n",
    "##### Логические операторы\n",
    "\n",
    "- Отрицание ! (унарный)\n",
    "- И (логическое умножение) &&\n",
    "- ИЛИ (логическое сложение) ||\n",
    "\n",
    "##### Битовые операторы\n",
    "\n",
    "- Инверсия ~\n",
    "- И &\n",
    "- ИЛИ |\n",
    "- Исключающее ИЛИ (xor) ^\n",
    "- Сдвиг влево <<\n",
    "- Сдвиг вправо >>\n",
    "\n",
    "##### Составное присваивание\n",
    "\n",
    "Все арифметические, логические и побитовые операции только изменяющиие состояние объекта (с = в начале).\n",
    "\n",
    "```c++\n",
    "x += 3;\n",
    "x *= 4;\n",
    "```\n",
    "\n",
    "```c++\n",
    "class BigInt\n",
    "{\n",
    "    // не константный метод, так как объект изменяется\n",
    "    void operator+=(const BigInt& other)\n",
    "    {\n",
    "        ...\n",
    "    }\n",
    "};\n",
    "```\n",
    "\n",
    "> Не канон\n",
    "\n",
    "```C++\n",
    "BigInt x = 3;\n",
    "(x += 5) + 7;\n",
    "\n",
    "class BigInt\n",
    "{\n",
    "    BigInt& operator+=(const BigInt& other)\n",
    "    {\n",
    "        ...\n",
    "        return *this;\n",
    "    }\n",
    "};\n",
    "```"
   ]
  },
  {
   "cell_type": "markdown",
   "metadata": {},
   "source": [
    "\n",
    "##### Оператор вывода в поток\n",
    "\n",
    "Не метод класса.\n",
    "\n",
    "```c++\n",
    "std::ostream& operator<<(std::ostream& out, const BigInt& value)\n",
    "{\n",
    "    out << ...;\n",
    "    return out;\n",
    "}\n",
    "\n",
    "BigInt x = 5;\n",
    "std::cout << x;\n",
    "```\n",
    "\n",
    "##### Операторы доступа\n",
    "\n",
    "Семантика доступа к массиву.\n",
    "\n",
    "```c++\n",
    "class Array\n",
    "{\n",
    "    uint8_t* data_;\n",
    "public:\n",
    "    const uint8_t& operator[](size_t i) const\n",
    "    {\n",
    "        return data_[i];\n",
    "    }\n",
    "\n",
    "    uint8_t& operator[](size_t i)\n",
    "    {\n",
    "        return data_[i];\n",
    "    }\n",
    "};\n",
    "\n",
    "Array a;\n",
    "a[3] = 4;\n",
    "\n",
    "const Array b;\n",
    "b[5] = 6; // Ошибка\n",
    "auto x = b[1]; // Ok\n",
    "```"
   ]
  },
  {
   "cell_type": "markdown",
   "metadata": {},
   "source": [
    "##### Семантика указателя"
   ]
  },
  {
   "cell_type": "markdown",
   "metadata": {},
   "source": [
    "... далее"
   ]
  },
  {
   "cell_type": "markdown",
   "metadata": {},
   "source": [
    "А пока задачка"
   ]
  }
 ],
 "metadata": {
  "kernelspec": {
   "display_name": "Python 3",
   "language": "python",
   "name": "python3"
  },
  "language_info": {
   "codemirror_mode": {
    "name": "ipython",
    "version": 3
   },
   "file_extension": ".py",
   "mimetype": "text/x-python",
   "name": "python",
   "nbconvert_exporter": "python",
   "pygments_lexer": "ipython3",
   "version": "3.6.9"
  }
 },
 "nbformat": 4,
 "nbformat_minor": 2
}
