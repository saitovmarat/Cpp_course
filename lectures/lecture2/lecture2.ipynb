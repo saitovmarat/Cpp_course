{
 "cells": [
  {
   "cell_type": "markdown",
   "metadata": {},
   "source": [
    "##### Базовые типы данных"
   ]
  },
  {
   "cell_type": "markdown",
   "metadata": {},
   "source": [
    "https://en.cppreference.com/w/cpp/language/types\n",
    "```C++\n",
    "int main()\n",
    "{\n",
    "    //\n",
    "    // boolean\n",
    "    //\n",
    "    bool b = true;\n",
    "    \n",
    "    //\n",
    "    // integer\n",
    "    //\n",
    "\n",
    "    // >= 16 bit\n",
    "    short s = 0;\n",
    "    unsigned short us = 0;\n",
    "        \n",
    "    // >= 16 bit\n",
    "    int x = 0;\n",
    "    unsigned int ux = 0;\n",
    "        \n",
    "    // >= 32 bit\n",
    "    long l = 0;\n",
    "    unsinged long ul = 0;\n",
    "\n",
    "    // >= 64 bit\n",
    "    long long ll = 0;\n",
    "    unsigned long long ull = 0;\n",
    "\n",
    "    std::int32_t i32 = 0;\n",
    "    std::int64_t i64 = 0;\n",
    "    std::uint32_t u32 = 0;\n",
    "    std::uint64_t u64 = 0;\n",
    "\n",
    "    //\n",
    "    // chars\n",
    "    //\n",
    "    char c = 0;\n",
    "    unsinged uc = 0;\n",
    "\n",
    "    std::char16_t c16 = 0;\n",
    "    std::char32_t c32 = 0;\n",
    "    \n",
    "    // 1 == sizeof(char) <= sizeof(short) <= sizeof(int) <= sizeof(long) <= sizeof(long long)\n",
    "    \n",
    "    //\n",
    "    // floats\n",
    "    //\n",
    "    float f = 0.f;        // usually 32-bit IEEE-754 type\n",
    "    double d = 0.;        // usually 64-bit IEEE-754 type\n",
    "    long double ld = 0.;  // usually 80-bit\n",
    "    \n",
    "    //\n",
    "    // pointers\n",
    "    //\n",
    "    int x = 3;\n",
    "    int y = 4;\n",
    "    int* p = nullptr;  // указатель на значение типа int\n",
    "    \n",
    "    p = &x;\n",
    "    *p = 5;  // теперь x == 5\n",
    "    p = &y;\n",
    "    *p = 6;  // теперь y == 6\n",
    "    p = nullptr;\n",
    "    *p = 7;  // ошибка\n",
    "\n",
    "    //\n",
    "    // c-style arrays:\n",
    "    //\n",
    "    int x[3] = {0, 1, 2};  // size must be known at compile time\n",
    "    x[2] = 5;\n",
    "    x[3] = 6;  // ooops\n",
    "    std::cout << \"x elements count = \" << std::size(x) << std::endl;\n",
    "\n",
    "    int y[] = {0, 1, 2};  // autodetect size at compile time\n",
    "    std::cout << \"y elements count = \" << std::size(y) << std::endl;\n",
    "\n",
    "    //\n",
    "    // c-style strings and pointers:\n",
    "    //\n",
    "    const char name[] = \"Petr\";  // array of symbols\n",
    "    std::cout << \"name length = \" << std::size(name) << std::endl;  // ?\n",
    "\n",
    "    const char *name2 = \"Petr\";  // pointer\n",
    "    // std::size(name2) вызвать нельзя, т.е. name2 - указатель\n",
    "    // вопрос: как узнать размер строки?\n",
    "\n",
    "    name2[0];  // P\n",
    "    name2[1];  // e\n",
    "    name2[2];  // t\n",
    "\n",
    "    *name2;        // P\n",
    "    *(name2 + 1);  // e\n",
    "    *(name2 + 2);  // t\n",
    "}\n",
    "```"
   ]
  },
  {
   "cell_type": "markdown",
   "metadata": {},
   "source": [
    "Пределы представления чисел:"
   ]
  },
  {
   "cell_type": "markdown",
   "metadata": {},
   "source": [
    "```c++\n",
    "// https://en.cppreference.com/w/cpp/types/numeric_limits\n",
    "    \n",
    "#include <numeric_limits>\n",
    "    \n",
    "std::numeric_limits<std::int32_t>::max()\n",
    "std::numeric_limits<std::int64_t>::min()\n",
    "    \n",
    "std::numeric_limits<float>::max()\n",
    "std::numeric_limits<float>::min()\n",
    "std::numeric_limits<float>::lowest()\n",
    "```"
   ]
  },
  {
   "cell_type": "markdown",
   "metadata": {},
   "source": [
    "<br />"
   ]
  },
  {
   "cell_type": "markdown",
   "metadata": {},
   "source": [
    "###### Управляющие конструкции языка: `if-else`"
   ]
  },
  {
   "cell_type": "markdown",
   "metadata": {},
   "source": [
    "Стандартная комбинация блоков `if-else`:\n",
    "\n",
    "```c++\n",
    "if (x % 2 == 0)\n",
    "{\n",
    "    std::puts(\"x is even\");\n",
    "}\n",
    "else\n",
    "{\n",
    "    std::puts(\"x is odd\");\n",
    "}\n",
    "```"
   ]
  },
  {
   "cell_type": "markdown",
   "metadata": {},
   "source": [
    "Блок `else` может быть опущен:\n",
    "\n",
    "```c++\n",
    "if (x % 2 == 0)\n",
    "{\n",
    "    std::puts(\"x is even\");\n",
    "}\n",
    "```"
   ]
  },
  {
   "cell_type": "markdown",
   "metadata": {},
   "source": [
    "В случае блока из одной операции скобки для краткости можно опускать:\n",
    "    \n",
    "```c++\n",
    "if (x % 2 == 0)\n",
    "    std::puts(\"x is even\");\n",
    "```"
   ]
  },
  {
   "cell_type": "markdown",
   "metadata": {},
   "source": [
    "Вычисления в условии:\n",
    "\n",
    "```c++\n",
    "if (int x = some_number())\n",
    "{\n",
    "    ... // do something with x != 0\n",
    "}\n",
    "\n",
    "if (int x = some_number(); x >= 5)\n",
    "{\n",
    "    ... // do something with x >= 5\n",
    "}\n",
    "```"
   ]
  },
  {
   "cell_type": "markdown",
   "metadata": {},
   "source": [
    "<br />"
   ]
  },
  {
   "cell_type": "markdown",
   "metadata": {},
   "source": [
    "###### Управляющие конструкции языка: циклы"
   ]
  },
  {
   "cell_type": "markdown",
   "metadata": {},
   "source": [
    "```c++\n",
    "// for loop\n",
    "for (int i = 0; i < 100; ++i)\n",
    "{\n",
    "    ...\n",
    "}\n",
    "\n",
    "// range for\n",
    "std::vector<int> v = {10, 20, 30, 40, 50};\n",
    "for (int i : v)\n",
    "{\n",
    "    ...\n",
    "}\n",
    "\n",
    "// while\n",
    "while (exression)\n",
    "{\n",
    "    ...\n",
    "}\n",
    "\n",
    "// while\n",
    "while (true) // что это?\n",
    "{\n",
    "    ...\n",
    "}\n",
    "\n",
    "// do-while\n",
    "do\n",
    "{\n",
    "    ...\n",
    "}\n",
    "while (expression);\n",
    "```"
   ]
  },
  {
   "cell_type": "markdown",
   "metadata": {},
   "source": [
    "<br />"
   ]
  },
  {
   "cell_type": "markdown",
   "metadata": {},
   "source": [
    "##### Область видимости объектов"
   ]
  },
  {
   "cell_type": "markdown",
   "metadata": {},
   "source": [
    "Область видимости _объявляемого_ объекта (переменной) ограничена блоком, в котором переменная определена.\n",
    "\n",
    "```c++\n",
    "{\n",
    "    ...;\n",
    "    int x = 5;\n",
    "    ...;\n",
    "}  // здесь заканчивается область видимости переменной x\n",
    "\n",
    "// здесь обращение к x невозможно\n",
    "```"
   ]
  },
  {
   "cell_type": "markdown",
   "metadata": {},
   "source": [
    "**Пример**:\n",
    "\n",
    "Предуперить студента, что он набрал слишком много курсов\n",
    "    \n",
    "```c++\n",
    "if (classes_count > 3)\n",
    "{\n",
    "    int excessive_count = classes_count - 3;\n",
    "    std::cout << \"too many classes, consider to leave: \"\n",
    "              << excessive_count\n",
    "              << std::endl;\n",
    "}\n",
    "// excessive_count после if недоступен, значение утеряно\n",
    "```"
   ]
  },
  {
   "cell_type": "markdown",
   "metadata": {},
   "source": [
    "**Пример** с переопределением:\n",
    "    \n",
    "```c++\n",
    "{\n",
    "    int x = 5;\n",
    "    \n",
    "    {\n",
    "        int x = 7;  // другая переменная с совпадающим именем\n",
    "                    // обратиться к прежнему x по имени нельзя\n",
    "        ...\n",
    "    }\n",
    "    \n",
    "    std::cout << x << std::endl;  // 5\n",
    "}\n",
    "```"
   ]
  },
  {
   "cell_type": "markdown",
   "metadata": {},
   "source": [
    "Область видимости _временного_ объекта ограничена выражением, в рамках которого временный объект появляется.\n",
    "\n",
    "```c++\n",
    "bool is_even(int x);\n",
    "\n",
    "bool is_sum_even(int x, int y)\n",
    "{\n",
    "    bool result = is_even(x + y);   // результат x + y живёт до ;\n",
    "    return result;                  // здесь объект (x + y) уже мёртв\n",
    "}\n",
    "```\n"
   ]
  },
  {
   "cell_type": "markdown",
   "metadata": {},
   "source": [
    "<br />"
   ]
  },
  {
   "cell_type": "markdown",
   "metadata": {},
   "source": [
    "##### Стек и куча"
   ]
  },
  {
   "cell_type": "markdown",
   "metadata": {},
   "source": [
    "![img](images/stack_and_heap.png \"Стек и куча\")\n"
   ]
  },
  {
   "cell_type": "markdown",
   "metadata": {},
   "source": [
    "_(здесь нужно рисовать как отматывается стэк и что где лежит)_\n",
    "\n",
    "```c++\n",
    "void my_function()\n",
    "{\n",
    "    int x = 500;  // value on stack\n",
    "    int *p = &x;  // pointer to value (что такое указатель?)\n",
    "    \n",
    "    *p = 42;\n",
    "    std::cout << x;  // ??\n",
    "}\n",
    "```"
   ]
  },
  {
   "cell_type": "markdown",
   "metadata": {},
   "source": [
    "Размотка стека при вызове функции (упрощённый вариант):\n",
    "\n",
    "_(здесь нужно рисовать как отматывается стэк и что где лежит)_\n",
    "\n",
    "```c++\n",
    "void make_floor()\n",
    "{\n",
    "    float side = 3.f;\n",
    "    float height = 0.2f; /* ... */\n",
    "}\n",
    "\n",
    "void make_wall()\n",
    "{\n",
    "    float height = 3.f;\n",
    "    float width = 0.2f; /* ...; */\n",
    "}\n",
    "\n",
    "void build_house()\n",
    "{\n",
    "    int price = 100500;\n",
    "    make_floor();\n",
    "    make_wall();\n",
    "    make_wall();\n",
    "    std::cout << \"your bill: \" << price << std::endl;\n",
    "}\n",
    "\n",
    "int main()\n",
    "{\n",
    "    build_house();\n",
    "    return 0;\n",
    "}\n",
    "```"
   ]
  },
  {
   "cell_type": "markdown",
   "metadata": {},
   "source": [
    "<br />"
   ]
  },
  {
   "cell_type": "markdown",
   "metadata": {},
   "source": [
    "Куча (heap):"
   ]
  },
  {
   "cell_type": "markdown",
   "metadata": {},
   "source": [
    "Размер памяти, отводимый под стек, должен быть известен на этапе компиляции.\n",
    "\n",
    "Но это не достижимо для всех задач. Например, при чтении таблицы студентов из базы данных, мы во время компиляции не можем сказать, сколько памяти нужно под таблицу. Вопрос должен решаться отложенно, во время выполнения. Для этого существует механизм \"кучи\"."
   ]
  },
  {
   "cell_type": "markdown",
   "metadata": {},
   "source": [
    "_(здесь нужно рисовать как отматывается стэк и что где лежит)_\n",
    "\n",
    "```c++\n",
    "void my_function()\n",
    "{\n",
    "    int *p = (int *)malloc(sizeof(int));  // pointer to value on heap\n",
    "    *p = 500;\n",
    "    int x = *p;                    // value on stack\n",
    "\n",
    "    *p = 42;\n",
    "    std::cout << x;  // ??\n",
    "    \n",
    "    free(p);\n",
    "}\n",
    "```"
   ]
  },
  {
   "cell_type": "markdown",
   "metadata": {},
   "source": [
    "<br />"
   ]
  },
  {
   "cell_type": "markdown",
   "metadata": {},
   "source": [
    "**Задача**: найдите ошибку\n",
    "\n",
    "```c++\n",
    "// функция возвращает указатель на ячейку памяти,\n",
    "// где лежит цена дома\n",
    "int* get_house_price()\n",
    "{\n",
    "    int price = 100500;\n",
    "    return &price;\n",
    "}\n",
    "\n",
    "int main()\n",
    "{\n",
    "    int *p = get_house_price();\n",
    "    std::cout << \"your bill: \" << *p << std::endl;\n",
    "    return 0;\n",
    "}\n",
    "```"
   ]
  },
  {
   "cell_type": "markdown",
   "metadata": {},
   "source": [
    "<br />"
   ]
  },
  {
   "cell_type": "markdown",
   "metadata": {},
   "source": [
    "##### C / C++  строки"
   ]
  },
  {
   "cell_type": "markdown",
   "metadata": {},
   "source": [
    "```c++\n",
    "//\n",
    "// С-строки\n",
    "//\n",
    "// функции стандартной библиотеки для работы со строками в стиле С\n",
    "// https://en.cppreference.com/w/cpp/string/byte\n",
    "\n",
    "// С-шная строка - это указатель на массив char, массив заканчивается нулевым символом.\n",
    "\n",
    "// Инициализация С-шной строки константными данными.\n",
    "// * Где лежит массив символов?\n",
    "// * Длина массива?\n",
    "const char* cname = \"cpushkin\";  // where? len?\n",
    "\n",
    "// Вывод С-шной строки на печать:\n",
    "std::cout << cname << std::endl;\n",
    "std::puts(cname);\n",
    "std::printf(\"%s\", cname);\n",
    "\n",
    "// Как скопировать строку?\n",
    "// Куда копировать?\n",
    "char* pcname = (char*)malloc(sizeof(char) * (strlen(cname) + 1));  // where? +1?\n",
    "std::strcpy(pcname, cname);\n",
    "std::puts(pcname);\n",
    "free(pcname);\n",
    "\n",
    "// Как сложить две строки:\n",
    "const char* greeting = \"Ai da \" + cname; // ! ERROR\n",
    "\n",
    "char *greeting = (char*)malloc(200);\n",
    "std::strcpy(\"Ai da \", greeting);\n",
    "std::strcpy(cpushkin, greeting + 6);\n",
    "std::puts(greeting);\n",
    "free(greeting);\n",
    "\n",
    "// Отметьте трудоёмкость простейших операций,\n",
    "// насколько легко допустить ошибку.\n",
    "\n",
    "\n",
    "//\n",
    "// C++ - строки\n",
    "//\n",
    "// класс стандартной строки:\n",
    "// https://en.cppreference.com/w/cpp/string/basic_string\n",
    "//\n",
    "// функции конвертации строк:\n",
    "// https://en.cppreference.com/w/cpp/string/basic_string/to_string\n",
    "\n",
    "// Инициализация С++-вой строки константными данными.\n",
    "// * Где лежит массив символов?\n",
    "// * Длина массива?\n",
    "std::string cppname = \"cpppushkin\";\n",
    "std::cout << cppname << std::endl;\n",
    "\n",
    "// Как скопировать строку?\n",
    "std::string name_copy = cppname;\n",
    "\n",
    "// Как сложить две строки:\n",
    "// 1\n",
    "std::string greeting = std::string(\"Ai da \") + cppname;\n",
    "// 2\n",
    "std::string greeting = \"Ai da \" + cppname;\n",
    "// 3\n",
    "std::string prep = \"Ai da\";\n",
    "std::string greeting = prep + \" \" + cppname; // OK\n",
    "        \n",
    "std::string* pcppname = &cppname; // что это?\n",
    "```"
   ]
  },
  {
   "cell_type": "markdown",
   "metadata": {},
   "source": [
    "<br />"
   ]
  },
  {
   "cell_type": "markdown",
   "metadata": {},
   "source": [
    "##### Функции"
   ]
  },
  {
   "cell_type": "markdown",
   "metadata": {},
   "source": [
    "Напишем функцию, вычисляющую длину двумерного вектора:\n",
    "\n",
    "Подробно рассказать что есть что в этом коде."
   ]
  },
  {
   "cell_type": "markdown",
   "metadata": {},
   "source": [
    "```c++\n",
    "float length(float x, float y)\n",
    "{\n",
    "    float sqrLength = x * x + y * y;\n",
    "    return std::sqrt(sqrLength);\n",
    "}\n",
    "```"
   ]
  },
  {
   "cell_type": "markdown",
   "metadata": {},
   "source": [
    "Вызов функции:"
   ]
  },
  {
   "cell_type": "markdown",
   "metadata": {},
   "source": [
    "```c++\n",
    "float len = length(3.f, 4.f);\n",
    "```"
   ]
  },
  {
   "cell_type": "markdown",
   "metadata": {},
   "source": [
    "Если функция не должна ничего возвращать, есть специально зарезервированное слово `void`:"
   ]
  },
  {
   "cell_type": "markdown",
   "metadata": {},
   "source": [
    "```c++\n",
    "void log_person_arrived_to_airport(const char* name)\n",
    "{\n",
    "    ...\n",
    "}\n",
    "```"
   ]
  },
  {
   "cell_type": "markdown",
   "metadata": {},
   "source": [
    "<br />"
   ]
  },
  {
   "cell_type": "markdown",
   "metadata": {},
   "source": [
    "##### Передача аргументов в функцию"
   ]
  },
  {
   "cell_type": "markdown",
   "metadata": {},
   "source": [
    "По значению:"
   ]
  },
  {
   "cell_type": "markdown",
   "metadata": {},
   "source": [
    "```c++\n",
    "void f(int n)\n",
    "{\n",
    "    ++n;\n",
    "    std::clog << n << std::endl;\n",
    "}\n",
    "\n",
    "\n",
    "x = 3;\n",
    "f(x);  // 4\n",
    "std::cout << x << std::endl;  // 3\n",
    "```"
   ]
  },
  {
   "cell_type": "markdown",
   "metadata": {},
   "source": [
    "По ссылке:"
   ]
  },
  {
   "cell_type": "markdown",
   "metadata": {},
   "source": [
    "```c++\n",
    "void f(int& n)\n",
    "{\n",
    "    n = n + 1;\n",
    "    std::clog << n << std::endl;\n",
    "}\n",
    "\n",
    "\n",
    "x = 3;\n",
    "f(x);  // 4\n",
    "std::cout << x << std::endl;  // 4\n",
    "```"
   ]
  },
  {
   "cell_type": "markdown",
   "metadata": {},
   "source": [
    "Вариант - по константной ссылке:"
   ]
  },
  {
   "cell_type": "markdown",
   "metadata": {},
   "source": [
    "```c++\n",
    "void f(const int& n)\n",
    "{\n",
    "    n = n + 1;  // COMPILER ERROR!\n",
    "    std::clog << n << std::endl;\n",
    "}\n",
    "\n",
    "\n",
    "x = 3;\n",
    "f(x);\n",
    "std::cout << x << std::endl;\n",
    "```"
   ]
  },
  {
   "cell_type": "markdown",
   "metadata": {},
   "source": [
    "<br />"
   ]
  },
  {
   "cell_type": "markdown",
   "metadata": {},
   "source": [
    "В каком случае лучше передвать по значению, а когда по ссылке?\n",
    "* дешёвые для копирования объекты - по значению\n",
    "* дорогие для копирования объекты - по ссылке"
   ]
  },
  {
   "cell_type": "markdown",
   "metadata": {},
   "source": [
    "Рассмотрим разницу:"
   ]
  },
  {
   "cell_type": "markdown",
   "metadata": {},
   "source": [
    "```c++\n",
    "std::string get_full_name(const std::string& name, const std::string& surname)\n",
    "{\n",
    "    return name + \" \" + surname;\n",
    "}\n",
    "\n",
    "std::string get_full_name(std::string name, std::string surname)\n",
    "{\n",
    "    return name + \" \" + surname;\n",
    "}\n",
    "```"
   ]
  },
  {
   "cell_type": "markdown",
   "metadata": {},
   "source": [
    "А если так, в чём проблема?"
   ]
  },
  {
   "cell_type": "markdown",
   "metadata": {},
   "source": [
    "```c++\n",
    "std::string get_full_name(std::string& name, std::string& surname)\n",
    "{\n",
    "    return name + \" \" + surname;\n",
    "}\n",
    "```"
   ]
  },
  {
   "cell_type": "markdown",
   "metadata": {},
   "source": [
    "А что происходит здесь?"
   ]
  },
  {
   "cell_type": "markdown",
   "metadata": {},
   "source": [
    "```c++\n",
    "std::string get_full_name(std::string *name, std::string *surname)\n",
    "{\n",
    "    return *name + \" \" + *surname;\n",
    "}\n",
    "```"
   ]
  },
  {
   "cell_type": "markdown",
   "metadata": {},
   "source": [
    "<br />"
   ]
  },
  {
   "cell_type": "markdown",
   "metadata": {},
   "source": [
    "##### Ввод-вывод средствами С и C++"
   ]
  },
  {
   "cell_type": "markdown",
   "metadata": {},
   "source": [
    "**Задача**: посчитать сумму 500 000 целых чисел из потока ввода.\n",
    "\n",
    "Решим эту задачу средствами С и С++ и оценим различия в подходах."
   ]
  },
  {
   "cell_type": "markdown",
   "metadata": {},
   "source": [
    "Сгенерируем тестовые данные:"
   ]
  },
  {
   "cell_type": "code",
   "execution_count": 4,
   "metadata": {},
   "outputs": [],
   "source": [
    "import random\n",
    "count = 500_000\n",
    "with open('input.txt', 'w') as f:\n",
    "    f.write(' '.join([str(random.randint(1, 5)) for _ in range(count)]))"
   ]
  },
  {
   "cell_type": "markdown",
   "metadata": {},
   "source": [
    "Решение задачи с использованием средства ввода-вывода С:"
   ]
  },
  {
   "cell_type": "markdown",
   "metadata": {},
   "source": [
    "```c++\n",
    "#include <cstdio>\n",
    "\n",
    "int main()\n",
    "{\n",
    "    int sum = 0;\n",
    "    for (int i = 0; i < 500'000; ++i)\n",
    "    {\n",
    "        int x = 0;\n",
    "        std::scanf(\"%i\", &x);\n",
    "        sum += x;\n",
    "    }\n",
    "    std::printf(\"%i\\n\", sum);\n",
    "    return 0;\n",
    "}\n",
    "```"
   ]
  },
  {
   "cell_type": "markdown",
   "metadata": {},
   "source": [
    "Со спецификацией форматов можно ознакомиться [здесь](https://en.cppreference.com/w/cpp/io/c/fprintf)"
   ]
  },
  {
   "cell_type": "markdown",
   "metadata": {},
   "source": [
    "Решение задачи с использованием средства ввода-вывода С++:"
   ]
  },
  {
   "cell_type": "markdown",
   "metadata": {},
   "source": [
    "```c++\n",
    "#include <iostream>\n",
    "\n",
    "\n",
    "int main()\n",
    "{\n",
    "\tint sum = 0;\n",
    "\tfor (int i = 0; i < 500'000; ++i)\n",
    "\t{\n",
    "\t\tint x = 0;\n",
    "\t\tstd::cin >> x;\n",
    "\t\tsum += x;\n",
    "\t}\n",
    "\tstd::cout << sum << std::endl;\n",
    "\treturn 0;\n",
    "}\n",
    "```"
   ]
  },
  {
   "cell_type": "markdown",
   "metadata": {},
   "source": [
    "Скомпилируем решения:"
   ]
  },
  {
   "cell_type": "code",
   "execution_count": 1,
   "metadata": {},
   "outputs": [
    {
     "name": "stdout",
     "output_type": "stream",
     "text": [
      "Ubuntu clang version 14.0.0-1ubuntu1.1\n",
      "Target: x86_64-pc-linux-gnu\n",
      "Thread model: posix\n",
      "InstalledDir: /usr/bin\n"
     ]
    }
   ],
   "source": [
    "!clang++ --version"
   ]
  },
  {
   "cell_type": "code",
   "execution_count": 11,
   "metadata": {},
   "outputs": [
    {
     "name": "stdout",
     "output_type": "stream",
     "text": [
      "\u001b[01m\u001b[Ksum500.c:\u001b[m\u001b[K In function ‘\u001b[01m\u001b[Kmain\u001b[m\u001b[K’:\n",
      "\u001b[01m\u001b[Ksum500.c:9:9:\u001b[m\u001b[K \u001b[01;35m\u001b[Kwarning: \u001b[m\u001b[Kignoring return value of ‘\u001b[01m\u001b[Kscanf\u001b[m\u001b[K’ declared with attribute ‘\u001b[01m\u001b[Kwarn_unused_result\u001b[m\u001b[K’ [\u001b[01;35m\u001b[K\u001b]8;;https://gcc.gnu.org/onlinedocs/gcc/Warning-Options.html#index-Wunused-result\u0007-Wunused-result\u001b]8;;\u0007\u001b[m\u001b[K]\n",
      "    9 |         \u001b[01;35m\u001b[Kscanf(\"%i\", &x)\u001b[m\u001b[K;\n",
      "      |         \u001b[01;35m\u001b[K^~~~~~~~~~~~~~~\u001b[m\u001b[K\n",
      "\n",
      "real\t0m0,074s\n",
      "user\t0m0,035s\n",
      "sys\t0m0,006s\n"
     ]
    }
   ],
   "source": [
    "!time gcc -O3 sum500.c -o /tmp/sum500c"
   ]
  },
  {
   "cell_type": "code",
   "execution_count": 12,
   "metadata": {},
   "outputs": [
    {
     "name": "stdout",
     "output_type": "stream",
     "text": [
      "\n",
      "real\t0m0,465s\n",
      "user\t0m0,380s\n",
      "sys\t0m0,038s\n"
     ]
    }
   ],
   "source": [
    "!time g++ -O3 sum500.cpp -o /tmp/sum500cpp"
   ]
  },
  {
   "cell_type": "markdown",
   "metadata": {},
   "source": [
    "Проверим размеры исполняемых файлов"
   ]
  },
  {
   "cell_type": "code",
   "execution_count": 8,
   "metadata": {},
   "outputs": [
    {
     "name": "stdout",
     "output_type": "stream",
     "text": [
      "-rwxrwxr-x 1 maxim maxim 18K сен  5 01:32 ./build/sum500c\n",
      "-rwxrwxr-x 1 maxim maxim 33K сен  5 01:32 ./build/sum500cpp\n"
     ]
    }
   ],
   "source": [
    "!ls -lh ./build/sum500*"
   ]
  },
  {
   "cell_type": "markdown",
   "metadata": {},
   "source": [
    "Зайдём на godbolt.org и посмотрим на причину, почему исполняемый файл для С++ - решения стал шире"
   ]
  },
  {
   "cell_type": "markdown",
   "metadata": {},
   "source": [
    "Запустим, проверим, какое работает быстрее"
   ]
  },
  {
   "cell_type": "code",
   "execution_count": 6,
   "metadata": {},
   "outputs": [
    {
     "name": "stdout",
     "output_type": "stream",
     "text": [
      "execution time: 0:00.02\r\n",
      "500000\r\n"
     ]
    }
   ],
   "source": [
    "!time -f \"execution time: %E\" cat input.txt | /tmp/sum500c"
   ]
  },
  {
   "cell_type": "code",
   "execution_count": 7,
   "metadata": {},
   "outputs": [
    {
     "name": "stdout",
     "output_type": "stream",
     "text": [
      "execution time: 0:00.05\r\n",
      "500000\r\n"
     ]
    }
   ],
   "source": [
    "!time -f \"execution time: %E\" cat input.txt | /tmp/sum500cpp"
   ]
  },
  {
   "cell_type": "markdown",
   "metadata": {},
   "source": [
    "Вопросы для обсуждения:\n",
    "* Почему?\n",
    "* Всегда ли решение в стиле С работает быстрее?"
   ]
  },
  {
   "cell_type": "markdown",
   "metadata": {},
   "source": [
    "<br />"
   ]
  },
  {
   "cell_type": "markdown",
   "metadata": {},
   "source": [
    "Сравнение:\n",
    "\n",
    "С:\n",
    "* быстрая компиляция\n",
    "* быстрое выполнение\n",
    "* меньше размер исходного файла\n",
    "\n",
    "C++:\n",
    "* типобезопасно\n",
    "\n",
    "  ```c++\n",
    "  scanf(**\"%i\"**, &i);\n",
    "  ```\n",
    "\n",
    "\n",
    "* меньше ошибок при множественной записи / чтении:\n",
    "  ```c++\n",
    "  printf(\"%i %f %u\", i, z, n);\n",
    "  std::cout << i << ' ' << z << ' ' << n;\n",
    "  ```\n",
    "\n",
    "* меньше ошибок с адресной арифметикой\n",
    "\n",
    "  ```c++\n",
    "  scanf(\"%i\", **&**i);\n",
    "  ```\n",
    "\n",
    "\n",
    "<br />\n",
    "\n",
    "**Вывод**: если программа упирается в ввод-вывод - используем С - вариант, если нет - С++ - вариант."
   ]
  },
  {
   "cell_type": "markdown",
   "metadata": {},
   "source": [
    "<br />"
   ]
  },
  {
   "cell_type": "markdown",
   "metadata": {},
   "source": [
    "> main.cpp\n",
    "\n",
    "```C++\n",
    "#include <iostream>\n",
    "#include <cstdlib>\n",
    "\n",
    "int main(int argc, char* argv[])\n",
    "{\n",
    "  std::cout\n",
    "    << \"Hello World!\" << std::endl;\n",
    "  return EXIT_SUCCESS;\n",
    "}\n",
    "```\n",
    "> CMakeLists.txt\n",
    "\n",
    "```CMake\n",
    "set(TARGET \"${CMAKE_PROJECT_NAME}\")\n",
    "\n",
    "# не переусложняем, - просто с одним файлом main.cpp, - его и подключаем\n",
    "add_executable(${TARGET} main.cpp)\n",
    "\n",
    "# требуем, чтобы компилятор поддерживал c++17\n",
    "set_target_properties(\n",
    "  ${TARGET} PROPERTIES\n",
    "  CXX_STANDARD 17\n",
    "  CXX_STANDARD_REQUIRED ON\n",
    ")\n",
    "```\n"
   ]
  },
  {
   "cell_type": "markdown",
   "metadata": {},
   "source": [
    "##### Работа с командной строкой"
   ]
  },
  {
   "cell_type": "markdown",
   "metadata": {},
   "source": [
    "Общепринят формат передачи аргументов командной строки в программу, в котором аргументы делятся на:\n",
    "* позиционные\n",
    "* флажки\n",
    "* именованные со значением\n",
    "\n",
    "Пример программы `ls`, выводящей содержимое папки:\n",
    "\n",
    "```\n",
    "ls /usr/bin -a --human-readable --color=always\n",
    "ls -a --color always --human-readable /usr/bin\n",
    "```\n",
    "\n",
    "описание опций можно прочитать, набрав `ls --help`:\n",
    "\n",
    "```\n",
    "  -a, --all                  do not ignore entries starting with .\n",
    "  -h, --human-readable       with -l and/or -s, print human readable sizes\n",
    "                               (e.g., 1K 234M 2G)\n",
    "      --color[=WHEN]         colorize the output; WHEN can be 'always' (default\n",
    "                               if omitted), 'auto', or 'never'; more info below\n",
    "```"
   ]
  },
  {
   "cell_type": "markdown",
   "metadata": {},
   "source": [
    "# **Задача**: вывести аргументы командной строки, переданные консольной утилите"
   ]
  },
  {
   "cell_type": "markdown",
   "metadata": {},
   "source": [
    "Скомпилируем"
   ]
  },
  {
   "cell_type": "code",
   "execution_count": 9,
   "metadata": {},
   "outputs": [],
   "source": [
    "!g++ -O3 task_args.cpp -o a.out"
   ]
  },
  {
   "cell_type": "markdown",
   "metadata": {},
   "source": [
    "Протестируем"
   ]
  },
  {
   "cell_type": "code",
   "execution_count": 10,
   "metadata": {},
   "outputs": [
    {
     "name": "stdout",
     "output_type": "stream",
     "text": [
      "command line arguments are:\r\n",
      "    0 -> ./a.out\r\n",
      "    1 -> /usr/bin\r\n",
      "    2 -> -a\r\n",
      "    3 -> --human-readable\r\n",
      "    4 -> --color=always\r\n"
     ]
    }
   ],
   "source": [
    "!./a.out /usr/bin -a --human-readable --color=always"
   ]
  },
  {
   "cell_type": "code",
   "execution_count": 11,
   "metadata": {},
   "outputs": [
    {
     "name": "stdout",
     "output_type": "stream",
     "text": [
      "command line arguments are:\r\n",
      "    0 -> ./a.out\r\n",
      "    1 -> /usr/bin\r\n",
      "    2 -> -a\r\n",
      "    3 -> --human-readable\r\n",
      "    4 -> --color\r\n",
      "    5 -> always\r\n"
     ]
    }
   ],
   "source": [
    "!./a.out /usr/bin -a --human-readable --color always"
   ]
  },
  {
   "cell_type": "code",
   "execution_count": 12,
   "metadata": {},
   "outputs": [
    {
     "name": "stdout",
     "output_type": "stream",
     "text": [
      "command line arguments are:\r\n",
      "    0 -> ./a.out\r\n",
      "    1 -> /usr/bin/my awesome app dir\r\n",
      "    2 -> -a\r\n",
      "    3 -> --human-readable\r\n",
      "    4 -> --color=always\r\n"
     ]
    }
   ],
   "source": [
    "!./a.out \"/usr/bin/my awesome app dir\" -a --human-readable --color=always"
   ]
  },
  {
   "cell_type": "markdown",
   "metadata": {},
   "source": [
    "Готовые решения:\n",
    "\n",
    "* C++, cross-platform [`boost::program_options`](https://www.boost.org/doc/libs/1_58_0/doc/html/program_options.html)\n",
    "* C, unix-only [`getopt`](https://www.gnu.org/software/libc/manual/html_node/Example-of-Getopt.html)"
   ]
  }
 ],
 "metadata": {
  "kernelspec": {
   "display_name": "Python 3",
   "language": "python",
   "name": "python3"
  },
  "language_info": {
   "codemirror_mode": {
    "name": "ipython",
    "version": 3
   },
   "file_extension": ".py",
   "mimetype": "text/x-python",
   "name": "python",
   "nbconvert_exporter": "python",
   "pygments_lexer": "ipython3",
   "version": "3.10.12"
  }
 },
 "nbformat": 4,
 "nbformat_minor": 2
}
